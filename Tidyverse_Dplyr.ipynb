{
  "nbformat": 4,
  "nbformat_minor": 0,
  "metadata": {
    "colab": {
      "provenance": []
    },
    "kernelspec": {
      "name": "ir",
      "display_name": "R"
    },
    "language_info": {
      "name": "R"
    }
  },
  "cells": [
    {
      "cell_type": "code",
      "execution_count": 59,
      "metadata": {
        "colab": {
          "base_uri": "https://localhost:8080/"
        },
        "id": "QQRxjDNYwlQJ",
        "outputId": "2f4ca40a-b572-471d-b47f-1afaf8da6907"
      },
      "outputs": [
        {
          "output_type": "stream",
          "name": "stderr",
          "text": [
            "Installing package into ‘/usr/local/lib/R/site-library’\n",
            "(as ‘lib’ is unspecified)\n",
            "\n"
          ]
        }
      ],
      "source": [
        "install.packages(\"dplyr\")"
      ]
    },
    {
      "cell_type": "code",
      "source": [
        "library(dplyr)"
      ],
      "metadata": {
        "id": "BCEDnxCpyG00"
      },
      "execution_count": 60,
      "outputs": []
    },
    {
      "cell_type": "code",
      "source": [
        "library(tidyverse)"
      ],
      "metadata": {
        "id": "mfekF59i_Ne9"
      },
      "execution_count": 61,
      "outputs": []
    },
    {
      "cell_type": "code",
      "source": [
        "glimpse(mtcars)"
      ],
      "metadata": {
        "colab": {
          "base_uri": "https://localhost:8080/"
        },
        "id": "5sBQFqvHyaoP",
        "outputId": "0189395e-b676-47ca-fbfa-67ea36ca3b9f"
      },
      "execution_count": 62,
      "outputs": [
        {
          "output_type": "stream",
          "name": "stdout",
          "text": [
            "Rows: 32\n",
            "Columns: 11\n",
            "$ mpg  \u001b[3m\u001b[90m<dbl>\u001b[39m\u001b[23m 21.0, 21.0, 22.8, 21.4, 18.7, 18.1, 14.3, 24.4, 22.8, 19.2, 17.8,…\n",
            "$ cyl  \u001b[3m\u001b[90m<dbl>\u001b[39m\u001b[23m 6, 6, 4, 6, 8, 6, 8, 4, 4, 6, 6, 8, 8, 8, 8, 8, 8, 4, 4, 4, 4, 8,…\n",
            "$ disp \u001b[3m\u001b[90m<dbl>\u001b[39m\u001b[23m 160.0, 160.0, 108.0, 258.0, 360.0, 225.0, 360.0, 146.7, 140.8, 16…\n",
            "$ hp   \u001b[3m\u001b[90m<dbl>\u001b[39m\u001b[23m 110, 110, 93, 110, 175, 105, 245, 62, 95, 123, 123, 180, 180, 180…\n",
            "$ drat \u001b[3m\u001b[90m<dbl>\u001b[39m\u001b[23m 3.90, 3.90, 3.85, 3.08, 3.15, 2.76, 3.21, 3.69, 3.92, 3.92, 3.92,…\n",
            "$ wt   \u001b[3m\u001b[90m<dbl>\u001b[39m\u001b[23m 2.620, 2.875, 2.320, 3.215, 3.440, 3.460, 3.570, 3.190, 3.150, 3.…\n",
            "$ qsec \u001b[3m\u001b[90m<dbl>\u001b[39m\u001b[23m 16.46, 17.02, 18.61, 19.44, 17.02, 20.22, 15.84, 20.00, 22.90, 18…\n",
            "$ vs   \u001b[3m\u001b[90m<dbl>\u001b[39m\u001b[23m 0, 0, 1, 1, 0, 1, 0, 1, 1, 1, 1, 0, 0, 0, 0, 0, 0, 1, 1, 1, 1, 0,…\n",
            "$ am   \u001b[3m\u001b[90m<dbl>\u001b[39m\u001b[23m 1, 1, 1, 0, 0, 0, 0, 0, 0, 0, 0, 0, 0, 0, 0, 0, 0, 1, 1, 1, 0, 0,…\n",
            "$ gear \u001b[3m\u001b[90m<dbl>\u001b[39m\u001b[23m 4, 4, 4, 3, 3, 3, 3, 4, 4, 4, 4, 3, 3, 3, 3, 3, 3, 4, 4, 4, 3, 3,…\n",
            "$ carb \u001b[3m\u001b[90m<dbl>\u001b[39m\u001b[23m 4, 4, 1, 1, 2, 1, 4, 2, 2, 4, 4, 3, 3, 3, 4, 4, 4, 1, 2, 1, 1, 2,…\n"
          ]
        }
      ]
    },
    {
      "cell_type": "code",
      "source": [
        "str(mtcars)"
      ],
      "metadata": {
        "colab": {
          "base_uri": "https://localhost:8080/"
        },
        "id": "JojQCjvf3zvc",
        "outputId": "232857b1-8635-43e1-da33-7a67ba534c17"
      },
      "execution_count": 63,
      "outputs": [
        {
          "output_type": "stream",
          "name": "stdout",
          "text": [
            "'data.frame':\t32 obs. of  11 variables:\n",
            " $ mpg : num  21 21 22.8 21.4 18.7 18.1 14.3 24.4 22.8 19.2 ...\n",
            " $ cyl : num  6 6 4 6 8 6 8 4 4 6 ...\n",
            " $ disp: num  160 160 108 258 360 ...\n",
            " $ hp  : num  110 110 93 110 175 105 245 62 95 123 ...\n",
            " $ drat: num  3.9 3.9 3.85 3.08 3.15 2.76 3.21 3.69 3.92 3.92 ...\n",
            " $ wt  : num  2.62 2.88 2.32 3.21 3.44 ...\n",
            " $ qsec: num  16.5 17 18.6 19.4 17 ...\n",
            " $ vs  : num  0 0 1 1 0 1 0 1 1 1 ...\n",
            " $ am  : num  1 1 1 0 0 0 0 0 0 0 ...\n",
            " $ gear: num  4 4 4 3 3 3 3 4 4 4 ...\n",
            " $ carb: num  4 4 1 1 2 1 4 2 2 4 ...\n"
          ]
        }
      ]
    },
    {
      "cell_type": "markdown",
      "source": [
        "# **dplyr: Pipes**"
      ],
      "metadata": {
        "id": "gKnDSVmnEmsX"
      }
    },
    {
      "cell_type": "markdown",
      "source": [
        " The pipe operator %>% is a special symbol available after you load the dplyr package that lets you use the result of one function as the input to another function that comes after the pipe. Pipes essentially let you chain several functions together, creating a flow or pipeline of operations."
      ],
      "metadata": {
        "id": "5JgzPYpKEh2N"
      }
    },
    {
      "cell_type": "code",
      "source": [
        "predictions <- c(4,5,6,3,4,6,8,3,5,7)\n",
        "actual <- c(6,4,6,8,6,4,5,6,8,6,4)"
      ],
      "metadata": {
        "id": "8_n0A0Yh4HCV"
      },
      "execution_count": 64,
      "outputs": []
    },
    {
      "cell_type": "code",
      "source": [
        "mean((actual-predictions)^2) %>% sqrt()"
      ],
      "metadata": {
        "colab": {
          "base_uri": "https://localhost:8080/",
          "height": 69
        },
        "id": "vuy9qnxh5SGu",
        "outputId": "b7df26ee-ded7-4442-b497-0e6b52ac619c"
      },
      "execution_count": 65,
      "outputs": [
        {
          "output_type": "stream",
          "name": "stderr",
          "text": [
            "Warning message in actual - predictions:\n",
            "“longer object length is not a multiple of shorter object length”\n"
          ]
        },
        {
          "output_type": "display_data",
          "data": {
            "text/html": [
              "2.44948974278318"
            ],
            "text/markdown": "2.44948974278318",
            "text/latex": "2.44948974278318",
            "text/plain": [
              "[1] 2.44949"
            ]
          },
          "metadata": {}
        }
      ]
    },
    {
      "cell_type": "code",
      "source": [
        "sqrt(mean((actual-predictions)^2))"
      ],
      "metadata": {
        "colab": {
          "base_uri": "https://localhost:8080/",
          "height": 69
        },
        "id": "qtIL5_So5uzo",
        "outputId": "4ce6b711-7e56-4a06-ae2f-2aeef1de2294"
      },
      "execution_count": 66,
      "outputs": [
        {
          "output_type": "stream",
          "name": "stderr",
          "text": [
            "Warning message in actual - predictions:\n",
            "“longer object length is not a multiple of shorter object length”\n"
          ]
        },
        {
          "output_type": "display_data",
          "data": {
            "text/html": [
              "2.44948974278318"
            ],
            "text/markdown": "2.44948974278318",
            "text/latex": "2.44948974278318",
            "text/plain": [
              "[1] 2.44949"
            ]
          },
          "metadata": {}
        }
      ]
    },
    {
      "cell_type": "code",
      "source": [
        "data <- mtcars\n",
        "data %>% rownames_to_column(\"model\") %>%\n",
        "          filter(cyl==4)  %>%\n",
        "          mutate(hp_per_1000=hp/wt) %>%\n",
        "          select(model,mpg,hp,wt,hp_per_1000) %>%\n",
        "          arrange(desc(hp_per_1000))"
      ],
      "metadata": {
        "colab": {
          "base_uri": "https://localhost:8080/",
          "height": 443
        },
        "id": "g_BQ-IGr62Nv",
        "outputId": "12d659e9-0ece-477e-cfcd-75208577afdd"
      },
      "execution_count": 67,
      "outputs": [
        {
          "output_type": "display_data",
          "data": {
            "text/html": [
              "<table class=\"dataframe\">\n",
              "<caption>A data.frame: 11 × 5</caption>\n",
              "<thead>\n",
              "\t<tr><th scope=col>model</th><th scope=col>mpg</th><th scope=col>hp</th><th scope=col>wt</th><th scope=col>hp_per_1000</th></tr>\n",
              "\t<tr><th scope=col>&lt;chr&gt;</th><th scope=col>&lt;dbl&gt;</th><th scope=col>&lt;dbl&gt;</th><th scope=col>&lt;dbl&gt;</th><th scope=col>&lt;dbl&gt;</th></tr>\n",
              "</thead>\n",
              "<tbody>\n",
              "\t<tr><td>Lotus Europa  </td><td>30.4</td><td>113</td><td>1.513</td><td>74.68605</td></tr>\n",
              "\t<tr><td>Porsche 914-2 </td><td>26.0</td><td> 91</td><td>2.140</td><td>42.52336</td></tr>\n",
              "\t<tr><td>Datsun 710    </td><td>22.8</td><td> 93</td><td>2.320</td><td>40.08621</td></tr>\n",
              "\t<tr><td>Toyota Corona </td><td>21.5</td><td> 97</td><td>2.465</td><td>39.35091</td></tr>\n",
              "\t<tr><td>Volvo 142E    </td><td>21.4</td><td>109</td><td>2.780</td><td>39.20863</td></tr>\n",
              "\t<tr><td>Toyota Corolla</td><td>33.9</td><td> 65</td><td>1.835</td><td>35.42234</td></tr>\n",
              "\t<tr><td>Fiat X1-9     </td><td>27.3</td><td> 66</td><td>1.935</td><td>34.10853</td></tr>\n",
              "\t<tr><td>Honda Civic   </td><td>30.4</td><td> 52</td><td>1.615</td><td>32.19814</td></tr>\n",
              "\t<tr><td>Merc 230      </td><td>22.8</td><td> 95</td><td>3.150</td><td>30.15873</td></tr>\n",
              "\t<tr><td>Fiat 128      </td><td>32.4</td><td> 66</td><td>2.200</td><td>30.00000</td></tr>\n",
              "\t<tr><td>Merc 240D     </td><td>24.4</td><td> 62</td><td>3.190</td><td>19.43574</td></tr>\n",
              "</tbody>\n",
              "</table>\n"
            ],
            "text/markdown": "\nA data.frame: 11 × 5\n\n| model &lt;chr&gt; | mpg &lt;dbl&gt; | hp &lt;dbl&gt; | wt &lt;dbl&gt; | hp_per_1000 &lt;dbl&gt; |\n|---|---|---|---|---|\n| Lotus Europa   | 30.4 | 113 | 1.513 | 74.68605 |\n| Porsche 914-2  | 26.0 |  91 | 2.140 | 42.52336 |\n| Datsun 710     | 22.8 |  93 | 2.320 | 40.08621 |\n| Toyota Corona  | 21.5 |  97 | 2.465 | 39.35091 |\n| Volvo 142E     | 21.4 | 109 | 2.780 | 39.20863 |\n| Toyota Corolla | 33.9 |  65 | 1.835 | 35.42234 |\n| Fiat X1-9      | 27.3 |  66 | 1.935 | 34.10853 |\n| Honda Civic    | 30.4 |  52 | 1.615 | 32.19814 |\n| Merc 230       | 22.8 |  95 | 3.150 | 30.15873 |\n| Fiat 128       | 32.4 |  66 | 2.200 | 30.00000 |\n| Merc 240D      | 24.4 |  62 | 3.190 | 19.43574 |\n\n",
            "text/latex": "A data.frame: 11 × 5\n\\begin{tabular}{lllll}\n model & mpg & hp & wt & hp\\_per\\_1000\\\\\n <chr> & <dbl> & <dbl> & <dbl> & <dbl>\\\\\n\\hline\n\t Lotus Europa   & 30.4 & 113 & 1.513 & 74.68605\\\\\n\t Porsche 914-2  & 26.0 &  91 & 2.140 & 42.52336\\\\\n\t Datsun 710     & 22.8 &  93 & 2.320 & 40.08621\\\\\n\t Toyota Corona  & 21.5 &  97 & 2.465 & 39.35091\\\\\n\t Volvo 142E     & 21.4 & 109 & 2.780 & 39.20863\\\\\n\t Toyota Corolla & 33.9 &  65 & 1.835 & 35.42234\\\\\n\t Fiat X1-9      & 27.3 &  66 & 1.935 & 34.10853\\\\\n\t Honda Civic    & 30.4 &  52 & 1.615 & 32.19814\\\\\n\t Merc 230       & 22.8 &  95 & 3.150 & 30.15873\\\\\n\t Fiat 128       & 32.4 &  66 & 2.200 & 30.00000\\\\\n\t Merc 240D      & 24.4 &  62 & 3.190 & 19.43574\\\\\n\\end{tabular}\n",
            "text/plain": [
              "   model          mpg  hp  wt    hp_per_1000\n",
              "1  Lotus Europa   30.4 113 1.513 74.68605   \n",
              "2  Porsche 914-2  26.0  91 2.140 42.52336   \n",
              "3  Datsun 710     22.8  93 2.320 40.08621   \n",
              "4  Toyota Corona  21.5  97 2.465 39.35091   \n",
              "5  Volvo 142E     21.4 109 2.780 39.20863   \n",
              "6  Toyota Corolla 33.9  65 1.835 35.42234   \n",
              "7  Fiat X1-9      27.3  66 1.935 34.10853   \n",
              "8  Honda Civic    30.4  52 1.615 32.19814   \n",
              "9  Merc 230       22.8  95 3.150 30.15873   \n",
              "10 Fiat 128       32.4  66 2.200 30.00000   \n",
              "11 Merc 240D      24.4  62 3.190 19.43574   "
            ]
          },
          "metadata": {}
        }
      ]
    },
    {
      "cell_type": "code",
      "source": [
        "arrange(select(mutate(filter(rownames_to_column(data, \"model\"), cyl == 4), hp_per_1000 = hp/wt), model,mpg,hp,wt,hp_per_1000), desc(hp_per_1000))"
      ],
      "metadata": {
        "colab": {
          "base_uri": "https://localhost:8080/",
          "height": 443
        },
        "id": "FDpzGo0dBi24",
        "outputId": "ef898309-52bd-4b11-fb8c-8d8d014dce7a"
      },
      "execution_count": 68,
      "outputs": [
        {
          "output_type": "display_data",
          "data": {
            "text/html": [
              "<table class=\"dataframe\">\n",
              "<caption>A data.frame: 11 × 5</caption>\n",
              "<thead>\n",
              "\t<tr><th scope=col>model</th><th scope=col>mpg</th><th scope=col>hp</th><th scope=col>wt</th><th scope=col>hp_per_1000</th></tr>\n",
              "\t<tr><th scope=col>&lt;chr&gt;</th><th scope=col>&lt;dbl&gt;</th><th scope=col>&lt;dbl&gt;</th><th scope=col>&lt;dbl&gt;</th><th scope=col>&lt;dbl&gt;</th></tr>\n",
              "</thead>\n",
              "<tbody>\n",
              "\t<tr><td>Lotus Europa  </td><td>30.4</td><td>113</td><td>1.513</td><td>74.68605</td></tr>\n",
              "\t<tr><td>Porsche 914-2 </td><td>26.0</td><td> 91</td><td>2.140</td><td>42.52336</td></tr>\n",
              "\t<tr><td>Datsun 710    </td><td>22.8</td><td> 93</td><td>2.320</td><td>40.08621</td></tr>\n",
              "\t<tr><td>Toyota Corona </td><td>21.5</td><td> 97</td><td>2.465</td><td>39.35091</td></tr>\n",
              "\t<tr><td>Volvo 142E    </td><td>21.4</td><td>109</td><td>2.780</td><td>39.20863</td></tr>\n",
              "\t<tr><td>Toyota Corolla</td><td>33.9</td><td> 65</td><td>1.835</td><td>35.42234</td></tr>\n",
              "\t<tr><td>Fiat X1-9     </td><td>27.3</td><td> 66</td><td>1.935</td><td>34.10853</td></tr>\n",
              "\t<tr><td>Honda Civic   </td><td>30.4</td><td> 52</td><td>1.615</td><td>32.19814</td></tr>\n",
              "\t<tr><td>Merc 230      </td><td>22.8</td><td> 95</td><td>3.150</td><td>30.15873</td></tr>\n",
              "\t<tr><td>Fiat 128      </td><td>32.4</td><td> 66</td><td>2.200</td><td>30.00000</td></tr>\n",
              "\t<tr><td>Merc 240D     </td><td>24.4</td><td> 62</td><td>3.190</td><td>19.43574</td></tr>\n",
              "</tbody>\n",
              "</table>\n"
            ],
            "text/markdown": "\nA data.frame: 11 × 5\n\n| model &lt;chr&gt; | mpg &lt;dbl&gt; | hp &lt;dbl&gt; | wt &lt;dbl&gt; | hp_per_1000 &lt;dbl&gt; |\n|---|---|---|---|---|\n| Lotus Europa   | 30.4 | 113 | 1.513 | 74.68605 |\n| Porsche 914-2  | 26.0 |  91 | 2.140 | 42.52336 |\n| Datsun 710     | 22.8 |  93 | 2.320 | 40.08621 |\n| Toyota Corona  | 21.5 |  97 | 2.465 | 39.35091 |\n| Volvo 142E     | 21.4 | 109 | 2.780 | 39.20863 |\n| Toyota Corolla | 33.9 |  65 | 1.835 | 35.42234 |\n| Fiat X1-9      | 27.3 |  66 | 1.935 | 34.10853 |\n| Honda Civic    | 30.4 |  52 | 1.615 | 32.19814 |\n| Merc 230       | 22.8 |  95 | 3.150 | 30.15873 |\n| Fiat 128       | 32.4 |  66 | 2.200 | 30.00000 |\n| Merc 240D      | 24.4 |  62 | 3.190 | 19.43574 |\n\n",
            "text/latex": "A data.frame: 11 × 5\n\\begin{tabular}{lllll}\n model & mpg & hp & wt & hp\\_per\\_1000\\\\\n <chr> & <dbl> & <dbl> & <dbl> & <dbl>\\\\\n\\hline\n\t Lotus Europa   & 30.4 & 113 & 1.513 & 74.68605\\\\\n\t Porsche 914-2  & 26.0 &  91 & 2.140 & 42.52336\\\\\n\t Datsun 710     & 22.8 &  93 & 2.320 & 40.08621\\\\\n\t Toyota Corona  & 21.5 &  97 & 2.465 & 39.35091\\\\\n\t Volvo 142E     & 21.4 & 109 & 2.780 & 39.20863\\\\\n\t Toyota Corolla & 33.9 &  65 & 1.835 & 35.42234\\\\\n\t Fiat X1-9      & 27.3 &  66 & 1.935 & 34.10853\\\\\n\t Honda Civic    & 30.4 &  52 & 1.615 & 32.19814\\\\\n\t Merc 230       & 22.8 &  95 & 3.150 & 30.15873\\\\\n\t Fiat 128       & 32.4 &  66 & 2.200 & 30.00000\\\\\n\t Merc 240D      & 24.4 &  62 & 3.190 & 19.43574\\\\\n\\end{tabular}\n",
            "text/plain": [
              "   model          mpg  hp  wt    hp_per_1000\n",
              "1  Lotus Europa   30.4 113 1.513 74.68605   \n",
              "2  Porsche 914-2  26.0  91 2.140 42.52336   \n",
              "3  Datsun 710     22.8  93 2.320 40.08621   \n",
              "4  Toyota Corona  21.5  97 2.465 39.35091   \n",
              "5  Volvo 142E     21.4 109 2.780 39.20863   \n",
              "6  Toyota Corolla 33.9  65 1.835 35.42234   \n",
              "7  Fiat X1-9      27.3  66 1.935 34.10853   \n",
              "8  Honda Civic    30.4  52 1.615 32.19814   \n",
              "9  Merc 230       22.8  95 3.150 30.15873   \n",
              "10 Fiat 128       32.4  66 2.200 30.00000   \n",
              "11 Merc 240D      24.4  62 3.190 19.43574   "
            ]
          },
          "metadata": {}
        }
      ]
    },
    {
      "cell_type": "markdown",
      "source": [
        "# **dplyr : Filter**"
      ],
      "metadata": {
        "id": "C3RjuBT_E_XK"
      }
    },
    {
      "cell_type": "markdown",
      "source": [
        "The filter() function in dplyr lets you extract rows from a data frame based on logical criteria."
      ],
      "metadata": {
        "id": "jjcaaGIPFESn"
      }
    },
    {
      "cell_type": "code",
      "source": [
        "data %>% filter(mpg>20)"
      ],
      "metadata": {
        "colab": {
          "base_uri": "https://localhost:8080/",
          "height": 800
        },
        "id": "I-iCo_9VD97N",
        "outputId": "d1d019a2-181d-44a7-aea7-0e998382573f"
      },
      "execution_count": 69,
      "outputs": [
        {
          "output_type": "display_data",
          "data": {
            "text/html": [
              "<table class=\"dataframe\">\n",
              "<caption>A data.frame: 14 × 11</caption>\n",
              "<thead>\n",
              "\t<tr><th></th><th scope=col>mpg</th><th scope=col>cyl</th><th scope=col>disp</th><th scope=col>hp</th><th scope=col>drat</th><th scope=col>wt</th><th scope=col>qsec</th><th scope=col>vs</th><th scope=col>am</th><th scope=col>gear</th><th scope=col>carb</th></tr>\n",
              "\t<tr><th></th><th scope=col>&lt;dbl&gt;</th><th scope=col>&lt;dbl&gt;</th><th scope=col>&lt;dbl&gt;</th><th scope=col>&lt;dbl&gt;</th><th scope=col>&lt;dbl&gt;</th><th scope=col>&lt;dbl&gt;</th><th scope=col>&lt;dbl&gt;</th><th scope=col>&lt;dbl&gt;</th><th scope=col>&lt;dbl&gt;</th><th scope=col>&lt;dbl&gt;</th><th scope=col>&lt;dbl&gt;</th></tr>\n",
              "</thead>\n",
              "<tbody>\n",
              "\t<tr><th scope=row>Mazda RX4</th><td>21.0</td><td>6</td><td>160.0</td><td>110</td><td>3.90</td><td>2.620</td><td>16.46</td><td>0</td><td>1</td><td>4</td><td>4</td></tr>\n",
              "\t<tr><th scope=row>Mazda RX4 Wag</th><td>21.0</td><td>6</td><td>160.0</td><td>110</td><td>3.90</td><td>2.875</td><td>17.02</td><td>0</td><td>1</td><td>4</td><td>4</td></tr>\n",
              "\t<tr><th scope=row>Datsun 710</th><td>22.8</td><td>4</td><td>108.0</td><td> 93</td><td>3.85</td><td>2.320</td><td>18.61</td><td>1</td><td>1</td><td>4</td><td>1</td></tr>\n",
              "\t<tr><th scope=row>Hornet 4 Drive</th><td>21.4</td><td>6</td><td>258.0</td><td>110</td><td>3.08</td><td>3.215</td><td>19.44</td><td>1</td><td>0</td><td>3</td><td>1</td></tr>\n",
              "\t<tr><th scope=row>Merc 240D</th><td>24.4</td><td>4</td><td>146.7</td><td> 62</td><td>3.69</td><td>3.190</td><td>20.00</td><td>1</td><td>0</td><td>4</td><td>2</td></tr>\n",
              "\t<tr><th scope=row>Merc 230</th><td>22.8</td><td>4</td><td>140.8</td><td> 95</td><td>3.92</td><td>3.150</td><td>22.90</td><td>1</td><td>0</td><td>4</td><td>2</td></tr>\n",
              "\t<tr><th scope=row>Fiat 128</th><td>32.4</td><td>4</td><td> 78.7</td><td> 66</td><td>4.08</td><td>2.200</td><td>19.47</td><td>1</td><td>1</td><td>4</td><td>1</td></tr>\n",
              "\t<tr><th scope=row>Honda Civic</th><td>30.4</td><td>4</td><td> 75.7</td><td> 52</td><td>4.93</td><td>1.615</td><td>18.52</td><td>1</td><td>1</td><td>4</td><td>2</td></tr>\n",
              "\t<tr><th scope=row>Toyota Corolla</th><td>33.9</td><td>4</td><td> 71.1</td><td> 65</td><td>4.22</td><td>1.835</td><td>19.90</td><td>1</td><td>1</td><td>4</td><td>1</td></tr>\n",
              "\t<tr><th scope=row>Toyota Corona</th><td>21.5</td><td>4</td><td>120.1</td><td> 97</td><td>3.70</td><td>2.465</td><td>20.01</td><td>1</td><td>0</td><td>3</td><td>1</td></tr>\n",
              "\t<tr><th scope=row>Fiat X1-9</th><td>27.3</td><td>4</td><td> 79.0</td><td> 66</td><td>4.08</td><td>1.935</td><td>18.90</td><td>1</td><td>1</td><td>4</td><td>1</td></tr>\n",
              "\t<tr><th scope=row>Porsche 914-2</th><td>26.0</td><td>4</td><td>120.3</td><td> 91</td><td>4.43</td><td>2.140</td><td>16.70</td><td>0</td><td>1</td><td>5</td><td>2</td></tr>\n",
              "\t<tr><th scope=row>Lotus Europa</th><td>30.4</td><td>4</td><td> 95.1</td><td>113</td><td>3.77</td><td>1.513</td><td>16.90</td><td>1</td><td>1</td><td>5</td><td>2</td></tr>\n",
              "\t<tr><th scope=row>Volvo 142E</th><td>21.4</td><td>4</td><td>121.0</td><td>109</td><td>4.11</td><td>2.780</td><td>18.60</td><td>1</td><td>1</td><td>4</td><td>2</td></tr>\n",
              "</tbody>\n",
              "</table>\n"
            ],
            "text/markdown": "\nA data.frame: 14 × 11\n\n| <!--/--> | mpg &lt;dbl&gt; | cyl &lt;dbl&gt; | disp &lt;dbl&gt; | hp &lt;dbl&gt; | drat &lt;dbl&gt; | wt &lt;dbl&gt; | qsec &lt;dbl&gt; | vs &lt;dbl&gt; | am &lt;dbl&gt; | gear &lt;dbl&gt; | carb &lt;dbl&gt; |\n|---|---|---|---|---|---|---|---|---|---|---|---|\n| Mazda RX4 | 21.0 | 6 | 160.0 | 110 | 3.90 | 2.620 | 16.46 | 0 | 1 | 4 | 4 |\n| Mazda RX4 Wag | 21.0 | 6 | 160.0 | 110 | 3.90 | 2.875 | 17.02 | 0 | 1 | 4 | 4 |\n| Datsun 710 | 22.8 | 4 | 108.0 |  93 | 3.85 | 2.320 | 18.61 | 1 | 1 | 4 | 1 |\n| Hornet 4 Drive | 21.4 | 6 | 258.0 | 110 | 3.08 | 3.215 | 19.44 | 1 | 0 | 3 | 1 |\n| Merc 240D | 24.4 | 4 | 146.7 |  62 | 3.69 | 3.190 | 20.00 | 1 | 0 | 4 | 2 |\n| Merc 230 | 22.8 | 4 | 140.8 |  95 | 3.92 | 3.150 | 22.90 | 1 | 0 | 4 | 2 |\n| Fiat 128 | 32.4 | 4 |  78.7 |  66 | 4.08 | 2.200 | 19.47 | 1 | 1 | 4 | 1 |\n| Honda Civic | 30.4 | 4 |  75.7 |  52 | 4.93 | 1.615 | 18.52 | 1 | 1 | 4 | 2 |\n| Toyota Corolla | 33.9 | 4 |  71.1 |  65 | 4.22 | 1.835 | 19.90 | 1 | 1 | 4 | 1 |\n| Toyota Corona | 21.5 | 4 | 120.1 |  97 | 3.70 | 2.465 | 20.01 | 1 | 0 | 3 | 1 |\n| Fiat X1-9 | 27.3 | 4 |  79.0 |  66 | 4.08 | 1.935 | 18.90 | 1 | 1 | 4 | 1 |\n| Porsche 914-2 | 26.0 | 4 | 120.3 |  91 | 4.43 | 2.140 | 16.70 | 0 | 1 | 5 | 2 |\n| Lotus Europa | 30.4 | 4 |  95.1 | 113 | 3.77 | 1.513 | 16.90 | 1 | 1 | 5 | 2 |\n| Volvo 142E | 21.4 | 4 | 121.0 | 109 | 4.11 | 2.780 | 18.60 | 1 | 1 | 4 | 2 |\n\n",
            "text/latex": "A data.frame: 14 × 11\n\\begin{tabular}{r|lllllllllll}\n  & mpg & cyl & disp & hp & drat & wt & qsec & vs & am & gear & carb\\\\\n  & <dbl> & <dbl> & <dbl> & <dbl> & <dbl> & <dbl> & <dbl> & <dbl> & <dbl> & <dbl> & <dbl>\\\\\n\\hline\n\tMazda RX4 & 21.0 & 6 & 160.0 & 110 & 3.90 & 2.620 & 16.46 & 0 & 1 & 4 & 4\\\\\n\tMazda RX4 Wag & 21.0 & 6 & 160.0 & 110 & 3.90 & 2.875 & 17.02 & 0 & 1 & 4 & 4\\\\\n\tDatsun 710 & 22.8 & 4 & 108.0 &  93 & 3.85 & 2.320 & 18.61 & 1 & 1 & 4 & 1\\\\\n\tHornet 4 Drive & 21.4 & 6 & 258.0 & 110 & 3.08 & 3.215 & 19.44 & 1 & 0 & 3 & 1\\\\\n\tMerc 240D & 24.4 & 4 & 146.7 &  62 & 3.69 & 3.190 & 20.00 & 1 & 0 & 4 & 2\\\\\n\tMerc 230 & 22.8 & 4 & 140.8 &  95 & 3.92 & 3.150 & 22.90 & 1 & 0 & 4 & 2\\\\\n\tFiat 128 & 32.4 & 4 &  78.7 &  66 & 4.08 & 2.200 & 19.47 & 1 & 1 & 4 & 1\\\\\n\tHonda Civic & 30.4 & 4 &  75.7 &  52 & 4.93 & 1.615 & 18.52 & 1 & 1 & 4 & 2\\\\\n\tToyota Corolla & 33.9 & 4 &  71.1 &  65 & 4.22 & 1.835 & 19.90 & 1 & 1 & 4 & 1\\\\\n\tToyota Corona & 21.5 & 4 & 120.1 &  97 & 3.70 & 2.465 & 20.01 & 1 & 0 & 3 & 1\\\\\n\tFiat X1-9 & 27.3 & 4 &  79.0 &  66 & 4.08 & 1.935 & 18.90 & 1 & 1 & 4 & 1\\\\\n\tPorsche 914-2 & 26.0 & 4 & 120.3 &  91 & 4.43 & 2.140 & 16.70 & 0 & 1 & 5 & 2\\\\\n\tLotus Europa & 30.4 & 4 &  95.1 & 113 & 3.77 & 1.513 & 16.90 & 1 & 1 & 5 & 2\\\\\n\tVolvo 142E & 21.4 & 4 & 121.0 & 109 & 4.11 & 2.780 & 18.60 & 1 & 1 & 4 & 2\\\\\n\\end{tabular}\n",
            "text/plain": [
              "               mpg  cyl disp  hp  drat wt    qsec  vs am gear carb\n",
              "Mazda RX4      21.0 6   160.0 110 3.90 2.620 16.46 0  1  4    4   \n",
              "Mazda RX4 Wag  21.0 6   160.0 110 3.90 2.875 17.02 0  1  4    4   \n",
              "Datsun 710     22.8 4   108.0  93 3.85 2.320 18.61 1  1  4    1   \n",
              "Hornet 4 Drive 21.4 6   258.0 110 3.08 3.215 19.44 1  0  3    1   \n",
              "Merc 240D      24.4 4   146.7  62 3.69 3.190 20.00 1  0  4    2   \n",
              "Merc 230       22.8 4   140.8  95 3.92 3.150 22.90 1  0  4    2   \n",
              "Fiat 128       32.4 4    78.7  66 4.08 2.200 19.47 1  1  4    1   \n",
              "Honda Civic    30.4 4    75.7  52 4.93 1.615 18.52 1  1  4    2   \n",
              "Toyota Corolla 33.9 4    71.1  65 4.22 1.835 19.90 1  1  4    1   \n",
              "Toyota Corona  21.5 4   120.1  97 3.70 2.465 20.01 1  0  3    1   \n",
              "Fiat X1-9      27.3 4    79.0  66 4.08 1.935 18.90 1  1  4    1   \n",
              "Porsche 914-2  26.0 4   120.3  91 4.43 2.140 16.70 0  1  5    2   \n",
              "Lotus Europa   30.4 4    95.1 113 3.77 1.513 16.90 1  1  5    2   \n",
              "Volvo 142E     21.4 4   121.0 109 4.11 2.780 18.60 1  1  4    2   "
            ]
          },
          "metadata": {}
        }
      ]
    },
    {
      "cell_type": "code",
      "source": [
        "data %>% filter(mpg>20, cyl==6)"
      ],
      "metadata": {
        "colab": {
          "base_uri": "https://localhost:8080/",
          "height": 299
        },
        "id": "mlXFjW0YGEk8",
        "outputId": "7991caaa-4f48-4460-c6ff-13834eddf3f3"
      },
      "execution_count": 70,
      "outputs": [
        {
          "output_type": "display_data",
          "data": {
            "text/html": [
              "<table class=\"dataframe\">\n",
              "<caption>A data.frame: 3 × 11</caption>\n",
              "<thead>\n",
              "\t<tr><th></th><th scope=col>mpg</th><th scope=col>cyl</th><th scope=col>disp</th><th scope=col>hp</th><th scope=col>drat</th><th scope=col>wt</th><th scope=col>qsec</th><th scope=col>vs</th><th scope=col>am</th><th scope=col>gear</th><th scope=col>carb</th></tr>\n",
              "\t<tr><th></th><th scope=col>&lt;dbl&gt;</th><th scope=col>&lt;dbl&gt;</th><th scope=col>&lt;dbl&gt;</th><th scope=col>&lt;dbl&gt;</th><th scope=col>&lt;dbl&gt;</th><th scope=col>&lt;dbl&gt;</th><th scope=col>&lt;dbl&gt;</th><th scope=col>&lt;dbl&gt;</th><th scope=col>&lt;dbl&gt;</th><th scope=col>&lt;dbl&gt;</th><th scope=col>&lt;dbl&gt;</th></tr>\n",
              "</thead>\n",
              "<tbody>\n",
              "\t<tr><th scope=row>Mazda RX4</th><td>21.0</td><td>6</td><td>160</td><td>110</td><td>3.90</td><td>2.620</td><td>16.46</td><td>0</td><td>1</td><td>4</td><td>4</td></tr>\n",
              "\t<tr><th scope=row>Mazda RX4 Wag</th><td>21.0</td><td>6</td><td>160</td><td>110</td><td>3.90</td><td>2.875</td><td>17.02</td><td>0</td><td>1</td><td>4</td><td>4</td></tr>\n",
              "\t<tr><th scope=row>Hornet 4 Drive</th><td>21.4</td><td>6</td><td>258</td><td>110</td><td>3.08</td><td>3.215</td><td>19.44</td><td>1</td><td>0</td><td>3</td><td>1</td></tr>\n",
              "</tbody>\n",
              "</table>\n"
            ],
            "text/markdown": "\nA data.frame: 3 × 11\n\n| <!--/--> | mpg &lt;dbl&gt; | cyl &lt;dbl&gt; | disp &lt;dbl&gt; | hp &lt;dbl&gt; | drat &lt;dbl&gt; | wt &lt;dbl&gt; | qsec &lt;dbl&gt; | vs &lt;dbl&gt; | am &lt;dbl&gt; | gear &lt;dbl&gt; | carb &lt;dbl&gt; |\n|---|---|---|---|---|---|---|---|---|---|---|---|\n| Mazda RX4 | 21.0 | 6 | 160 | 110 | 3.90 | 2.620 | 16.46 | 0 | 1 | 4 | 4 |\n| Mazda RX4 Wag | 21.0 | 6 | 160 | 110 | 3.90 | 2.875 | 17.02 | 0 | 1 | 4 | 4 |\n| Hornet 4 Drive | 21.4 | 6 | 258 | 110 | 3.08 | 3.215 | 19.44 | 1 | 0 | 3 | 1 |\n\n",
            "text/latex": "A data.frame: 3 × 11\n\\begin{tabular}{r|lllllllllll}\n  & mpg & cyl & disp & hp & drat & wt & qsec & vs & am & gear & carb\\\\\n  & <dbl> & <dbl> & <dbl> & <dbl> & <dbl> & <dbl> & <dbl> & <dbl> & <dbl> & <dbl> & <dbl>\\\\\n\\hline\n\tMazda RX4 & 21.0 & 6 & 160 & 110 & 3.90 & 2.620 & 16.46 & 0 & 1 & 4 & 4\\\\\n\tMazda RX4 Wag & 21.0 & 6 & 160 & 110 & 3.90 & 2.875 & 17.02 & 0 & 1 & 4 & 4\\\\\n\tHornet 4 Drive & 21.4 & 6 & 258 & 110 & 3.08 & 3.215 & 19.44 & 1 & 0 & 3 & 1\\\\\n\\end{tabular}\n",
            "text/plain": [
              "               mpg  cyl disp hp  drat wt    qsec  vs am gear carb\n",
              "Mazda RX4      21.0 6   160  110 3.90 2.620 16.46 0  1  4    4   \n",
              "Mazda RX4 Wag  21.0 6   160  110 3.90 2.875 17.02 0  1  4    4   \n",
              "Hornet 4 Drive 21.4 6   258  110 3.08 3.215 19.44 1  0  3    1   "
            ]
          },
          "metadata": {}
        }
      ]
    },
    {
      "cell_type": "code",
      "source": [
        "#without filter\n",
        "data[data$mpg > 20 & data$cyl ==6, ]"
      ],
      "metadata": {
        "colab": {
          "base_uri": "https://localhost:8080/",
          "height": 299
        },
        "id": "upfwSrNjGSSc",
        "outputId": "72fca2c5-c013-4b23-b13c-e724c43e6958"
      },
      "execution_count": 71,
      "outputs": [
        {
          "output_type": "display_data",
          "data": {
            "text/html": [
              "<table class=\"dataframe\">\n",
              "<caption>A data.frame: 3 × 11</caption>\n",
              "<thead>\n",
              "\t<tr><th></th><th scope=col>mpg</th><th scope=col>cyl</th><th scope=col>disp</th><th scope=col>hp</th><th scope=col>drat</th><th scope=col>wt</th><th scope=col>qsec</th><th scope=col>vs</th><th scope=col>am</th><th scope=col>gear</th><th scope=col>carb</th></tr>\n",
              "\t<tr><th></th><th scope=col>&lt;dbl&gt;</th><th scope=col>&lt;dbl&gt;</th><th scope=col>&lt;dbl&gt;</th><th scope=col>&lt;dbl&gt;</th><th scope=col>&lt;dbl&gt;</th><th scope=col>&lt;dbl&gt;</th><th scope=col>&lt;dbl&gt;</th><th scope=col>&lt;dbl&gt;</th><th scope=col>&lt;dbl&gt;</th><th scope=col>&lt;dbl&gt;</th><th scope=col>&lt;dbl&gt;</th></tr>\n",
              "</thead>\n",
              "<tbody>\n",
              "\t<tr><th scope=row>Mazda RX4</th><td>21.0</td><td>6</td><td>160</td><td>110</td><td>3.90</td><td>2.620</td><td>16.46</td><td>0</td><td>1</td><td>4</td><td>4</td></tr>\n",
              "\t<tr><th scope=row>Mazda RX4 Wag</th><td>21.0</td><td>6</td><td>160</td><td>110</td><td>3.90</td><td>2.875</td><td>17.02</td><td>0</td><td>1</td><td>4</td><td>4</td></tr>\n",
              "\t<tr><th scope=row>Hornet 4 Drive</th><td>21.4</td><td>6</td><td>258</td><td>110</td><td>3.08</td><td>3.215</td><td>19.44</td><td>1</td><td>0</td><td>3</td><td>1</td></tr>\n",
              "</tbody>\n",
              "</table>\n"
            ],
            "text/markdown": "\nA data.frame: 3 × 11\n\n| <!--/--> | mpg &lt;dbl&gt; | cyl &lt;dbl&gt; | disp &lt;dbl&gt; | hp &lt;dbl&gt; | drat &lt;dbl&gt; | wt &lt;dbl&gt; | qsec &lt;dbl&gt; | vs &lt;dbl&gt; | am &lt;dbl&gt; | gear &lt;dbl&gt; | carb &lt;dbl&gt; |\n|---|---|---|---|---|---|---|---|---|---|---|---|\n| Mazda RX4 | 21.0 | 6 | 160 | 110 | 3.90 | 2.620 | 16.46 | 0 | 1 | 4 | 4 |\n| Mazda RX4 Wag | 21.0 | 6 | 160 | 110 | 3.90 | 2.875 | 17.02 | 0 | 1 | 4 | 4 |\n| Hornet 4 Drive | 21.4 | 6 | 258 | 110 | 3.08 | 3.215 | 19.44 | 1 | 0 | 3 | 1 |\n\n",
            "text/latex": "A data.frame: 3 × 11\n\\begin{tabular}{r|lllllllllll}\n  & mpg & cyl & disp & hp & drat & wt & qsec & vs & am & gear & carb\\\\\n  & <dbl> & <dbl> & <dbl> & <dbl> & <dbl> & <dbl> & <dbl> & <dbl> & <dbl> & <dbl> & <dbl>\\\\\n\\hline\n\tMazda RX4 & 21.0 & 6 & 160 & 110 & 3.90 & 2.620 & 16.46 & 0 & 1 & 4 & 4\\\\\n\tMazda RX4 Wag & 21.0 & 6 & 160 & 110 & 3.90 & 2.875 & 17.02 & 0 & 1 & 4 & 4\\\\\n\tHornet 4 Drive & 21.4 & 6 & 258 & 110 & 3.08 & 3.215 & 19.44 & 1 & 0 & 3 & 1\\\\\n\\end{tabular}\n",
            "text/plain": [
              "               mpg  cyl disp hp  drat wt    qsec  vs am gear carb\n",
              "Mazda RX4      21.0 6   160  110 3.90 2.620 16.46 0  1  4    4   \n",
              "Mazda RX4 Wag  21.0 6   160  110 3.90 2.875 17.02 0  1  4    4   \n",
              "Hornet 4 Drive 21.4 6   258  110 3.08 3.215 19.44 1  0  3    1   "
            ]
          },
          "metadata": {}
        }
      ]
    },
    {
      "cell_type": "code",
      "source": [
        "#special subsetting functions\n",
        "#top_n\n",
        "data %>% top_n(5,mpg)"
      ],
      "metadata": {
        "colab": {
          "base_uri": "https://localhost:8080/",
          "height": 361
        },
        "id": "19znf3LQHGtZ",
        "outputId": "6287f9e7-b8b3-4b58-9f9a-3c4b4fbc6a70"
      },
      "execution_count": 72,
      "outputs": [
        {
          "output_type": "display_data",
          "data": {
            "text/html": [
              "<table class=\"dataframe\">\n",
              "<caption>A data.frame: 5 × 11</caption>\n",
              "<thead>\n",
              "\t<tr><th></th><th scope=col>mpg</th><th scope=col>cyl</th><th scope=col>disp</th><th scope=col>hp</th><th scope=col>drat</th><th scope=col>wt</th><th scope=col>qsec</th><th scope=col>vs</th><th scope=col>am</th><th scope=col>gear</th><th scope=col>carb</th></tr>\n",
              "\t<tr><th></th><th scope=col>&lt;dbl&gt;</th><th scope=col>&lt;dbl&gt;</th><th scope=col>&lt;dbl&gt;</th><th scope=col>&lt;dbl&gt;</th><th scope=col>&lt;dbl&gt;</th><th scope=col>&lt;dbl&gt;</th><th scope=col>&lt;dbl&gt;</th><th scope=col>&lt;dbl&gt;</th><th scope=col>&lt;dbl&gt;</th><th scope=col>&lt;dbl&gt;</th><th scope=col>&lt;dbl&gt;</th></tr>\n",
              "</thead>\n",
              "<tbody>\n",
              "\t<tr><th scope=row>Fiat 128</th><td>32.4</td><td>4</td><td>78.7</td><td> 66</td><td>4.08</td><td>2.200</td><td>19.47</td><td>1</td><td>1</td><td>4</td><td>1</td></tr>\n",
              "\t<tr><th scope=row>Honda Civic</th><td>30.4</td><td>4</td><td>75.7</td><td> 52</td><td>4.93</td><td>1.615</td><td>18.52</td><td>1</td><td>1</td><td>4</td><td>2</td></tr>\n",
              "\t<tr><th scope=row>Toyota Corolla</th><td>33.9</td><td>4</td><td>71.1</td><td> 65</td><td>4.22</td><td>1.835</td><td>19.90</td><td>1</td><td>1</td><td>4</td><td>1</td></tr>\n",
              "\t<tr><th scope=row>Fiat X1-9</th><td>27.3</td><td>4</td><td>79.0</td><td> 66</td><td>4.08</td><td>1.935</td><td>18.90</td><td>1</td><td>1</td><td>4</td><td>1</td></tr>\n",
              "\t<tr><th scope=row>Lotus Europa</th><td>30.4</td><td>4</td><td>95.1</td><td>113</td><td>3.77</td><td>1.513</td><td>16.90</td><td>1</td><td>1</td><td>5</td><td>2</td></tr>\n",
              "</tbody>\n",
              "</table>\n"
            ],
            "text/markdown": "\nA data.frame: 5 × 11\n\n| <!--/--> | mpg &lt;dbl&gt; | cyl &lt;dbl&gt; | disp &lt;dbl&gt; | hp &lt;dbl&gt; | drat &lt;dbl&gt; | wt &lt;dbl&gt; | qsec &lt;dbl&gt; | vs &lt;dbl&gt; | am &lt;dbl&gt; | gear &lt;dbl&gt; | carb &lt;dbl&gt; |\n|---|---|---|---|---|---|---|---|---|---|---|---|\n| Fiat 128 | 32.4 | 4 | 78.7 |  66 | 4.08 | 2.200 | 19.47 | 1 | 1 | 4 | 1 |\n| Honda Civic | 30.4 | 4 | 75.7 |  52 | 4.93 | 1.615 | 18.52 | 1 | 1 | 4 | 2 |\n| Toyota Corolla | 33.9 | 4 | 71.1 |  65 | 4.22 | 1.835 | 19.90 | 1 | 1 | 4 | 1 |\n| Fiat X1-9 | 27.3 | 4 | 79.0 |  66 | 4.08 | 1.935 | 18.90 | 1 | 1 | 4 | 1 |\n| Lotus Europa | 30.4 | 4 | 95.1 | 113 | 3.77 | 1.513 | 16.90 | 1 | 1 | 5 | 2 |\n\n",
            "text/latex": "A data.frame: 5 × 11\n\\begin{tabular}{r|lllllllllll}\n  & mpg & cyl & disp & hp & drat & wt & qsec & vs & am & gear & carb\\\\\n  & <dbl> & <dbl> & <dbl> & <dbl> & <dbl> & <dbl> & <dbl> & <dbl> & <dbl> & <dbl> & <dbl>\\\\\n\\hline\n\tFiat 128 & 32.4 & 4 & 78.7 &  66 & 4.08 & 2.200 & 19.47 & 1 & 1 & 4 & 1\\\\\n\tHonda Civic & 30.4 & 4 & 75.7 &  52 & 4.93 & 1.615 & 18.52 & 1 & 1 & 4 & 2\\\\\n\tToyota Corolla & 33.9 & 4 & 71.1 &  65 & 4.22 & 1.835 & 19.90 & 1 & 1 & 4 & 1\\\\\n\tFiat X1-9 & 27.3 & 4 & 79.0 &  66 & 4.08 & 1.935 & 18.90 & 1 & 1 & 4 & 1\\\\\n\tLotus Europa & 30.4 & 4 & 95.1 & 113 & 3.77 & 1.513 & 16.90 & 1 & 1 & 5 & 2\\\\\n\\end{tabular}\n",
            "text/plain": [
              "               mpg  cyl disp hp  drat wt    qsec  vs am gear carb\n",
              "Fiat 128       32.4 4   78.7  66 4.08 2.200 19.47 1  1  4    1   \n",
              "Honda Civic    30.4 4   75.7  52 4.93 1.615 18.52 1  1  4    2   \n",
              "Toyota Corolla 33.9 4   71.1  65 4.22 1.835 19.90 1  1  4    1   \n",
              "Fiat X1-9      27.3 4   79.0  66 4.08 1.935 18.90 1  1  4    1   \n",
              "Lotus Europa   30.4 4   95.1 113 3.77 1.513 16.90 1  1  5    2   "
            ]
          },
          "metadata": {}
        }
      ]
    },
    {
      "cell_type": "code",
      "source": [
        "#slice() gets row by index position\n",
        "data %>% slice(1,3,5)"
      ],
      "metadata": {
        "colab": {
          "base_uri": "https://localhost:8080/",
          "height": 247
        },
        "id": "kklmLZzWHwsc",
        "outputId": "83dded3c-a73a-447e-be72-f03d9e74f420"
      },
      "execution_count": 73,
      "outputs": [
        {
          "output_type": "display_data",
          "data": {
            "text/html": [
              "<table class=\"dataframe\">\n",
              "<caption>A data.frame: 3 × 11</caption>\n",
              "<thead>\n",
              "\t<tr><th></th><th scope=col>mpg</th><th scope=col>cyl</th><th scope=col>disp</th><th scope=col>hp</th><th scope=col>drat</th><th scope=col>wt</th><th scope=col>qsec</th><th scope=col>vs</th><th scope=col>am</th><th scope=col>gear</th><th scope=col>carb</th></tr>\n",
              "\t<tr><th></th><th scope=col>&lt;dbl&gt;</th><th scope=col>&lt;dbl&gt;</th><th scope=col>&lt;dbl&gt;</th><th scope=col>&lt;dbl&gt;</th><th scope=col>&lt;dbl&gt;</th><th scope=col>&lt;dbl&gt;</th><th scope=col>&lt;dbl&gt;</th><th scope=col>&lt;dbl&gt;</th><th scope=col>&lt;dbl&gt;</th><th scope=col>&lt;dbl&gt;</th><th scope=col>&lt;dbl&gt;</th></tr>\n",
              "</thead>\n",
              "<tbody>\n",
              "\t<tr><th scope=row>Mazda RX4</th><td>21.0</td><td>6</td><td>160</td><td>110</td><td>3.90</td><td>2.62</td><td>16.46</td><td>0</td><td>1</td><td>4</td><td>4</td></tr>\n",
              "\t<tr><th scope=row>Datsun 710</th><td>22.8</td><td>4</td><td>108</td><td> 93</td><td>3.85</td><td>2.32</td><td>18.61</td><td>1</td><td>1</td><td>4</td><td>1</td></tr>\n",
              "\t<tr><th scope=row>Hornet Sportabout</th><td>18.7</td><td>8</td><td>360</td><td>175</td><td>3.15</td><td>3.44</td><td>17.02</td><td>0</td><td>0</td><td>3</td><td>2</td></tr>\n",
              "</tbody>\n",
              "</table>\n"
            ],
            "text/markdown": "\nA data.frame: 3 × 11\n\n| <!--/--> | mpg &lt;dbl&gt; | cyl &lt;dbl&gt; | disp &lt;dbl&gt; | hp &lt;dbl&gt; | drat &lt;dbl&gt; | wt &lt;dbl&gt; | qsec &lt;dbl&gt; | vs &lt;dbl&gt; | am &lt;dbl&gt; | gear &lt;dbl&gt; | carb &lt;dbl&gt; |\n|---|---|---|---|---|---|---|---|---|---|---|---|\n| Mazda RX4 | 21.0 | 6 | 160 | 110 | 3.90 | 2.62 | 16.46 | 0 | 1 | 4 | 4 |\n| Datsun 710 | 22.8 | 4 | 108 |  93 | 3.85 | 2.32 | 18.61 | 1 | 1 | 4 | 1 |\n| Hornet Sportabout | 18.7 | 8 | 360 | 175 | 3.15 | 3.44 | 17.02 | 0 | 0 | 3 | 2 |\n\n",
            "text/latex": "A data.frame: 3 × 11\n\\begin{tabular}{r|lllllllllll}\n  & mpg & cyl & disp & hp & drat & wt & qsec & vs & am & gear & carb\\\\\n  & <dbl> & <dbl> & <dbl> & <dbl> & <dbl> & <dbl> & <dbl> & <dbl> & <dbl> & <dbl> & <dbl>\\\\\n\\hline\n\tMazda RX4 & 21.0 & 6 & 160 & 110 & 3.90 & 2.62 & 16.46 & 0 & 1 & 4 & 4\\\\\n\tDatsun 710 & 22.8 & 4 & 108 &  93 & 3.85 & 2.32 & 18.61 & 1 & 1 & 4 & 1\\\\\n\tHornet Sportabout & 18.7 & 8 & 360 & 175 & 3.15 & 3.44 & 17.02 & 0 & 0 & 3 & 2\\\\\n\\end{tabular}\n",
            "text/plain": [
              "                  mpg  cyl disp hp  drat wt   qsec  vs am gear carb\n",
              "Mazda RX4         21.0 6   160  110 3.90 2.62 16.46 0  1  4    4   \n",
              "Datsun 710        22.8 4   108   93 3.85 2.32 18.61 1  1  4    1   \n",
              "Hornet Sportabout 18.7 8   360  175 3.15 3.44 17.02 0  0  3    2   "
            ]
          },
          "metadata": {}
        }
      ]
    },
    {
      "cell_type": "code",
      "source": [
        "#sample_rac() selects a random sample of rows\n",
        "data %>% sample_frac(0.2, replace= TRUE)"
      ],
      "metadata": {
        "colab": {
          "base_uri": "https://localhost:8080/",
          "height": 375
        },
        "id": "JvR1oIG4IGmp",
        "outputId": "bd62a48d-4078-46f0-feb0-ee012c61383e"
      },
      "execution_count": 74,
      "outputs": [
        {
          "output_type": "display_data",
          "data": {
            "text/html": [
              "<table class=\"dataframe\">\n",
              "<caption>A data.frame: 6 × 11</caption>\n",
              "<thead>\n",
              "\t<tr><th></th><th scope=col>mpg</th><th scope=col>cyl</th><th scope=col>disp</th><th scope=col>hp</th><th scope=col>drat</th><th scope=col>wt</th><th scope=col>qsec</th><th scope=col>vs</th><th scope=col>am</th><th scope=col>gear</th><th scope=col>carb</th></tr>\n",
              "\t<tr><th></th><th scope=col>&lt;dbl&gt;</th><th scope=col>&lt;dbl&gt;</th><th scope=col>&lt;dbl&gt;</th><th scope=col>&lt;dbl&gt;</th><th scope=col>&lt;dbl&gt;</th><th scope=col>&lt;dbl&gt;</th><th scope=col>&lt;dbl&gt;</th><th scope=col>&lt;dbl&gt;</th><th scope=col>&lt;dbl&gt;</th><th scope=col>&lt;dbl&gt;</th><th scope=col>&lt;dbl&gt;</th></tr>\n",
              "</thead>\n",
              "<tbody>\n",
              "\t<tr><th scope=row>Dodge Challenger</th><td>15.5</td><td>8</td><td>318.0</td><td>150</td><td>2.76</td><td>3.520</td><td>16.87</td><td>0</td><td>0</td><td>3</td><td>2</td></tr>\n",
              "\t<tr><th scope=row>Merc 230</th><td>22.8</td><td>4</td><td>140.8</td><td> 95</td><td>3.92</td><td>3.150</td><td>22.90</td><td>1</td><td>0</td><td>4</td><td>2</td></tr>\n",
              "\t<tr><th scope=row>Pontiac Firebird</th><td>19.2</td><td>8</td><td>400.0</td><td>175</td><td>3.08</td><td>3.845</td><td>17.05</td><td>0</td><td>0</td><td>3</td><td>2</td></tr>\n",
              "\t<tr><th scope=row>Volvo 142E</th><td>21.4</td><td>4</td><td>121.0</td><td>109</td><td>4.11</td><td>2.780</td><td>18.60</td><td>1</td><td>1</td><td>4</td><td>2</td></tr>\n",
              "\t<tr><th scope=row>Fiat X1-9</th><td>27.3</td><td>4</td><td> 79.0</td><td> 66</td><td>4.08</td><td>1.935</td><td>18.90</td><td>1</td><td>1</td><td>4</td><td>1</td></tr>\n",
              "\t<tr><th scope=row>Datsun 710</th><td>22.8</td><td>4</td><td>108.0</td><td> 93</td><td>3.85</td><td>2.320</td><td>18.61</td><td>1</td><td>1</td><td>4</td><td>1</td></tr>\n",
              "</tbody>\n",
              "</table>\n"
            ],
            "text/markdown": "\nA data.frame: 6 × 11\n\n| <!--/--> | mpg &lt;dbl&gt; | cyl &lt;dbl&gt; | disp &lt;dbl&gt; | hp &lt;dbl&gt; | drat &lt;dbl&gt; | wt &lt;dbl&gt; | qsec &lt;dbl&gt; | vs &lt;dbl&gt; | am &lt;dbl&gt; | gear &lt;dbl&gt; | carb &lt;dbl&gt; |\n|---|---|---|---|---|---|---|---|---|---|---|---|\n| Dodge Challenger | 15.5 | 8 | 318.0 | 150 | 2.76 | 3.520 | 16.87 | 0 | 0 | 3 | 2 |\n| Merc 230 | 22.8 | 4 | 140.8 |  95 | 3.92 | 3.150 | 22.90 | 1 | 0 | 4 | 2 |\n| Pontiac Firebird | 19.2 | 8 | 400.0 | 175 | 3.08 | 3.845 | 17.05 | 0 | 0 | 3 | 2 |\n| Volvo 142E | 21.4 | 4 | 121.0 | 109 | 4.11 | 2.780 | 18.60 | 1 | 1 | 4 | 2 |\n| Fiat X1-9 | 27.3 | 4 |  79.0 |  66 | 4.08 | 1.935 | 18.90 | 1 | 1 | 4 | 1 |\n| Datsun 710 | 22.8 | 4 | 108.0 |  93 | 3.85 | 2.320 | 18.61 | 1 | 1 | 4 | 1 |\n\n",
            "text/latex": "A data.frame: 6 × 11\n\\begin{tabular}{r|lllllllllll}\n  & mpg & cyl & disp & hp & drat & wt & qsec & vs & am & gear & carb\\\\\n  & <dbl> & <dbl> & <dbl> & <dbl> & <dbl> & <dbl> & <dbl> & <dbl> & <dbl> & <dbl> & <dbl>\\\\\n\\hline\n\tDodge Challenger & 15.5 & 8 & 318.0 & 150 & 2.76 & 3.520 & 16.87 & 0 & 0 & 3 & 2\\\\\n\tMerc 230 & 22.8 & 4 & 140.8 &  95 & 3.92 & 3.150 & 22.90 & 1 & 0 & 4 & 2\\\\\n\tPontiac Firebird & 19.2 & 8 & 400.0 & 175 & 3.08 & 3.845 & 17.05 & 0 & 0 & 3 & 2\\\\\n\tVolvo 142E & 21.4 & 4 & 121.0 & 109 & 4.11 & 2.780 & 18.60 & 1 & 1 & 4 & 2\\\\\n\tFiat X1-9 & 27.3 & 4 &  79.0 &  66 & 4.08 & 1.935 & 18.90 & 1 & 1 & 4 & 1\\\\\n\tDatsun 710 & 22.8 & 4 & 108.0 &  93 & 3.85 & 2.320 & 18.61 & 1 & 1 & 4 & 1\\\\\n\\end{tabular}\n",
            "text/plain": [
              "                 mpg  cyl disp  hp  drat wt    qsec  vs am gear carb\n",
              "Dodge Challenger 15.5 8   318.0 150 2.76 3.520 16.87 0  0  3    2   \n",
              "Merc 230         22.8 4   140.8  95 3.92 3.150 22.90 1  0  4    2   \n",
              "Pontiac Firebird 19.2 8   400.0 175 3.08 3.845 17.05 0  0  3    2   \n",
              "Volvo 142E       21.4 4   121.0 109 4.11 2.780 18.60 1  1  4    2   \n",
              "Fiat X1-9        27.3 4    79.0  66 4.08 1.935 18.90 1  1  4    1   \n",
              "Datsun 710       22.8 4   108.0  93 3.85 2.320 18.61 1  1  4    1   "
            ]
          },
          "metadata": {}
        }
      ]
    },
    {
      "cell_type": "code",
      "source": [
        "# distinct() drops duplicate rows (similar to unique() in base R)\n",
        "data <- rbind(mtcars, mtcars)\n",
        "nrow(data)\n",
        "data %>% distinct() %>% nrow()"
      ],
      "metadata": {
        "colab": {
          "base_uri": "https://localhost:8080/",
          "height": 52
        },
        "id": "EWyWW_YTI0n-",
        "outputId": "80ffc0dd-6894-4fb7-85f3-3b5827c3cb2c"
      },
      "execution_count": 75,
      "outputs": [
        {
          "output_type": "display_data",
          "data": {
            "text/html": [
              "64"
            ],
            "text/markdown": "64",
            "text/latex": "64",
            "text/plain": [
              "[1] 64"
            ]
          },
          "metadata": {}
        },
        {
          "output_type": "display_data",
          "data": {
            "text/html": [
              "32"
            ],
            "text/markdown": "32",
            "text/latex": "32",
            "text/plain": [
              "[1] 32"
            ]
          },
          "metadata": {}
        }
      ]
    },
    {
      "cell_type": "markdown",
      "source": [
        "# **dplyr:Select**"
      ],
      "metadata": {
        "id": "fNU7kkfQJj-8"
      }
    },
    {
      "cell_type": "markdown",
      "source": [
        "The select() function lets you extract columns of interest by name or by using functions to match column names."
      ],
      "metadata": {
        "id": "8zAB2s9PJocs"
      }
    },
    {
      "cell_type": "code",
      "source": [
        "data <- read.csv(\"/content/train.csv\", stringsAsFactors = FALSE)"
      ],
      "metadata": {
        "id": "10SxdjM8Ja4n"
      },
      "execution_count": 76,
      "outputs": []
    },
    {
      "cell_type": "code",
      "source": [
        "glimpse(data)"
      ],
      "metadata": {
        "colab": {
          "base_uri": "https://localhost:8080/"
        },
        "id": "0gzgiMbxKUcX",
        "outputId": "0e80a22e-4929-4706-9403-116bbd2b90ed"
      },
      "execution_count": 77,
      "outputs": [
        {
          "output_type": "stream",
          "name": "stdout",
          "text": [
            "Rows: 891\n",
            "Columns: 12\n",
            "$ PassengerId \u001b[3m\u001b[90m<int>\u001b[39m\u001b[23m 1, 2, 3, 4, 5, 6, 7, 8, 9, 10, 11, 12, 13, 14, 15, 16, 17,…\n",
            "$ Survived    \u001b[3m\u001b[90m<int>\u001b[39m\u001b[23m 0, 1, 1, 1, 0, 0, 0, 0, 1, 1, 1, 1, 0, 0, 0, 1, 0, 1, 0, 1…\n",
            "$ Pclass      \u001b[3m\u001b[90m<int>\u001b[39m\u001b[23m 3, 1, 3, 1, 3, 3, 1, 3, 3, 2, 3, 1, 3, 3, 3, 2, 3, 2, 3, 3…\n",
            "$ Name        \u001b[3m\u001b[90m<chr>\u001b[39m\u001b[23m \"Braund, Mr. Owen Harris\", \"Cumings, Mrs. John Bradley (Fl…\n",
            "$ Sex         \u001b[3m\u001b[90m<chr>\u001b[39m\u001b[23m \"male\", \"female\", \"female\", \"female\", \"male\", \"male\", \"mal…\n",
            "$ Age         \u001b[3m\u001b[90m<dbl>\u001b[39m\u001b[23m 22, 38, 26, 35, 35, NA, 54, 2, 27, 14, 4, 58, 20, 39, 14, …\n",
            "$ SibSp       \u001b[3m\u001b[90m<int>\u001b[39m\u001b[23m 1, 1, 0, 1, 0, 0, 0, 3, 0, 1, 1, 0, 0, 1, 0, 0, 4, 0, 1, 0…\n",
            "$ Parch       \u001b[3m\u001b[90m<int>\u001b[39m\u001b[23m 0, 0, 0, 0, 0, 0, 0, 1, 2, 0, 1, 0, 0, 5, 0, 0, 1, 0, 0, 0…\n",
            "$ Ticket      \u001b[3m\u001b[90m<chr>\u001b[39m\u001b[23m \"A/5 21171\", \"PC 17599\", \"STON/O2. 3101282\", \"113803\", \"37…\n",
            "$ Fare        \u001b[3m\u001b[90m<dbl>\u001b[39m\u001b[23m 7.2500, 71.2833, 7.9250, 53.1000, 8.0500, 8.4583, 51.8625,…\n",
            "$ Cabin       \u001b[3m\u001b[90m<chr>\u001b[39m\u001b[23m \"\", \"C85\", \"\", \"C123\", \"\", \"\", \"E46\", \"\", \"\", \"\", \"G6\", \"C…\n",
            "$ Embarked    \u001b[3m\u001b[90m<chr>\u001b[39m\u001b[23m \"S\", \"C\", \"S\", \"S\", \"S\", \"Q\", \"S\", \"S\", \"S\", \"C\", \"S\", \"S\"…\n"
          ]
        }
      ]
    },
    {
      "cell_type": "code",
      "source": [
        "data %>% select(Name, Age, Sex, Survived) %>% head()"
      ],
      "metadata": {
        "colab": {
          "base_uri": "https://localhost:8080/",
          "height": 286
        },
        "id": "USLtOFqrKaIh",
        "outputId": "b0fe9daa-3ae1-47ec-9064-dc55fe307154"
      },
      "execution_count": 78,
      "outputs": [
        {
          "output_type": "display_data",
          "data": {
            "text/html": [
              "<table class=\"dataframe\">\n",
              "<caption>A data.frame: 6 × 4</caption>\n",
              "<thead>\n",
              "\t<tr><th></th><th scope=col>Name</th><th scope=col>Age</th><th scope=col>Sex</th><th scope=col>Survived</th></tr>\n",
              "\t<tr><th></th><th scope=col>&lt;chr&gt;</th><th scope=col>&lt;dbl&gt;</th><th scope=col>&lt;chr&gt;</th><th scope=col>&lt;int&gt;</th></tr>\n",
              "</thead>\n",
              "<tbody>\n",
              "\t<tr><th scope=row>1</th><td>Braund, Mr. Owen Harris                            </td><td>22</td><td>male  </td><td>0</td></tr>\n",
              "\t<tr><th scope=row>2</th><td>Cumings, Mrs. John Bradley (Florence Briggs Thayer)</td><td>38</td><td>female</td><td>1</td></tr>\n",
              "\t<tr><th scope=row>3</th><td>Heikkinen, Miss. Laina                             </td><td>26</td><td>female</td><td>1</td></tr>\n",
              "\t<tr><th scope=row>4</th><td>Futrelle, Mrs. Jacques Heath (Lily May Peel)       </td><td>35</td><td>female</td><td>1</td></tr>\n",
              "\t<tr><th scope=row>5</th><td>Allen, Mr. William Henry                           </td><td>35</td><td>male  </td><td>0</td></tr>\n",
              "\t<tr><th scope=row>6</th><td>Moran, Mr. James                                   </td><td>NA</td><td>male  </td><td>0</td></tr>\n",
              "</tbody>\n",
              "</table>\n"
            ],
            "text/markdown": "\nA data.frame: 6 × 4\n\n| <!--/--> | Name &lt;chr&gt; | Age &lt;dbl&gt; | Sex &lt;chr&gt; | Survived &lt;int&gt; |\n|---|---|---|---|---|\n| 1 | Braund, Mr. Owen Harris                             | 22 | male   | 0 |\n| 2 | Cumings, Mrs. John Bradley (Florence Briggs Thayer) | 38 | female | 1 |\n| 3 | Heikkinen, Miss. Laina                              | 26 | female | 1 |\n| 4 | Futrelle, Mrs. Jacques Heath (Lily May Peel)        | 35 | female | 1 |\n| 5 | Allen, Mr. William Henry                            | 35 | male   | 0 |\n| 6 | Moran, Mr. James                                    | NA | male   | 0 |\n\n",
            "text/latex": "A data.frame: 6 × 4\n\\begin{tabular}{r|llll}\n  & Name & Age & Sex & Survived\\\\\n  & <chr> & <dbl> & <chr> & <int>\\\\\n\\hline\n\t1 & Braund, Mr. Owen Harris                             & 22 & male   & 0\\\\\n\t2 & Cumings, Mrs. John Bradley (Florence Briggs Thayer) & 38 & female & 1\\\\\n\t3 & Heikkinen, Miss. Laina                              & 26 & female & 1\\\\\n\t4 & Futrelle, Mrs. Jacques Heath (Lily May Peel)        & 35 & female & 1\\\\\n\t5 & Allen, Mr. William Henry                            & 35 & male   & 0\\\\\n\t6 & Moran, Mr. James                                    & NA & male   & 0\\\\\n\\end{tabular}\n",
            "text/plain": [
              "  Name                                                Age Sex    Survived\n",
              "1 Braund, Mr. Owen Harris                             22  male   0       \n",
              "2 Cumings, Mrs. John Bradley (Florence Briggs Thayer) 38  female 1       \n",
              "3 Heikkinen, Miss. Laina                              26  female 1       \n",
              "4 Futrelle, Mrs. Jacques Heath (Lily May Peel)        35  female 1       \n",
              "5 Allen, Mr. William Henry                            35  male   0       \n",
              "6 Moran, Mr. James                                    NA  male   0       "
            ]
          },
          "metadata": {}
        }
      ]
    },
    {
      "cell_type": "code",
      "source": [
        "data %>% select(-Name) %>% head()"
      ],
      "metadata": {
        "colab": {
          "base_uri": "https://localhost:8080/",
          "height": 323
        },
        "id": "_6aZIRkcK8U2",
        "outputId": "36668b3c-5a50-4e67-da34-dc95bdc0e72d"
      },
      "execution_count": 79,
      "outputs": [
        {
          "output_type": "display_data",
          "data": {
            "text/html": [
              "<table class=\"dataframe\">\n",
              "<caption>A data.frame: 6 × 11</caption>\n",
              "<thead>\n",
              "\t<tr><th></th><th scope=col>PassengerId</th><th scope=col>Survived</th><th scope=col>Pclass</th><th scope=col>Sex</th><th scope=col>Age</th><th scope=col>SibSp</th><th scope=col>Parch</th><th scope=col>Ticket</th><th scope=col>Fare</th><th scope=col>Cabin</th><th scope=col>Embarked</th></tr>\n",
              "\t<tr><th></th><th scope=col>&lt;int&gt;</th><th scope=col>&lt;int&gt;</th><th scope=col>&lt;int&gt;</th><th scope=col>&lt;chr&gt;</th><th scope=col>&lt;dbl&gt;</th><th scope=col>&lt;int&gt;</th><th scope=col>&lt;int&gt;</th><th scope=col>&lt;chr&gt;</th><th scope=col>&lt;dbl&gt;</th><th scope=col>&lt;chr&gt;</th><th scope=col>&lt;chr&gt;</th></tr>\n",
              "</thead>\n",
              "<tbody>\n",
              "\t<tr><th scope=row>1</th><td>1</td><td>0</td><td>3</td><td>male  </td><td>22</td><td>1</td><td>0</td><td>A/5 21171       </td><td> 7.2500</td><td>    </td><td>S</td></tr>\n",
              "\t<tr><th scope=row>2</th><td>2</td><td>1</td><td>1</td><td>female</td><td>38</td><td>1</td><td>0</td><td>PC 17599        </td><td>71.2833</td><td>C85 </td><td>C</td></tr>\n",
              "\t<tr><th scope=row>3</th><td>3</td><td>1</td><td>3</td><td>female</td><td>26</td><td>0</td><td>0</td><td>STON/O2. 3101282</td><td> 7.9250</td><td>    </td><td>S</td></tr>\n",
              "\t<tr><th scope=row>4</th><td>4</td><td>1</td><td>1</td><td>female</td><td>35</td><td>1</td><td>0</td><td>113803          </td><td>53.1000</td><td>C123</td><td>S</td></tr>\n",
              "\t<tr><th scope=row>5</th><td>5</td><td>0</td><td>3</td><td>male  </td><td>35</td><td>0</td><td>0</td><td>373450          </td><td> 8.0500</td><td>    </td><td>S</td></tr>\n",
              "\t<tr><th scope=row>6</th><td>6</td><td>0</td><td>3</td><td>male  </td><td>NA</td><td>0</td><td>0</td><td>330877          </td><td> 8.4583</td><td>    </td><td>Q</td></tr>\n",
              "</tbody>\n",
              "</table>\n"
            ],
            "text/markdown": "\nA data.frame: 6 × 11\n\n| <!--/--> | PassengerId &lt;int&gt; | Survived &lt;int&gt; | Pclass &lt;int&gt; | Sex &lt;chr&gt; | Age &lt;dbl&gt; | SibSp &lt;int&gt; | Parch &lt;int&gt; | Ticket &lt;chr&gt; | Fare &lt;dbl&gt; | Cabin &lt;chr&gt; | Embarked &lt;chr&gt; |\n|---|---|---|---|---|---|---|---|---|---|---|---|\n| 1 | 1 | 0 | 3 | male   | 22 | 1 | 0 | A/5 21171        |  7.2500 | <!----> | S |\n| 2 | 2 | 1 | 1 | female | 38 | 1 | 0 | PC 17599         | 71.2833 | C85  | C |\n| 3 | 3 | 1 | 3 | female | 26 | 0 | 0 | STON/O2. 3101282 |  7.9250 | <!----> | S |\n| 4 | 4 | 1 | 1 | female | 35 | 1 | 0 | 113803           | 53.1000 | C123 | S |\n| 5 | 5 | 0 | 3 | male   | 35 | 0 | 0 | 373450           |  8.0500 | <!----> | S |\n| 6 | 6 | 0 | 3 | male   | NA | 0 | 0 | 330877           |  8.4583 | <!----> | Q |\n\n",
            "text/latex": "A data.frame: 6 × 11\n\\begin{tabular}{r|lllllllllll}\n  & PassengerId & Survived & Pclass & Sex & Age & SibSp & Parch & Ticket & Fare & Cabin & Embarked\\\\\n  & <int> & <int> & <int> & <chr> & <dbl> & <int> & <int> & <chr> & <dbl> & <chr> & <chr>\\\\\n\\hline\n\t1 & 1 & 0 & 3 & male   & 22 & 1 & 0 & A/5 21171        &  7.2500 &      & S\\\\\n\t2 & 2 & 1 & 1 & female & 38 & 1 & 0 & PC 17599         & 71.2833 & C85  & C\\\\\n\t3 & 3 & 1 & 3 & female & 26 & 0 & 0 & STON/O2. 3101282 &  7.9250 &      & S\\\\\n\t4 & 4 & 1 & 1 & female & 35 & 1 & 0 & 113803           & 53.1000 & C123 & S\\\\\n\t5 & 5 & 0 & 3 & male   & 35 & 0 & 0 & 373450           &  8.0500 &      & S\\\\\n\t6 & 6 & 0 & 3 & male   & NA & 0 & 0 & 330877           &  8.4583 &      & Q\\\\\n\\end{tabular}\n",
            "text/plain": [
              "  PassengerId Survived Pclass Sex    Age SibSp Parch Ticket           Fare   \n",
              "1 1           0        3      male   22  1     0     A/5 21171         7.2500\n",
              "2 2           1        1      female 38  1     0     PC 17599         71.2833\n",
              "3 3           1        3      female 26  0     0     STON/O2. 3101282  7.9250\n",
              "4 4           1        1      female 35  1     0     113803           53.1000\n",
              "5 5           0        3      male   35  0     0     373450            8.0500\n",
              "6 6           0        3      male   NA  0     0     330877            8.4583\n",
              "  Cabin Embarked\n",
              "1       S       \n",
              "2 C85   C       \n",
              "3       S       \n",
              "4 C123  S       \n",
              "5       S       \n",
              "6       Q       "
            ]
          },
          "metadata": {}
        }
      ]
    },
    {
      "cell_type": "code",
      "source": [
        "data %>% select(\"Sex\":\"Ticket\") %>% head()"
      ],
      "metadata": {
        "colab": {
          "base_uri": "https://localhost:8080/",
          "height": 286
        },
        "id": "dd0p3Y0xLLpR",
        "outputId": "b199be39-ed48-439c-9d67-474db5deab85"
      },
      "execution_count": 80,
      "outputs": [
        {
          "output_type": "display_data",
          "data": {
            "text/html": [
              "<table class=\"dataframe\">\n",
              "<caption>A data.frame: 6 × 5</caption>\n",
              "<thead>\n",
              "\t<tr><th></th><th scope=col>Sex</th><th scope=col>Age</th><th scope=col>SibSp</th><th scope=col>Parch</th><th scope=col>Ticket</th></tr>\n",
              "\t<tr><th></th><th scope=col>&lt;chr&gt;</th><th scope=col>&lt;dbl&gt;</th><th scope=col>&lt;int&gt;</th><th scope=col>&lt;int&gt;</th><th scope=col>&lt;chr&gt;</th></tr>\n",
              "</thead>\n",
              "<tbody>\n",
              "\t<tr><th scope=row>1</th><td>male  </td><td>22</td><td>1</td><td>0</td><td>A/5 21171       </td></tr>\n",
              "\t<tr><th scope=row>2</th><td>female</td><td>38</td><td>1</td><td>0</td><td>PC 17599        </td></tr>\n",
              "\t<tr><th scope=row>3</th><td>female</td><td>26</td><td>0</td><td>0</td><td>STON/O2. 3101282</td></tr>\n",
              "\t<tr><th scope=row>4</th><td>female</td><td>35</td><td>1</td><td>0</td><td>113803          </td></tr>\n",
              "\t<tr><th scope=row>5</th><td>male  </td><td>35</td><td>0</td><td>0</td><td>373450          </td></tr>\n",
              "\t<tr><th scope=row>6</th><td>male  </td><td>NA</td><td>0</td><td>0</td><td>330877          </td></tr>\n",
              "</tbody>\n",
              "</table>\n"
            ],
            "text/markdown": "\nA data.frame: 6 × 5\n\n| <!--/--> | Sex &lt;chr&gt; | Age &lt;dbl&gt; | SibSp &lt;int&gt; | Parch &lt;int&gt; | Ticket &lt;chr&gt; |\n|---|---|---|---|---|---|\n| 1 | male   | 22 | 1 | 0 | A/5 21171        |\n| 2 | female | 38 | 1 | 0 | PC 17599         |\n| 3 | female | 26 | 0 | 0 | STON/O2. 3101282 |\n| 4 | female | 35 | 1 | 0 | 113803           |\n| 5 | male   | 35 | 0 | 0 | 373450           |\n| 6 | male   | NA | 0 | 0 | 330877           |\n\n",
            "text/latex": "A data.frame: 6 × 5\n\\begin{tabular}{r|lllll}\n  & Sex & Age & SibSp & Parch & Ticket\\\\\n  & <chr> & <dbl> & <int> & <int> & <chr>\\\\\n\\hline\n\t1 & male   & 22 & 1 & 0 & A/5 21171       \\\\\n\t2 & female & 38 & 1 & 0 & PC 17599        \\\\\n\t3 & female & 26 & 0 & 0 & STON/O2. 3101282\\\\\n\t4 & female & 35 & 1 & 0 & 113803          \\\\\n\t5 & male   & 35 & 0 & 0 & 373450          \\\\\n\t6 & male   & NA & 0 & 0 & 330877          \\\\\n\\end{tabular}\n",
            "text/plain": [
              "  Sex    Age SibSp Parch Ticket          \n",
              "1 male   22  1     0     A/5 21171       \n",
              "2 female 38  1     0     PC 17599        \n",
              "3 female 26  0     0     STON/O2. 3101282\n",
              "4 female 35  1     0     113803          \n",
              "5 male   35  0     0     373450          \n",
              "6 male   NA  0     0     330877          "
            ]
          },
          "metadata": {}
        }
      ]
    },
    {
      "cell_type": "code",
      "source": [
        "data %>% select(starts_with(\"S\")) %>% head()"
      ],
      "metadata": {
        "colab": {
          "base_uri": "https://localhost:8080/",
          "height": 286
        },
        "id": "SV_q_ilzLbjF",
        "outputId": "3948f81f-e8ed-4753-cdfa-bd6bc20c6d82"
      },
      "execution_count": 81,
      "outputs": [
        {
          "output_type": "display_data",
          "data": {
            "text/html": [
              "<table class=\"dataframe\">\n",
              "<caption>A data.frame: 6 × 3</caption>\n",
              "<thead>\n",
              "\t<tr><th></th><th scope=col>Survived</th><th scope=col>Sex</th><th scope=col>SibSp</th></tr>\n",
              "\t<tr><th></th><th scope=col>&lt;int&gt;</th><th scope=col>&lt;chr&gt;</th><th scope=col>&lt;int&gt;</th></tr>\n",
              "</thead>\n",
              "<tbody>\n",
              "\t<tr><th scope=row>1</th><td>0</td><td>male  </td><td>1</td></tr>\n",
              "\t<tr><th scope=row>2</th><td>1</td><td>female</td><td>1</td></tr>\n",
              "\t<tr><th scope=row>3</th><td>1</td><td>female</td><td>0</td></tr>\n",
              "\t<tr><th scope=row>4</th><td>1</td><td>female</td><td>1</td></tr>\n",
              "\t<tr><th scope=row>5</th><td>0</td><td>male  </td><td>0</td></tr>\n",
              "\t<tr><th scope=row>6</th><td>0</td><td>male  </td><td>0</td></tr>\n",
              "</tbody>\n",
              "</table>\n"
            ],
            "text/markdown": "\nA data.frame: 6 × 3\n\n| <!--/--> | Survived &lt;int&gt; | Sex &lt;chr&gt; | SibSp &lt;int&gt; |\n|---|---|---|---|\n| 1 | 0 | male   | 1 |\n| 2 | 1 | female | 1 |\n| 3 | 1 | female | 0 |\n| 4 | 1 | female | 1 |\n| 5 | 0 | male   | 0 |\n| 6 | 0 | male   | 0 |\n\n",
            "text/latex": "A data.frame: 6 × 3\n\\begin{tabular}{r|lll}\n  & Survived & Sex & SibSp\\\\\n  & <int> & <chr> & <int>\\\\\n\\hline\n\t1 & 0 & male   & 1\\\\\n\t2 & 1 & female & 1\\\\\n\t3 & 1 & female & 0\\\\\n\t4 & 1 & female & 1\\\\\n\t5 & 0 & male   & 0\\\\\n\t6 & 0 & male   & 0\\\\\n\\end{tabular}\n",
            "text/plain": [
              "  Survived Sex    SibSp\n",
              "1 0        male   1    \n",
              "2 1        female 1    \n",
              "3 1        female 0    \n",
              "4 1        female 1    \n",
              "5 0        male   0    \n",
              "6 0        male   0    "
            ]
          },
          "metadata": {}
        }
      ]
    },
    {
      "cell_type": "code",
      "source": [
        "data %>% select(ends_with(\"e\")) %>% head()"
      ],
      "metadata": {
        "colab": {
          "base_uri": "https://localhost:8080/",
          "height": 286
        },
        "id": "nkaQgA6EL8tm",
        "outputId": "27cf5f27-a017-4248-eb3d-0d15ee448ade"
      },
      "execution_count": 82,
      "outputs": [
        {
          "output_type": "display_data",
          "data": {
            "text/html": [
              "<table class=\"dataframe\">\n",
              "<caption>A data.frame: 6 × 3</caption>\n",
              "<thead>\n",
              "\t<tr><th></th><th scope=col>Name</th><th scope=col>Age</th><th scope=col>Fare</th></tr>\n",
              "\t<tr><th></th><th scope=col>&lt;chr&gt;</th><th scope=col>&lt;dbl&gt;</th><th scope=col>&lt;dbl&gt;</th></tr>\n",
              "</thead>\n",
              "<tbody>\n",
              "\t<tr><th scope=row>1</th><td>Braund, Mr. Owen Harris                            </td><td>22</td><td> 7.2500</td></tr>\n",
              "\t<tr><th scope=row>2</th><td>Cumings, Mrs. John Bradley (Florence Briggs Thayer)</td><td>38</td><td>71.2833</td></tr>\n",
              "\t<tr><th scope=row>3</th><td>Heikkinen, Miss. Laina                             </td><td>26</td><td> 7.9250</td></tr>\n",
              "\t<tr><th scope=row>4</th><td>Futrelle, Mrs. Jacques Heath (Lily May Peel)       </td><td>35</td><td>53.1000</td></tr>\n",
              "\t<tr><th scope=row>5</th><td>Allen, Mr. William Henry                           </td><td>35</td><td> 8.0500</td></tr>\n",
              "\t<tr><th scope=row>6</th><td>Moran, Mr. James                                   </td><td>NA</td><td> 8.4583</td></tr>\n",
              "</tbody>\n",
              "</table>\n"
            ],
            "text/markdown": "\nA data.frame: 6 × 3\n\n| <!--/--> | Name &lt;chr&gt; | Age &lt;dbl&gt; | Fare &lt;dbl&gt; |\n|---|---|---|---|\n| 1 | Braund, Mr. Owen Harris                             | 22 |  7.2500 |\n| 2 | Cumings, Mrs. John Bradley (Florence Briggs Thayer) | 38 | 71.2833 |\n| 3 | Heikkinen, Miss. Laina                              | 26 |  7.9250 |\n| 4 | Futrelle, Mrs. Jacques Heath (Lily May Peel)        | 35 | 53.1000 |\n| 5 | Allen, Mr. William Henry                            | 35 |  8.0500 |\n| 6 | Moran, Mr. James                                    | NA |  8.4583 |\n\n",
            "text/latex": "A data.frame: 6 × 3\n\\begin{tabular}{r|lll}\n  & Name & Age & Fare\\\\\n  & <chr> & <dbl> & <dbl>\\\\\n\\hline\n\t1 & Braund, Mr. Owen Harris                             & 22 &  7.2500\\\\\n\t2 & Cumings, Mrs. John Bradley (Florence Briggs Thayer) & 38 & 71.2833\\\\\n\t3 & Heikkinen, Miss. Laina                              & 26 &  7.9250\\\\\n\t4 & Futrelle, Mrs. Jacques Heath (Lily May Peel)        & 35 & 53.1000\\\\\n\t5 & Allen, Mr. William Henry                            & 35 &  8.0500\\\\\n\t6 & Moran, Mr. James                                    & NA &  8.4583\\\\\n\\end{tabular}\n",
            "text/plain": [
              "  Name                                                Age Fare   \n",
              "1 Braund, Mr. Owen Harris                             22   7.2500\n",
              "2 Cumings, Mrs. John Bradley (Florence Briggs Thayer) 38  71.2833\n",
              "3 Heikkinen, Miss. Laina                              26   7.9250\n",
              "4 Futrelle, Mrs. Jacques Heath (Lily May Peel)        35  53.1000\n",
              "5 Allen, Mr. William Henry                            35   8.0500\n",
              "6 Moran, Mr. James                                    NA   8.4583"
            ]
          },
          "metadata": {}
        }
      ]
    },
    {
      "cell_type": "code",
      "source": [
        "data %>% select(matches(\".e.\")) %>% head()"
      ],
      "metadata": {
        "colab": {
          "base_uri": "https://localhost:8080/",
          "height": 286
        },
        "id": "GYGHE4dMMUd-",
        "outputId": "0933c53d-21ef-4524-8268-a3f0cfd0a320"
      },
      "execution_count": 83,
      "outputs": [
        {
          "output_type": "display_data",
          "data": {
            "text/html": [
              "<table class=\"dataframe\">\n",
              "<caption>A data.frame: 6 × 5</caption>\n",
              "<thead>\n",
              "\t<tr><th></th><th scope=col>PassengerId</th><th scope=col>Survived</th><th scope=col>Sex</th><th scope=col>Ticket</th><th scope=col>Embarked</th></tr>\n",
              "\t<tr><th></th><th scope=col>&lt;int&gt;</th><th scope=col>&lt;int&gt;</th><th scope=col>&lt;chr&gt;</th><th scope=col>&lt;chr&gt;</th><th scope=col>&lt;chr&gt;</th></tr>\n",
              "</thead>\n",
              "<tbody>\n",
              "\t<tr><th scope=row>1</th><td>1</td><td>0</td><td>male  </td><td>A/5 21171       </td><td>S</td></tr>\n",
              "\t<tr><th scope=row>2</th><td>2</td><td>1</td><td>female</td><td>PC 17599        </td><td>C</td></tr>\n",
              "\t<tr><th scope=row>3</th><td>3</td><td>1</td><td>female</td><td>STON/O2. 3101282</td><td>S</td></tr>\n",
              "\t<tr><th scope=row>4</th><td>4</td><td>1</td><td>female</td><td>113803          </td><td>S</td></tr>\n",
              "\t<tr><th scope=row>5</th><td>5</td><td>0</td><td>male  </td><td>373450          </td><td>S</td></tr>\n",
              "\t<tr><th scope=row>6</th><td>6</td><td>0</td><td>male  </td><td>330877          </td><td>Q</td></tr>\n",
              "</tbody>\n",
              "</table>\n"
            ],
            "text/markdown": "\nA data.frame: 6 × 5\n\n| <!--/--> | PassengerId &lt;int&gt; | Survived &lt;int&gt; | Sex &lt;chr&gt; | Ticket &lt;chr&gt; | Embarked &lt;chr&gt; |\n|---|---|---|---|---|---|\n| 1 | 1 | 0 | male   | A/5 21171        | S |\n| 2 | 2 | 1 | female | PC 17599         | C |\n| 3 | 3 | 1 | female | STON/O2. 3101282 | S |\n| 4 | 4 | 1 | female | 113803           | S |\n| 5 | 5 | 0 | male   | 373450           | S |\n| 6 | 6 | 0 | male   | 330877           | Q |\n\n",
            "text/latex": "A data.frame: 6 × 5\n\\begin{tabular}{r|lllll}\n  & PassengerId & Survived & Sex & Ticket & Embarked\\\\\n  & <int> & <int> & <chr> & <chr> & <chr>\\\\\n\\hline\n\t1 & 1 & 0 & male   & A/5 21171        & S\\\\\n\t2 & 2 & 1 & female & PC 17599         & C\\\\\n\t3 & 3 & 1 & female & STON/O2. 3101282 & S\\\\\n\t4 & 4 & 1 & female & 113803           & S\\\\\n\t5 & 5 & 0 & male   & 373450           & S\\\\\n\t6 & 6 & 0 & male   & 330877           & Q\\\\\n\\end{tabular}\n",
            "text/plain": [
              "  PassengerId Survived Sex    Ticket           Embarked\n",
              "1 1           0        male   A/5 21171        S       \n",
              "2 2           1        female PC 17599         C       \n",
              "3 3           1        female STON/O2. 3101282 S       \n",
              "4 4           1        female 113803           S       \n",
              "5 5           0        male   373450           S       \n",
              "6 6           0        male   330877           Q       "
            ]
          },
          "metadata": {}
        }
      ]
    },
    {
      "cell_type": "markdown",
      "source": [
        "# **dplyr: Rename and Arrange**"
      ],
      "metadata": {
        "id": "iiblw4gMM4qC"
      }
    },
    {
      "cell_type": "markdown",
      "source": [
        "The rename() function ind dplyr allows you to change the name of columns."
      ],
      "metadata": {
        "id": "wm-KrJPWM9Df"
      }
    },
    {
      "cell_type": "code",
      "source": [
        "data <- mtcars %>% rownames_to_column(\"model\")\n",
        "head(data)"
      ],
      "metadata": {
        "colab": {
          "base_uri": "https://localhost:8080/",
          "height": 393
        },
        "id": "N2vp_Og4MwUG",
        "outputId": "fdb83e87-b59a-4f63-d607-05a81ee6c43e"
      },
      "execution_count": 84,
      "outputs": [
        {
          "output_type": "display_data",
          "data": {
            "text/html": [
              "<table class=\"dataframe\">\n",
              "<caption>A data.frame: 6 × 12</caption>\n",
              "<thead>\n",
              "\t<tr><th></th><th scope=col>model</th><th scope=col>mpg</th><th scope=col>cyl</th><th scope=col>disp</th><th scope=col>hp</th><th scope=col>drat</th><th scope=col>wt</th><th scope=col>qsec</th><th scope=col>vs</th><th scope=col>am</th><th scope=col>gear</th><th scope=col>carb</th></tr>\n",
              "\t<tr><th></th><th scope=col>&lt;chr&gt;</th><th scope=col>&lt;dbl&gt;</th><th scope=col>&lt;dbl&gt;</th><th scope=col>&lt;dbl&gt;</th><th scope=col>&lt;dbl&gt;</th><th scope=col>&lt;dbl&gt;</th><th scope=col>&lt;dbl&gt;</th><th scope=col>&lt;dbl&gt;</th><th scope=col>&lt;dbl&gt;</th><th scope=col>&lt;dbl&gt;</th><th scope=col>&lt;dbl&gt;</th><th scope=col>&lt;dbl&gt;</th></tr>\n",
              "</thead>\n",
              "<tbody>\n",
              "\t<tr><th scope=row>1</th><td>Mazda RX4        </td><td>21.0</td><td>6</td><td>160</td><td>110</td><td>3.90</td><td>2.620</td><td>16.46</td><td>0</td><td>1</td><td>4</td><td>4</td></tr>\n",
              "\t<tr><th scope=row>2</th><td>Mazda RX4 Wag    </td><td>21.0</td><td>6</td><td>160</td><td>110</td><td>3.90</td><td>2.875</td><td>17.02</td><td>0</td><td>1</td><td>4</td><td>4</td></tr>\n",
              "\t<tr><th scope=row>3</th><td>Datsun 710       </td><td>22.8</td><td>4</td><td>108</td><td> 93</td><td>3.85</td><td>2.320</td><td>18.61</td><td>1</td><td>1</td><td>4</td><td>1</td></tr>\n",
              "\t<tr><th scope=row>4</th><td>Hornet 4 Drive   </td><td>21.4</td><td>6</td><td>258</td><td>110</td><td>3.08</td><td>3.215</td><td>19.44</td><td>1</td><td>0</td><td>3</td><td>1</td></tr>\n",
              "\t<tr><th scope=row>5</th><td>Hornet Sportabout</td><td>18.7</td><td>8</td><td>360</td><td>175</td><td>3.15</td><td>3.440</td><td>17.02</td><td>0</td><td>0</td><td>3</td><td>2</td></tr>\n",
              "\t<tr><th scope=row>6</th><td>Valiant          </td><td>18.1</td><td>6</td><td>225</td><td>105</td><td>2.76</td><td>3.460</td><td>20.22</td><td>1</td><td>0</td><td>3</td><td>1</td></tr>\n",
              "</tbody>\n",
              "</table>\n"
            ],
            "text/markdown": "\nA data.frame: 6 × 12\n\n| <!--/--> | model &lt;chr&gt; | mpg &lt;dbl&gt; | cyl &lt;dbl&gt; | disp &lt;dbl&gt; | hp &lt;dbl&gt; | drat &lt;dbl&gt; | wt &lt;dbl&gt; | qsec &lt;dbl&gt; | vs &lt;dbl&gt; | am &lt;dbl&gt; | gear &lt;dbl&gt; | carb &lt;dbl&gt; |\n|---|---|---|---|---|---|---|---|---|---|---|---|---|\n| 1 | Mazda RX4         | 21.0 | 6 | 160 | 110 | 3.90 | 2.620 | 16.46 | 0 | 1 | 4 | 4 |\n| 2 | Mazda RX4 Wag     | 21.0 | 6 | 160 | 110 | 3.90 | 2.875 | 17.02 | 0 | 1 | 4 | 4 |\n| 3 | Datsun 710        | 22.8 | 4 | 108 |  93 | 3.85 | 2.320 | 18.61 | 1 | 1 | 4 | 1 |\n| 4 | Hornet 4 Drive    | 21.4 | 6 | 258 | 110 | 3.08 | 3.215 | 19.44 | 1 | 0 | 3 | 1 |\n| 5 | Hornet Sportabout | 18.7 | 8 | 360 | 175 | 3.15 | 3.440 | 17.02 | 0 | 0 | 3 | 2 |\n| 6 | Valiant           | 18.1 | 6 | 225 | 105 | 2.76 | 3.460 | 20.22 | 1 | 0 | 3 | 1 |\n\n",
            "text/latex": "A data.frame: 6 × 12\n\\begin{tabular}{r|llllllllllll}\n  & model & mpg & cyl & disp & hp & drat & wt & qsec & vs & am & gear & carb\\\\\n  & <chr> & <dbl> & <dbl> & <dbl> & <dbl> & <dbl> & <dbl> & <dbl> & <dbl> & <dbl> & <dbl> & <dbl>\\\\\n\\hline\n\t1 & Mazda RX4         & 21.0 & 6 & 160 & 110 & 3.90 & 2.620 & 16.46 & 0 & 1 & 4 & 4\\\\\n\t2 & Mazda RX4 Wag     & 21.0 & 6 & 160 & 110 & 3.90 & 2.875 & 17.02 & 0 & 1 & 4 & 4\\\\\n\t3 & Datsun 710        & 22.8 & 4 & 108 &  93 & 3.85 & 2.320 & 18.61 & 1 & 1 & 4 & 1\\\\\n\t4 & Hornet 4 Drive    & 21.4 & 6 & 258 & 110 & 3.08 & 3.215 & 19.44 & 1 & 0 & 3 & 1\\\\\n\t5 & Hornet Sportabout & 18.7 & 8 & 360 & 175 & 3.15 & 3.440 & 17.02 & 0 & 0 & 3 & 2\\\\\n\t6 & Valiant           & 18.1 & 6 & 225 & 105 & 2.76 & 3.460 & 20.22 & 1 & 0 & 3 & 1\\\\\n\\end{tabular}\n",
            "text/plain": [
              "  model             mpg  cyl disp hp  drat wt    qsec  vs am gear carb\n",
              "1 Mazda RX4         21.0 6   160  110 3.90 2.620 16.46 0  1  4    4   \n",
              "2 Mazda RX4 Wag     21.0 6   160  110 3.90 2.875 17.02 0  1  4    4   \n",
              "3 Datsun 710        22.8 4   108   93 3.85 2.320 18.61 1  1  4    1   \n",
              "4 Hornet 4 Drive    21.4 6   258  110 3.08 3.215 19.44 1  0  3    1   \n",
              "5 Hornet Sportabout 18.7 8   360  175 3.15 3.440 17.02 0  0  3    2   \n",
              "6 Valiant           18.1 6   225  105 2.76 3.460 20.22 1  0  3    1   "
            ]
          },
          "metadata": {}
        }
      ]
    },
    {
      "cell_type": "code",
      "source": [
        "subset <- data %>% rename(miles_per_gallon = mpg,\n",
        "                          cylinders = cyl,\n",
        "                          weight = wt) %>%\n",
        "          select(model, miles_per_gallon, cylinders, weight)\n",
        "subset %>% head()\n"
      ],
      "metadata": {
        "colab": {
          "base_uri": "https://localhost:8080/",
          "height": 286
        },
        "id": "eIiktnM5NaEi",
        "outputId": "e2b2e145-fdb8-4740-cf7d-b0f85e03ae0e"
      },
      "execution_count": 85,
      "outputs": [
        {
          "output_type": "display_data",
          "data": {
            "text/html": [
              "<table class=\"dataframe\">\n",
              "<caption>A data.frame: 6 × 4</caption>\n",
              "<thead>\n",
              "\t<tr><th></th><th scope=col>model</th><th scope=col>miles_per_gallon</th><th scope=col>cylinders</th><th scope=col>weight</th></tr>\n",
              "\t<tr><th></th><th scope=col>&lt;chr&gt;</th><th scope=col>&lt;dbl&gt;</th><th scope=col>&lt;dbl&gt;</th><th scope=col>&lt;dbl&gt;</th></tr>\n",
              "</thead>\n",
              "<tbody>\n",
              "\t<tr><th scope=row>1</th><td>Mazda RX4        </td><td>21.0</td><td>6</td><td>2.620</td></tr>\n",
              "\t<tr><th scope=row>2</th><td>Mazda RX4 Wag    </td><td>21.0</td><td>6</td><td>2.875</td></tr>\n",
              "\t<tr><th scope=row>3</th><td>Datsun 710       </td><td>22.8</td><td>4</td><td>2.320</td></tr>\n",
              "\t<tr><th scope=row>4</th><td>Hornet 4 Drive   </td><td>21.4</td><td>6</td><td>3.215</td></tr>\n",
              "\t<tr><th scope=row>5</th><td>Hornet Sportabout</td><td>18.7</td><td>8</td><td>3.440</td></tr>\n",
              "\t<tr><th scope=row>6</th><td>Valiant          </td><td>18.1</td><td>6</td><td>3.460</td></tr>\n",
              "</tbody>\n",
              "</table>\n"
            ],
            "text/markdown": "\nA data.frame: 6 × 4\n\n| <!--/--> | model &lt;chr&gt; | miles_per_gallon &lt;dbl&gt; | cylinders &lt;dbl&gt; | weight &lt;dbl&gt; |\n|---|---|---|---|---|\n| 1 | Mazda RX4         | 21.0 | 6 | 2.620 |\n| 2 | Mazda RX4 Wag     | 21.0 | 6 | 2.875 |\n| 3 | Datsun 710        | 22.8 | 4 | 2.320 |\n| 4 | Hornet 4 Drive    | 21.4 | 6 | 3.215 |\n| 5 | Hornet Sportabout | 18.7 | 8 | 3.440 |\n| 6 | Valiant           | 18.1 | 6 | 3.460 |\n\n",
            "text/latex": "A data.frame: 6 × 4\n\\begin{tabular}{r|llll}\n  & model & miles\\_per\\_gallon & cylinders & weight\\\\\n  & <chr> & <dbl> & <dbl> & <dbl>\\\\\n\\hline\n\t1 & Mazda RX4         & 21.0 & 6 & 2.620\\\\\n\t2 & Mazda RX4 Wag     & 21.0 & 6 & 2.875\\\\\n\t3 & Datsun 710        & 22.8 & 4 & 2.320\\\\\n\t4 & Hornet 4 Drive    & 21.4 & 6 & 3.215\\\\\n\t5 & Hornet Sportabout & 18.7 & 8 & 3.440\\\\\n\t6 & Valiant           & 18.1 & 6 & 3.460\\\\\n\\end{tabular}\n",
            "text/plain": [
              "  model             miles_per_gallon cylinders weight\n",
              "1 Mazda RX4         21.0             6         2.620 \n",
              "2 Mazda RX4 Wag     21.0             6         2.875 \n",
              "3 Datsun 710        22.8             4         2.320 \n",
              "4 Hornet 4 Drive    21.4             6         3.215 \n",
              "5 Hornet Sportabout 18.7             8         3.440 \n",
              "6 Valiant           18.1             6         3.460 "
            ]
          },
          "metadata": {}
        }
      ]
    },
    {
      "cell_type": "code",
      "source": [
        "subset %>% arrange(miles_per_gallon) %>% head()"
      ],
      "metadata": {
        "colab": {
          "base_uri": "https://localhost:8080/",
          "height": 286
        },
        "id": "ooOBQ5kKOVff",
        "outputId": "bf49369e-a61e-4223-d963-3a49eda56689"
      },
      "execution_count": 86,
      "outputs": [
        {
          "output_type": "display_data",
          "data": {
            "text/html": [
              "<table class=\"dataframe\">\n",
              "<caption>A data.frame: 6 × 4</caption>\n",
              "<thead>\n",
              "\t<tr><th></th><th scope=col>model</th><th scope=col>miles_per_gallon</th><th scope=col>cylinders</th><th scope=col>weight</th></tr>\n",
              "\t<tr><th></th><th scope=col>&lt;chr&gt;</th><th scope=col>&lt;dbl&gt;</th><th scope=col>&lt;dbl&gt;</th><th scope=col>&lt;dbl&gt;</th></tr>\n",
              "</thead>\n",
              "<tbody>\n",
              "\t<tr><th scope=row>1</th><td>Cadillac Fleetwood </td><td>10.4</td><td>8</td><td>5.250</td></tr>\n",
              "\t<tr><th scope=row>2</th><td>Lincoln Continental</td><td>10.4</td><td>8</td><td>5.424</td></tr>\n",
              "\t<tr><th scope=row>3</th><td>Camaro Z28         </td><td>13.3</td><td>8</td><td>3.840</td></tr>\n",
              "\t<tr><th scope=row>4</th><td>Duster 360         </td><td>14.3</td><td>8</td><td>3.570</td></tr>\n",
              "\t<tr><th scope=row>5</th><td>Chrysler Imperial  </td><td>14.7</td><td>8</td><td>5.345</td></tr>\n",
              "\t<tr><th scope=row>6</th><td>Maserati Bora      </td><td>15.0</td><td>8</td><td>3.570</td></tr>\n",
              "</tbody>\n",
              "</table>\n"
            ],
            "text/markdown": "\nA data.frame: 6 × 4\n\n| <!--/--> | model &lt;chr&gt; | miles_per_gallon &lt;dbl&gt; | cylinders &lt;dbl&gt; | weight &lt;dbl&gt; |\n|---|---|---|---|---|\n| 1 | Cadillac Fleetwood  | 10.4 | 8 | 5.250 |\n| 2 | Lincoln Continental | 10.4 | 8 | 5.424 |\n| 3 | Camaro Z28          | 13.3 | 8 | 3.840 |\n| 4 | Duster 360          | 14.3 | 8 | 3.570 |\n| 5 | Chrysler Imperial   | 14.7 | 8 | 5.345 |\n| 6 | Maserati Bora       | 15.0 | 8 | 3.570 |\n\n",
            "text/latex": "A data.frame: 6 × 4\n\\begin{tabular}{r|llll}\n  & model & miles\\_per\\_gallon & cylinders & weight\\\\\n  & <chr> & <dbl> & <dbl> & <dbl>\\\\\n\\hline\n\t1 & Cadillac Fleetwood  & 10.4 & 8 & 5.250\\\\\n\t2 & Lincoln Continental & 10.4 & 8 & 5.424\\\\\n\t3 & Camaro Z28          & 13.3 & 8 & 3.840\\\\\n\t4 & Duster 360          & 14.3 & 8 & 3.570\\\\\n\t5 & Chrysler Imperial   & 14.7 & 8 & 5.345\\\\\n\t6 & Maserati Bora       & 15.0 & 8 & 3.570\\\\\n\\end{tabular}\n",
            "text/plain": [
              "  model               miles_per_gallon cylinders weight\n",
              "1 Cadillac Fleetwood  10.4             8         5.250 \n",
              "2 Lincoln Continental 10.4             8         5.424 \n",
              "3 Camaro Z28          13.3             8         3.840 \n",
              "4 Duster 360          14.3             8         3.570 \n",
              "5 Chrysler Imperial   14.7             8         5.345 \n",
              "6 Maserati Bora       15.0             8         3.570 "
            ]
          },
          "metadata": {}
        }
      ]
    },
    {
      "cell_type": "code",
      "source": [
        "subset %>% arrange(desc(miles_per_gallon)) %>% head()"
      ],
      "metadata": {
        "colab": {
          "base_uri": "https://localhost:8080/",
          "height": 286
        },
        "id": "kr1ddXBIOy31",
        "outputId": "ddad80f3-0462-44f7-95b0-93406c4a8a35"
      },
      "execution_count": 87,
      "outputs": [
        {
          "output_type": "display_data",
          "data": {
            "text/html": [
              "<table class=\"dataframe\">\n",
              "<caption>A data.frame: 6 × 4</caption>\n",
              "<thead>\n",
              "\t<tr><th></th><th scope=col>model</th><th scope=col>miles_per_gallon</th><th scope=col>cylinders</th><th scope=col>weight</th></tr>\n",
              "\t<tr><th></th><th scope=col>&lt;chr&gt;</th><th scope=col>&lt;dbl&gt;</th><th scope=col>&lt;dbl&gt;</th><th scope=col>&lt;dbl&gt;</th></tr>\n",
              "</thead>\n",
              "<tbody>\n",
              "\t<tr><th scope=row>1</th><td>Toyota Corolla</td><td>33.9</td><td>4</td><td>1.835</td></tr>\n",
              "\t<tr><th scope=row>2</th><td>Fiat 128      </td><td>32.4</td><td>4</td><td>2.200</td></tr>\n",
              "\t<tr><th scope=row>3</th><td>Honda Civic   </td><td>30.4</td><td>4</td><td>1.615</td></tr>\n",
              "\t<tr><th scope=row>4</th><td>Lotus Europa  </td><td>30.4</td><td>4</td><td>1.513</td></tr>\n",
              "\t<tr><th scope=row>5</th><td>Fiat X1-9     </td><td>27.3</td><td>4</td><td>1.935</td></tr>\n",
              "\t<tr><th scope=row>6</th><td>Porsche 914-2 </td><td>26.0</td><td>4</td><td>2.140</td></tr>\n",
              "</tbody>\n",
              "</table>\n"
            ],
            "text/markdown": "\nA data.frame: 6 × 4\n\n| <!--/--> | model &lt;chr&gt; | miles_per_gallon &lt;dbl&gt; | cylinders &lt;dbl&gt; | weight &lt;dbl&gt; |\n|---|---|---|---|---|\n| 1 | Toyota Corolla | 33.9 | 4 | 1.835 |\n| 2 | Fiat 128       | 32.4 | 4 | 2.200 |\n| 3 | Honda Civic    | 30.4 | 4 | 1.615 |\n| 4 | Lotus Europa   | 30.4 | 4 | 1.513 |\n| 5 | Fiat X1-9      | 27.3 | 4 | 1.935 |\n| 6 | Porsche 914-2  | 26.0 | 4 | 2.140 |\n\n",
            "text/latex": "A data.frame: 6 × 4\n\\begin{tabular}{r|llll}\n  & model & miles\\_per\\_gallon & cylinders & weight\\\\\n  & <chr> & <dbl> & <dbl> & <dbl>\\\\\n\\hline\n\t1 & Toyota Corolla & 33.9 & 4 & 1.835\\\\\n\t2 & Fiat 128       & 32.4 & 4 & 2.200\\\\\n\t3 & Honda Civic    & 30.4 & 4 & 1.615\\\\\n\t4 & Lotus Europa   & 30.4 & 4 & 1.513\\\\\n\t5 & Fiat X1-9      & 27.3 & 4 & 1.935\\\\\n\t6 & Porsche 914-2  & 26.0 & 4 & 2.140\\\\\n\\end{tabular}\n",
            "text/plain": [
              "  model          miles_per_gallon cylinders weight\n",
              "1 Toyota Corolla 33.9             4         1.835 \n",
              "2 Fiat 128       32.4             4         2.200 \n",
              "3 Honda Civic    30.4             4         1.615 \n",
              "4 Lotus Europa   30.4             4         1.513 \n",
              "5 Fiat X1-9      27.3             4         1.935 \n",
              "6 Porsche 914-2  26.0             4         2.140 "
            ]
          },
          "metadata": {}
        }
      ]
    },
    {
      "cell_type": "markdown",
      "source": [
        "# **dplyr:Mutate**"
      ],
      "metadata": {
        "id": "qeiWyTvMPVzk"
      }
    },
    {
      "cell_type": "markdown",
      "source": [
        "Use mutate() to add new variables to an existing dataframe."
      ],
      "metadata": {
        "id": "SlyQAWLRPb5W"
      }
    },
    {
      "cell_type": "code",
      "source": [
        "data <- mtcars %>% select(mpg, cyl, hp, wt)\n",
        "head(data)"
      ],
      "metadata": {
        "colab": {
          "base_uri": "https://localhost:8080/",
          "height": 286
        },
        "id": "PsJibsPUPHt5",
        "outputId": "70a00785-527a-4d49-ed7a-0fb7cbc842e0"
      },
      "execution_count": 88,
      "outputs": [
        {
          "output_type": "display_data",
          "data": {
            "text/html": [
              "<table class=\"dataframe\">\n",
              "<caption>A data.frame: 6 × 4</caption>\n",
              "<thead>\n",
              "\t<tr><th></th><th scope=col>mpg</th><th scope=col>cyl</th><th scope=col>hp</th><th scope=col>wt</th></tr>\n",
              "\t<tr><th></th><th scope=col>&lt;dbl&gt;</th><th scope=col>&lt;dbl&gt;</th><th scope=col>&lt;dbl&gt;</th><th scope=col>&lt;dbl&gt;</th></tr>\n",
              "</thead>\n",
              "<tbody>\n",
              "\t<tr><th scope=row>Mazda RX4</th><td>21.0</td><td>6</td><td>110</td><td>2.620</td></tr>\n",
              "\t<tr><th scope=row>Mazda RX4 Wag</th><td>21.0</td><td>6</td><td>110</td><td>2.875</td></tr>\n",
              "\t<tr><th scope=row>Datsun 710</th><td>22.8</td><td>4</td><td> 93</td><td>2.320</td></tr>\n",
              "\t<tr><th scope=row>Hornet 4 Drive</th><td>21.4</td><td>6</td><td>110</td><td>3.215</td></tr>\n",
              "\t<tr><th scope=row>Hornet Sportabout</th><td>18.7</td><td>8</td><td>175</td><td>3.440</td></tr>\n",
              "\t<tr><th scope=row>Valiant</th><td>18.1</td><td>6</td><td>105</td><td>3.460</td></tr>\n",
              "</tbody>\n",
              "</table>\n"
            ],
            "text/markdown": "\nA data.frame: 6 × 4\n\n| <!--/--> | mpg &lt;dbl&gt; | cyl &lt;dbl&gt; | hp &lt;dbl&gt; | wt &lt;dbl&gt; |\n|---|---|---|---|---|\n| Mazda RX4 | 21.0 | 6 | 110 | 2.620 |\n| Mazda RX4 Wag | 21.0 | 6 | 110 | 2.875 |\n| Datsun 710 | 22.8 | 4 |  93 | 2.320 |\n| Hornet 4 Drive | 21.4 | 6 | 110 | 3.215 |\n| Hornet Sportabout | 18.7 | 8 | 175 | 3.440 |\n| Valiant | 18.1 | 6 | 105 | 3.460 |\n\n",
            "text/latex": "A data.frame: 6 × 4\n\\begin{tabular}{r|llll}\n  & mpg & cyl & hp & wt\\\\\n  & <dbl> & <dbl> & <dbl> & <dbl>\\\\\n\\hline\n\tMazda RX4 & 21.0 & 6 & 110 & 2.620\\\\\n\tMazda RX4 Wag & 21.0 & 6 & 110 & 2.875\\\\\n\tDatsun 710 & 22.8 & 4 &  93 & 2.320\\\\\n\tHornet 4 Drive & 21.4 & 6 & 110 & 3.215\\\\\n\tHornet Sportabout & 18.7 & 8 & 175 & 3.440\\\\\n\tValiant & 18.1 & 6 & 105 & 3.460\\\\\n\\end{tabular}\n",
            "text/plain": [
              "                  mpg  cyl hp  wt   \n",
              "Mazda RX4         21.0 6   110 2.620\n",
              "Mazda RX4 Wag     21.0 6   110 2.875\n",
              "Datsun 710        22.8 4    93 2.320\n",
              "Hornet 4 Drive    21.4 6   110 3.215\n",
              "Hornet Sportabout 18.7 8   175 3.440\n",
              "Valiant           18.1 6   105 3.460"
            ]
          },
          "metadata": {}
        }
      ]
    },
    {
      "cell_type": "code",
      "source": [
        "data %>% mutate(full_weight = wt * 1000) %>% head()"
      ],
      "metadata": {
        "colab": {
          "base_uri": "https://localhost:8080/",
          "height": 286
        },
        "id": "rUml7Q0DRaHA",
        "outputId": "5a4b9922-a6ae-47f2-92db-44336a8e6251"
      },
      "execution_count": 89,
      "outputs": [
        {
          "output_type": "display_data",
          "data": {
            "text/html": [
              "<table class=\"dataframe\">\n",
              "<caption>A data.frame: 6 × 5</caption>\n",
              "<thead>\n",
              "\t<tr><th></th><th scope=col>mpg</th><th scope=col>cyl</th><th scope=col>hp</th><th scope=col>wt</th><th scope=col>full_weight</th></tr>\n",
              "\t<tr><th></th><th scope=col>&lt;dbl&gt;</th><th scope=col>&lt;dbl&gt;</th><th scope=col>&lt;dbl&gt;</th><th scope=col>&lt;dbl&gt;</th><th scope=col>&lt;dbl&gt;</th></tr>\n",
              "</thead>\n",
              "<tbody>\n",
              "\t<tr><th scope=row>Mazda RX4</th><td>21.0</td><td>6</td><td>110</td><td>2.620</td><td>2620</td></tr>\n",
              "\t<tr><th scope=row>Mazda RX4 Wag</th><td>21.0</td><td>6</td><td>110</td><td>2.875</td><td>2875</td></tr>\n",
              "\t<tr><th scope=row>Datsun 710</th><td>22.8</td><td>4</td><td> 93</td><td>2.320</td><td>2320</td></tr>\n",
              "\t<tr><th scope=row>Hornet 4 Drive</th><td>21.4</td><td>6</td><td>110</td><td>3.215</td><td>3215</td></tr>\n",
              "\t<tr><th scope=row>Hornet Sportabout</th><td>18.7</td><td>8</td><td>175</td><td>3.440</td><td>3440</td></tr>\n",
              "\t<tr><th scope=row>Valiant</th><td>18.1</td><td>6</td><td>105</td><td>3.460</td><td>3460</td></tr>\n",
              "</tbody>\n",
              "</table>\n"
            ],
            "text/markdown": "\nA data.frame: 6 × 5\n\n| <!--/--> | mpg &lt;dbl&gt; | cyl &lt;dbl&gt; | hp &lt;dbl&gt; | wt &lt;dbl&gt; | full_weight &lt;dbl&gt; |\n|---|---|---|---|---|---|\n| Mazda RX4 | 21.0 | 6 | 110 | 2.620 | 2620 |\n| Mazda RX4 Wag | 21.0 | 6 | 110 | 2.875 | 2875 |\n| Datsun 710 | 22.8 | 4 |  93 | 2.320 | 2320 |\n| Hornet 4 Drive | 21.4 | 6 | 110 | 3.215 | 3215 |\n| Hornet Sportabout | 18.7 | 8 | 175 | 3.440 | 3440 |\n| Valiant | 18.1 | 6 | 105 | 3.460 | 3460 |\n\n",
            "text/latex": "A data.frame: 6 × 5\n\\begin{tabular}{r|lllll}\n  & mpg & cyl & hp & wt & full\\_weight\\\\\n  & <dbl> & <dbl> & <dbl> & <dbl> & <dbl>\\\\\n\\hline\n\tMazda RX4 & 21.0 & 6 & 110 & 2.620 & 2620\\\\\n\tMazda RX4 Wag & 21.0 & 6 & 110 & 2.875 & 2875\\\\\n\tDatsun 710 & 22.8 & 4 &  93 & 2.320 & 2320\\\\\n\tHornet 4 Drive & 21.4 & 6 & 110 & 3.215 & 3215\\\\\n\tHornet Sportabout & 18.7 & 8 & 175 & 3.440 & 3440\\\\\n\tValiant & 18.1 & 6 & 105 & 3.460 & 3460\\\\\n\\end{tabular}\n",
            "text/plain": [
              "                  mpg  cyl hp  wt    full_weight\n",
              "Mazda RX4         21.0 6   110 2.620 2620       \n",
              "Mazda RX4 Wag     21.0 6   110 2.875 2875       \n",
              "Datsun 710        22.8 4    93 2.320 2320       \n",
              "Hornet 4 Drive    21.4 6   110 3.215 3215       \n",
              "Hornet Sportabout 18.7 8   175 3.440 3440       \n",
              "Valiant           18.1 6   105 3.460 3460       "
            ]
          },
          "metadata": {}
        }
      ]
    },
    {
      "cell_type": "code",
      "source": [
        "data %>% mutate(full_weight = wt * 1000,\n",
        "                hp_per_cyl = hp / cyl) %>%\n",
        "         head()"
      ],
      "metadata": {
        "colab": {
          "base_uri": "https://localhost:8080/",
          "height": 286
        },
        "id": "Wsxdlb1aRtKO",
        "outputId": "c4586b44-3586-4838-b87a-02deb44b6f57"
      },
      "execution_count": 90,
      "outputs": [
        {
          "output_type": "display_data",
          "data": {
            "text/html": [
              "<table class=\"dataframe\">\n",
              "<caption>A data.frame: 6 × 6</caption>\n",
              "<thead>\n",
              "\t<tr><th></th><th scope=col>mpg</th><th scope=col>cyl</th><th scope=col>hp</th><th scope=col>wt</th><th scope=col>full_weight</th><th scope=col>hp_per_cyl</th></tr>\n",
              "\t<tr><th></th><th scope=col>&lt;dbl&gt;</th><th scope=col>&lt;dbl&gt;</th><th scope=col>&lt;dbl&gt;</th><th scope=col>&lt;dbl&gt;</th><th scope=col>&lt;dbl&gt;</th><th scope=col>&lt;dbl&gt;</th></tr>\n",
              "</thead>\n",
              "<tbody>\n",
              "\t<tr><th scope=row>Mazda RX4</th><td>21.0</td><td>6</td><td>110</td><td>2.620</td><td>2620</td><td>18.33333</td></tr>\n",
              "\t<tr><th scope=row>Mazda RX4 Wag</th><td>21.0</td><td>6</td><td>110</td><td>2.875</td><td>2875</td><td>18.33333</td></tr>\n",
              "\t<tr><th scope=row>Datsun 710</th><td>22.8</td><td>4</td><td> 93</td><td>2.320</td><td>2320</td><td>23.25000</td></tr>\n",
              "\t<tr><th scope=row>Hornet 4 Drive</th><td>21.4</td><td>6</td><td>110</td><td>3.215</td><td>3215</td><td>18.33333</td></tr>\n",
              "\t<tr><th scope=row>Hornet Sportabout</th><td>18.7</td><td>8</td><td>175</td><td>3.440</td><td>3440</td><td>21.87500</td></tr>\n",
              "\t<tr><th scope=row>Valiant</th><td>18.1</td><td>6</td><td>105</td><td>3.460</td><td>3460</td><td>17.50000</td></tr>\n",
              "</tbody>\n",
              "</table>\n"
            ],
            "text/markdown": "\nA data.frame: 6 × 6\n\n| <!--/--> | mpg &lt;dbl&gt; | cyl &lt;dbl&gt; | hp &lt;dbl&gt; | wt &lt;dbl&gt; | full_weight &lt;dbl&gt; | hp_per_cyl &lt;dbl&gt; |\n|---|---|---|---|---|---|---|\n| Mazda RX4 | 21.0 | 6 | 110 | 2.620 | 2620 | 18.33333 |\n| Mazda RX4 Wag | 21.0 | 6 | 110 | 2.875 | 2875 | 18.33333 |\n| Datsun 710 | 22.8 | 4 |  93 | 2.320 | 2320 | 23.25000 |\n| Hornet 4 Drive | 21.4 | 6 | 110 | 3.215 | 3215 | 18.33333 |\n| Hornet Sportabout | 18.7 | 8 | 175 | 3.440 | 3440 | 21.87500 |\n| Valiant | 18.1 | 6 | 105 | 3.460 | 3460 | 17.50000 |\n\n",
            "text/latex": "A data.frame: 6 × 6\n\\begin{tabular}{r|llllll}\n  & mpg & cyl & hp & wt & full\\_weight & hp\\_per\\_cyl\\\\\n  & <dbl> & <dbl> & <dbl> & <dbl> & <dbl> & <dbl>\\\\\n\\hline\n\tMazda RX4 & 21.0 & 6 & 110 & 2.620 & 2620 & 18.33333\\\\\n\tMazda RX4 Wag & 21.0 & 6 & 110 & 2.875 & 2875 & 18.33333\\\\\n\tDatsun 710 & 22.8 & 4 &  93 & 2.320 & 2320 & 23.25000\\\\\n\tHornet 4 Drive & 21.4 & 6 & 110 & 3.215 & 3215 & 18.33333\\\\\n\tHornet Sportabout & 18.7 & 8 & 175 & 3.440 & 3440 & 21.87500\\\\\n\tValiant & 18.1 & 6 & 105 & 3.460 & 3460 & 17.50000\\\\\n\\end{tabular}\n",
            "text/plain": [
              "                  mpg  cyl hp  wt    full_weight hp_per_cyl\n",
              "Mazda RX4         21.0 6   110 2.620 2620        18.33333  \n",
              "Mazda RX4 Wag     21.0 6   110 2.875 2875        18.33333  \n",
              "Datsun 710        22.8 4    93 2.320 2320        23.25000  \n",
              "Hornet 4 Drive    21.4 6   110 3.215 3215        18.33333  \n",
              "Hornet Sportabout 18.7 8   175 3.440 3440        21.87500  \n",
              "Valiant           18.1 6   105 3.460 3460        17.50000  "
            ]
          },
          "metadata": {}
        }
      ]
    },
    {
      "cell_type": "code",
      "source": [
        "data %>% mutate(mpg_category = if_else(mpg > 22, \"high\",\n",
        "                               if_else(mpg > 15, \"medium\",\"low\"))) %>%\n",
        "         head(10)"
      ],
      "metadata": {
        "colab": {
          "base_uri": "https://localhost:8080/",
          "height": 411
        },
        "id": "vHli6RWTR-Bs",
        "outputId": "649e890f-6673-4202-9676-91f7d0da9b1c"
      },
      "execution_count": 91,
      "outputs": [
        {
          "output_type": "display_data",
          "data": {
            "text/html": [
              "<table class=\"dataframe\">\n",
              "<caption>A data.frame: 10 × 5</caption>\n",
              "<thead>\n",
              "\t<tr><th></th><th scope=col>mpg</th><th scope=col>cyl</th><th scope=col>hp</th><th scope=col>wt</th><th scope=col>mpg_category</th></tr>\n",
              "\t<tr><th></th><th scope=col>&lt;dbl&gt;</th><th scope=col>&lt;dbl&gt;</th><th scope=col>&lt;dbl&gt;</th><th scope=col>&lt;dbl&gt;</th><th scope=col>&lt;chr&gt;</th></tr>\n",
              "</thead>\n",
              "<tbody>\n",
              "\t<tr><th scope=row>Mazda RX4</th><td>21.0</td><td>6</td><td>110</td><td>2.620</td><td>medium</td></tr>\n",
              "\t<tr><th scope=row>Mazda RX4 Wag</th><td>21.0</td><td>6</td><td>110</td><td>2.875</td><td>medium</td></tr>\n",
              "\t<tr><th scope=row>Datsun 710</th><td>22.8</td><td>4</td><td> 93</td><td>2.320</td><td>high  </td></tr>\n",
              "\t<tr><th scope=row>Hornet 4 Drive</th><td>21.4</td><td>6</td><td>110</td><td>3.215</td><td>medium</td></tr>\n",
              "\t<tr><th scope=row>Hornet Sportabout</th><td>18.7</td><td>8</td><td>175</td><td>3.440</td><td>medium</td></tr>\n",
              "\t<tr><th scope=row>Valiant</th><td>18.1</td><td>6</td><td>105</td><td>3.460</td><td>medium</td></tr>\n",
              "\t<tr><th scope=row>Duster 360</th><td>14.3</td><td>8</td><td>245</td><td>3.570</td><td>low   </td></tr>\n",
              "\t<tr><th scope=row>Merc 240D</th><td>24.4</td><td>4</td><td> 62</td><td>3.190</td><td>high  </td></tr>\n",
              "\t<tr><th scope=row>Merc 230</th><td>22.8</td><td>4</td><td> 95</td><td>3.150</td><td>high  </td></tr>\n",
              "\t<tr><th scope=row>Merc 280</th><td>19.2</td><td>6</td><td>123</td><td>3.440</td><td>medium</td></tr>\n",
              "</tbody>\n",
              "</table>\n"
            ],
            "text/markdown": "\nA data.frame: 10 × 5\n\n| <!--/--> | mpg &lt;dbl&gt; | cyl &lt;dbl&gt; | hp &lt;dbl&gt; | wt &lt;dbl&gt; | mpg_category &lt;chr&gt; |\n|---|---|---|---|---|---|\n| Mazda RX4 | 21.0 | 6 | 110 | 2.620 | medium |\n| Mazda RX4 Wag | 21.0 | 6 | 110 | 2.875 | medium |\n| Datsun 710 | 22.8 | 4 |  93 | 2.320 | high   |\n| Hornet 4 Drive | 21.4 | 6 | 110 | 3.215 | medium |\n| Hornet Sportabout | 18.7 | 8 | 175 | 3.440 | medium |\n| Valiant | 18.1 | 6 | 105 | 3.460 | medium |\n| Duster 360 | 14.3 | 8 | 245 | 3.570 | low    |\n| Merc 240D | 24.4 | 4 |  62 | 3.190 | high   |\n| Merc 230 | 22.8 | 4 |  95 | 3.150 | high   |\n| Merc 280 | 19.2 | 6 | 123 | 3.440 | medium |\n\n",
            "text/latex": "A data.frame: 10 × 5\n\\begin{tabular}{r|lllll}\n  & mpg & cyl & hp & wt & mpg\\_category\\\\\n  & <dbl> & <dbl> & <dbl> & <dbl> & <chr>\\\\\n\\hline\n\tMazda RX4 & 21.0 & 6 & 110 & 2.620 & medium\\\\\n\tMazda RX4 Wag & 21.0 & 6 & 110 & 2.875 & medium\\\\\n\tDatsun 710 & 22.8 & 4 &  93 & 2.320 & high  \\\\\n\tHornet 4 Drive & 21.4 & 6 & 110 & 3.215 & medium\\\\\n\tHornet Sportabout & 18.7 & 8 & 175 & 3.440 & medium\\\\\n\tValiant & 18.1 & 6 & 105 & 3.460 & medium\\\\\n\tDuster 360 & 14.3 & 8 & 245 & 3.570 & low   \\\\\n\tMerc 240D & 24.4 & 4 &  62 & 3.190 & high  \\\\\n\tMerc 230 & 22.8 & 4 &  95 & 3.150 & high  \\\\\n\tMerc 280 & 19.2 & 6 & 123 & 3.440 & medium\\\\\n\\end{tabular}\n",
            "text/plain": [
              "                  mpg  cyl hp  wt    mpg_category\n",
              "Mazda RX4         21.0 6   110 2.620 medium      \n",
              "Mazda RX4 Wag     21.0 6   110 2.875 medium      \n",
              "Datsun 710        22.8 4    93 2.320 high        \n",
              "Hornet 4 Drive    21.4 6   110 3.215 medium      \n",
              "Hornet Sportabout 18.7 8   175 3.440 medium      \n",
              "Valiant           18.1 6   105 3.460 medium      \n",
              "Duster 360        14.3 8   245 3.570 low         \n",
              "Merc 240D         24.4 4    62 3.190 high        \n",
              "Merc 230          22.8 4    95 3.150 high        \n",
              "Merc 280          19.2 6   123 3.440 medium      "
            ]
          },
          "metadata": {}
        }
      ]
    },
    {
      "cell_type": "markdown",
      "source": [
        "# **dplyr: Seperate & Unite**"
      ],
      "metadata": {
        "id": "H22bCuSJSUJe"
      }
    },
    {
      "cell_type": "code",
      "source": [
        "data <- data.frame(dates = c(\"Jan/2/2018\",\n",
        "                             \"Feb/24/2019\",\n",
        "                             \"Jan/14/2015\",\n",
        "                             \"Mar/4/2016\",\n",
        "                             \"Nov/23/2017\",\n",
        "                             \"Jul/1/2016\"))\n",
        "\n",
        "head(data)"
      ],
      "metadata": {
        "colab": {
          "base_uri": "https://localhost:8080/",
          "height": 303
        },
        "id": "ykVnUPgNSMe_",
        "outputId": "edb810a6-47c1-42e7-ecfd-f65fa0820da3"
      },
      "execution_count": 92,
      "outputs": [
        {
          "output_type": "display_data",
          "data": {
            "text/html": [
              "<table class=\"dataframe\">\n",
              "<caption>A data.frame: 6 × 1</caption>\n",
              "<thead>\n",
              "\t<tr><th></th><th scope=col>dates</th></tr>\n",
              "\t<tr><th></th><th scope=col>&lt;chr&gt;</th></tr>\n",
              "</thead>\n",
              "<tbody>\n",
              "\t<tr><th scope=row>1</th><td>Jan/2/2018 </td></tr>\n",
              "\t<tr><th scope=row>2</th><td>Feb/24/2019</td></tr>\n",
              "\t<tr><th scope=row>3</th><td>Jan/14/2015</td></tr>\n",
              "\t<tr><th scope=row>4</th><td>Mar/4/2016 </td></tr>\n",
              "\t<tr><th scope=row>5</th><td>Nov/23/2017</td></tr>\n",
              "\t<tr><th scope=row>6</th><td>Jul/1/2016 </td></tr>\n",
              "</tbody>\n",
              "</table>\n"
            ],
            "text/markdown": "\nA data.frame: 6 × 1\n\n| <!--/--> | dates &lt;chr&gt; |\n|---|---|\n| 1 | Jan/2/2018  |\n| 2 | Feb/24/2019 |\n| 3 | Jan/14/2015 |\n| 4 | Mar/4/2016  |\n| 5 | Nov/23/2017 |\n| 6 | Jul/1/2016  |\n\n",
            "text/latex": "A data.frame: 6 × 1\n\\begin{tabular}{r|l}\n  & dates\\\\\n  & <chr>\\\\\n\\hline\n\t1 & Jan/2/2018 \\\\\n\t2 & Feb/24/2019\\\\\n\t3 & Jan/14/2015\\\\\n\t4 & Mar/4/2016 \\\\\n\t5 & Nov/23/2017\\\\\n\t6 & Jul/1/2016 \\\\\n\\end{tabular}\n",
            "text/plain": [
              "  dates      \n",
              "1 Jan/2/2018 \n",
              "2 Feb/24/2019\n",
              "3 Jan/14/2015\n",
              "4 Mar/4/2016 \n",
              "5 Nov/23/2017\n",
              "6 Jul/1/2016 "
            ]
          },
          "metadata": {}
        }
      ]
    },
    {
      "cell_type": "code",
      "source": [
        "data %>% separate(dates, c(\"Month\",\"Day\",\"Year\"), sep=\"/\")"
      ],
      "metadata": {
        "colab": {
          "base_uri": "https://localhost:8080/",
          "height": 286
        },
        "id": "F57nnat3SoPm",
        "outputId": "58ce2d0a-b3a3-45a8-e685-6b7993c4f18e"
      },
      "execution_count": 93,
      "outputs": [
        {
          "output_type": "display_data",
          "data": {
            "text/html": [
              "<table class=\"dataframe\">\n",
              "<caption>A data.frame: 6 × 3</caption>\n",
              "<thead>\n",
              "\t<tr><th scope=col>Month</th><th scope=col>Day</th><th scope=col>Year</th></tr>\n",
              "\t<tr><th scope=col>&lt;chr&gt;</th><th scope=col>&lt;chr&gt;</th><th scope=col>&lt;chr&gt;</th></tr>\n",
              "</thead>\n",
              "<tbody>\n",
              "\t<tr><td>Jan</td><td>2 </td><td>2018</td></tr>\n",
              "\t<tr><td>Feb</td><td>24</td><td>2019</td></tr>\n",
              "\t<tr><td>Jan</td><td>14</td><td>2015</td></tr>\n",
              "\t<tr><td>Mar</td><td>4 </td><td>2016</td></tr>\n",
              "\t<tr><td>Nov</td><td>23</td><td>2017</td></tr>\n",
              "\t<tr><td>Jul</td><td>1 </td><td>2016</td></tr>\n",
              "</tbody>\n",
              "</table>\n"
            ],
            "text/markdown": "\nA data.frame: 6 × 3\n\n| Month &lt;chr&gt; | Day &lt;chr&gt; | Year &lt;chr&gt; |\n|---|---|---|\n| Jan | 2  | 2018 |\n| Feb | 24 | 2019 |\n| Jan | 14 | 2015 |\n| Mar | 4  | 2016 |\n| Nov | 23 | 2017 |\n| Jul | 1  | 2016 |\n\n",
            "text/latex": "A data.frame: 6 × 3\n\\begin{tabular}{lll}\n Month & Day & Year\\\\\n <chr> & <chr> & <chr>\\\\\n\\hline\n\t Jan & 2  & 2018\\\\\n\t Feb & 24 & 2019\\\\\n\t Jan & 14 & 2015\\\\\n\t Mar & 4  & 2016\\\\\n\t Nov & 23 & 2017\\\\\n\t Jul & 1  & 2016\\\\\n\\end{tabular}\n",
            "text/plain": [
              "  Month Day Year\n",
              "1 Jan   2   2018\n",
              "2 Feb   24  2019\n",
              "3 Jan   14  2015\n",
              "4 Mar   4   2016\n",
              "5 Nov   23  2017\n",
              "6 Jul   1   2016"
            ]
          },
          "metadata": {}
        }
      ]
    },
    {
      "cell_type": "code",
      "source": [
        "#unite function\n",
        "data %>% separate(dates, c(\"Month\",\"Day\",\"Year\"), sep=\"/\") %>%\n",
        "         unite(new_dates, c(\"Month\",\"Day\",\"Year\"), sep=\",\")"
      ],
      "metadata": {
        "id": "a7kSoXiQS-jQ",
        "colab": {
          "base_uri": "https://localhost:8080/",
          "height": 303
        },
        "outputId": "96ff4a84-e220-4ff0-d2e0-6df568d2c825"
      },
      "execution_count": 94,
      "outputs": [
        {
          "output_type": "display_data",
          "data": {
            "text/html": [
              "<table class=\"dataframe\">\n",
              "<caption>A data.frame: 6 × 1</caption>\n",
              "<thead>\n",
              "\t<tr><th scope=col>new_dates</th></tr>\n",
              "\t<tr><th scope=col>&lt;chr&gt;</th></tr>\n",
              "</thead>\n",
              "<tbody>\n",
              "\t<tr><td>Jan,2,2018 </td></tr>\n",
              "\t<tr><td>Feb,24,2019</td></tr>\n",
              "\t<tr><td>Jan,14,2015</td></tr>\n",
              "\t<tr><td>Mar,4,2016 </td></tr>\n",
              "\t<tr><td>Nov,23,2017</td></tr>\n",
              "\t<tr><td>Jul,1,2016 </td></tr>\n",
              "</tbody>\n",
              "</table>\n"
            ],
            "text/markdown": "\nA data.frame: 6 × 1\n\n| new_dates &lt;chr&gt; |\n|---|\n| Jan,2,2018  |\n| Feb,24,2019 |\n| Jan,14,2015 |\n| Mar,4,2016  |\n| Nov,23,2017 |\n| Jul,1,2016  |\n\n",
            "text/latex": "A data.frame: 6 × 1\n\\begin{tabular}{l}\n new\\_dates\\\\\n <chr>\\\\\n\\hline\n\t Jan,2,2018 \\\\\n\t Feb,24,2019\\\\\n\t Jan,14,2015\\\\\n\t Mar,4,2016 \\\\\n\t Nov,23,2017\\\\\n\t Jul,1,2016 \\\\\n\\end{tabular}\n",
            "text/plain": [
              "  new_dates  \n",
              "1 Jan,2,2018 \n",
              "2 Feb,24,2019\n",
              "3 Jan,14,2015\n",
              "4 Mar,4,2016 \n",
              "5 Nov,23,2017\n",
              "6 Jul,1,2016 "
            ]
          },
          "metadata": {}
        }
      ]
    },
    {
      "cell_type": "markdown",
      "source": [
        "# **dplyr: Gather and Spread**"
      ],
      "metadata": {
        "id": "Xaqc0V1qTm8b"
      }
    },
    {
      "cell_type": "markdown",
      "source": [
        "Use the gather() to collapse columns into key value pairs. Gather creates \"long\" or \"tall\" format data from \"wide\" format data."
      ],
      "metadata": {
        "id": "ZgoZDsG_Tv03"
      }
    },
    {
      "cell_type": "code",
      "source": [
        "wide_data <- data.frame(City = c(\"Minneapolis\", \"New York\", \"Chicago\"),\n",
        "                        Jan = c(9, 16, 16),\n",
        "                        Feb = c(15, 17, 17),\n",
        "                        Mar = c(15, 18, 19),\n",
        "                        Apr = c(22, 20, 18),\n",
        "                        May = c(20, 21, 19),\n",
        "                        Jun = c(19, 22, 19),\n",
        "                        July = c(18, 23, 18),\n",
        "                        Aug = c(20, 22, 17),\n",
        "                        Sep = c(17, 21, 18),\n",
        "                        Oct = c(15, 19, 16),\n",
        "                        Nov = c(13, 18, 15),\n",
        "                        Dec = c(12, 16, 16))"
      ],
      "metadata": {
        "id": "wOsnLIGeTu83"
      },
      "execution_count": 95,
      "outputs": []
    },
    {
      "cell_type": "code",
      "source": [
        "wide_data"
      ],
      "metadata": {
        "id": "wzUgiA-qTkFa",
        "colab": {
          "base_uri": "https://localhost:8080/",
          "height": 212
        },
        "outputId": "44107881-43bf-44f0-eb78-b1c7eb369fd8"
      },
      "execution_count": 96,
      "outputs": [
        {
          "output_type": "display_data",
          "data": {
            "text/html": [
              "<table class=\"dataframe\">\n",
              "<caption>A data.frame: 3 × 13</caption>\n",
              "<thead>\n",
              "\t<tr><th scope=col>City</th><th scope=col>Jan</th><th scope=col>Feb</th><th scope=col>Mar</th><th scope=col>Apr</th><th scope=col>May</th><th scope=col>Jun</th><th scope=col>July</th><th scope=col>Aug</th><th scope=col>Sep</th><th scope=col>Oct</th><th scope=col>Nov</th><th scope=col>Dec</th></tr>\n",
              "\t<tr><th scope=col>&lt;chr&gt;</th><th scope=col>&lt;dbl&gt;</th><th scope=col>&lt;dbl&gt;</th><th scope=col>&lt;dbl&gt;</th><th scope=col>&lt;dbl&gt;</th><th scope=col>&lt;dbl&gt;</th><th scope=col>&lt;dbl&gt;</th><th scope=col>&lt;dbl&gt;</th><th scope=col>&lt;dbl&gt;</th><th scope=col>&lt;dbl&gt;</th><th scope=col>&lt;dbl&gt;</th><th scope=col>&lt;dbl&gt;</th><th scope=col>&lt;dbl&gt;</th></tr>\n",
              "</thead>\n",
              "<tbody>\n",
              "\t<tr><td>Minneapolis</td><td> 9</td><td>15</td><td>15</td><td>22</td><td>20</td><td>19</td><td>18</td><td>20</td><td>17</td><td>15</td><td>13</td><td>12</td></tr>\n",
              "\t<tr><td>New York   </td><td>16</td><td>17</td><td>18</td><td>20</td><td>21</td><td>22</td><td>23</td><td>22</td><td>21</td><td>19</td><td>18</td><td>16</td></tr>\n",
              "\t<tr><td>Chicago    </td><td>16</td><td>17</td><td>19</td><td>18</td><td>19</td><td>19</td><td>18</td><td>17</td><td>18</td><td>16</td><td>15</td><td>16</td></tr>\n",
              "</tbody>\n",
              "</table>\n"
            ],
            "text/markdown": "\nA data.frame: 3 × 13\n\n| City &lt;chr&gt; | Jan &lt;dbl&gt; | Feb &lt;dbl&gt; | Mar &lt;dbl&gt; | Apr &lt;dbl&gt; | May &lt;dbl&gt; | Jun &lt;dbl&gt; | July &lt;dbl&gt; | Aug &lt;dbl&gt; | Sep &lt;dbl&gt; | Oct &lt;dbl&gt; | Nov &lt;dbl&gt; | Dec &lt;dbl&gt; |\n|---|---|---|---|---|---|---|---|---|---|---|---|---|\n| Minneapolis |  9 | 15 | 15 | 22 | 20 | 19 | 18 | 20 | 17 | 15 | 13 | 12 |\n| New York    | 16 | 17 | 18 | 20 | 21 | 22 | 23 | 22 | 21 | 19 | 18 | 16 |\n| Chicago     | 16 | 17 | 19 | 18 | 19 | 19 | 18 | 17 | 18 | 16 | 15 | 16 |\n\n",
            "text/latex": "A data.frame: 3 × 13\n\\begin{tabular}{lllllllllllll}\n City & Jan & Feb & Mar & Apr & May & Jun & July & Aug & Sep & Oct & Nov & Dec\\\\\n <chr> & <dbl> & <dbl> & <dbl> & <dbl> & <dbl> & <dbl> & <dbl> & <dbl> & <dbl> & <dbl> & <dbl> & <dbl>\\\\\n\\hline\n\t Minneapolis &  9 & 15 & 15 & 22 & 20 & 19 & 18 & 20 & 17 & 15 & 13 & 12\\\\\n\t New York    & 16 & 17 & 18 & 20 & 21 & 22 & 23 & 22 & 21 & 19 & 18 & 16\\\\\n\t Chicago     & 16 & 17 & 19 & 18 & 19 & 19 & 18 & 17 & 18 & 16 & 15 & 16\\\\\n\\end{tabular}\n",
            "text/plain": [
              "  City        Jan Feb Mar Apr May Jun July Aug Sep Oct Nov Dec\n",
              "1 Minneapolis  9  15  15  22  20  19  18   20  17  15  13  12 \n",
              "2 New York    16  17  18  20  21  22  23   22  21  19  18  16 \n",
              "3 Chicago     16  17  19  18  19  19  18   17  18  16  15  16 "
            ]
          },
          "metadata": {}
        }
      ]
    },
    {
      "cell_type": "code",
      "source": [
        "long_data <- wide_data %>%\n",
        "             gather(key = \"Month\",        # Name of new key column\n",
        "                    value = \"Avg_Precip\", # Name of column for values\n",
        "                    c(-City))             # Columns to gather\n",
        "\n",
        "long_data"
      ],
      "metadata": {
        "colab": {
          "base_uri": "https://localhost:8080/",
          "height": 1000
        },
        "id": "6JEK6A8cVX38",
        "outputId": "1892585c-70b1-4b7d-ee2c-97264d467119"
      },
      "execution_count": 97,
      "outputs": [
        {
          "output_type": "display_data",
          "data": {
            "text/html": [
              "<table class=\"dataframe\">\n",
              "<caption>A data.frame: 36 × 3</caption>\n",
              "<thead>\n",
              "\t<tr><th scope=col>City</th><th scope=col>Month</th><th scope=col>Avg_Precip</th></tr>\n",
              "\t<tr><th scope=col>&lt;chr&gt;</th><th scope=col>&lt;chr&gt;</th><th scope=col>&lt;dbl&gt;</th></tr>\n",
              "</thead>\n",
              "<tbody>\n",
              "\t<tr><td>Minneapolis</td><td>Jan </td><td> 9</td></tr>\n",
              "\t<tr><td>New York   </td><td>Jan </td><td>16</td></tr>\n",
              "\t<tr><td>Chicago    </td><td>Jan </td><td>16</td></tr>\n",
              "\t<tr><td>Minneapolis</td><td>Feb </td><td>15</td></tr>\n",
              "\t<tr><td>New York   </td><td>Feb </td><td>17</td></tr>\n",
              "\t<tr><td>Chicago    </td><td>Feb </td><td>17</td></tr>\n",
              "\t<tr><td>Minneapolis</td><td>Mar </td><td>15</td></tr>\n",
              "\t<tr><td>New York   </td><td>Mar </td><td>18</td></tr>\n",
              "\t<tr><td>Chicago    </td><td>Mar </td><td>19</td></tr>\n",
              "\t<tr><td>Minneapolis</td><td>Apr </td><td>22</td></tr>\n",
              "\t<tr><td>New York   </td><td>Apr </td><td>20</td></tr>\n",
              "\t<tr><td>Chicago    </td><td>Apr </td><td>18</td></tr>\n",
              "\t<tr><td>Minneapolis</td><td>May </td><td>20</td></tr>\n",
              "\t<tr><td>New York   </td><td>May </td><td>21</td></tr>\n",
              "\t<tr><td>Chicago    </td><td>May </td><td>19</td></tr>\n",
              "\t<tr><td>Minneapolis</td><td>Jun </td><td>19</td></tr>\n",
              "\t<tr><td>New York   </td><td>Jun </td><td>22</td></tr>\n",
              "\t<tr><td>Chicago    </td><td>Jun </td><td>19</td></tr>\n",
              "\t<tr><td>Minneapolis</td><td>July</td><td>18</td></tr>\n",
              "\t<tr><td>New York   </td><td>July</td><td>23</td></tr>\n",
              "\t<tr><td>Chicago    </td><td>July</td><td>18</td></tr>\n",
              "\t<tr><td>Minneapolis</td><td>Aug </td><td>20</td></tr>\n",
              "\t<tr><td>New York   </td><td>Aug </td><td>22</td></tr>\n",
              "\t<tr><td>Chicago    </td><td>Aug </td><td>17</td></tr>\n",
              "\t<tr><td>Minneapolis</td><td>Sep </td><td>17</td></tr>\n",
              "\t<tr><td>New York   </td><td>Sep </td><td>21</td></tr>\n",
              "\t<tr><td>Chicago    </td><td>Sep </td><td>18</td></tr>\n",
              "\t<tr><td>Minneapolis</td><td>Oct </td><td>15</td></tr>\n",
              "\t<tr><td>New York   </td><td>Oct </td><td>19</td></tr>\n",
              "\t<tr><td>Chicago    </td><td>Oct </td><td>16</td></tr>\n",
              "\t<tr><td>Minneapolis</td><td>Nov </td><td>13</td></tr>\n",
              "\t<tr><td>New York   </td><td>Nov </td><td>18</td></tr>\n",
              "\t<tr><td>Chicago    </td><td>Nov </td><td>15</td></tr>\n",
              "\t<tr><td>Minneapolis</td><td>Dec </td><td>12</td></tr>\n",
              "\t<tr><td>New York   </td><td>Dec </td><td>16</td></tr>\n",
              "\t<tr><td>Chicago    </td><td>Dec </td><td>16</td></tr>\n",
              "</tbody>\n",
              "</table>\n"
            ],
            "text/markdown": "\nA data.frame: 36 × 3\n\n| City &lt;chr&gt; | Month &lt;chr&gt; | Avg_Precip &lt;dbl&gt; |\n|---|---|---|\n| Minneapolis | Jan  |  9 |\n| New York    | Jan  | 16 |\n| Chicago     | Jan  | 16 |\n| Minneapolis | Feb  | 15 |\n| New York    | Feb  | 17 |\n| Chicago     | Feb  | 17 |\n| Minneapolis | Mar  | 15 |\n| New York    | Mar  | 18 |\n| Chicago     | Mar  | 19 |\n| Minneapolis | Apr  | 22 |\n| New York    | Apr  | 20 |\n| Chicago     | Apr  | 18 |\n| Minneapolis | May  | 20 |\n| New York    | May  | 21 |\n| Chicago     | May  | 19 |\n| Minneapolis | Jun  | 19 |\n| New York    | Jun  | 22 |\n| Chicago     | Jun  | 19 |\n| Minneapolis | July | 18 |\n| New York    | July | 23 |\n| Chicago     | July | 18 |\n| Minneapolis | Aug  | 20 |\n| New York    | Aug  | 22 |\n| Chicago     | Aug  | 17 |\n| Minneapolis | Sep  | 17 |\n| New York    | Sep  | 21 |\n| Chicago     | Sep  | 18 |\n| Minneapolis | Oct  | 15 |\n| New York    | Oct  | 19 |\n| Chicago     | Oct  | 16 |\n| Minneapolis | Nov  | 13 |\n| New York    | Nov  | 18 |\n| Chicago     | Nov  | 15 |\n| Minneapolis | Dec  | 12 |\n| New York    | Dec  | 16 |\n| Chicago     | Dec  | 16 |\n\n",
            "text/latex": "A data.frame: 36 × 3\n\\begin{tabular}{lll}\n City & Month & Avg\\_Precip\\\\\n <chr> & <chr> & <dbl>\\\\\n\\hline\n\t Minneapolis & Jan  &  9\\\\\n\t New York    & Jan  & 16\\\\\n\t Chicago     & Jan  & 16\\\\\n\t Minneapolis & Feb  & 15\\\\\n\t New York    & Feb  & 17\\\\\n\t Chicago     & Feb  & 17\\\\\n\t Minneapolis & Mar  & 15\\\\\n\t New York    & Mar  & 18\\\\\n\t Chicago     & Mar  & 19\\\\\n\t Minneapolis & Apr  & 22\\\\\n\t New York    & Apr  & 20\\\\\n\t Chicago     & Apr  & 18\\\\\n\t Minneapolis & May  & 20\\\\\n\t New York    & May  & 21\\\\\n\t Chicago     & May  & 19\\\\\n\t Minneapolis & Jun  & 19\\\\\n\t New York    & Jun  & 22\\\\\n\t Chicago     & Jun  & 19\\\\\n\t Minneapolis & July & 18\\\\\n\t New York    & July & 23\\\\\n\t Chicago     & July & 18\\\\\n\t Minneapolis & Aug  & 20\\\\\n\t New York    & Aug  & 22\\\\\n\t Chicago     & Aug  & 17\\\\\n\t Minneapolis & Sep  & 17\\\\\n\t New York    & Sep  & 21\\\\\n\t Chicago     & Sep  & 18\\\\\n\t Minneapolis & Oct  & 15\\\\\n\t New York    & Oct  & 19\\\\\n\t Chicago     & Oct  & 16\\\\\n\t Minneapolis & Nov  & 13\\\\\n\t New York    & Nov  & 18\\\\\n\t Chicago     & Nov  & 15\\\\\n\t Minneapolis & Dec  & 12\\\\\n\t New York    & Dec  & 16\\\\\n\t Chicago     & Dec  & 16\\\\\n\\end{tabular}\n",
            "text/plain": [
              "   City        Month Avg_Precip\n",
              "1  Minneapolis Jan    9        \n",
              "2  New York    Jan   16        \n",
              "3  Chicago     Jan   16        \n",
              "4  Minneapolis Feb   15        \n",
              "5  New York    Feb   17        \n",
              "6  Chicago     Feb   17        \n",
              "7  Minneapolis Mar   15        \n",
              "8  New York    Mar   18        \n",
              "9  Chicago     Mar   19        \n",
              "10 Minneapolis Apr   22        \n",
              "11 New York    Apr   20        \n",
              "12 Chicago     Apr   18        \n",
              "13 Minneapolis May   20        \n",
              "14 New York    May   21        \n",
              "15 Chicago     May   19        \n",
              "16 Minneapolis Jun   19        \n",
              "17 New York    Jun   22        \n",
              "18 Chicago     Jun   19        \n",
              "19 Minneapolis July  18        \n",
              "20 New York    July  23        \n",
              "21 Chicago     July  18        \n",
              "22 Minneapolis Aug   20        \n",
              "23 New York    Aug   22        \n",
              "24 Chicago     Aug   17        \n",
              "25 Minneapolis Sep   17        \n",
              "26 New York    Sep   21        \n",
              "27 Chicago     Sep   18        \n",
              "28 Minneapolis Oct   15        \n",
              "29 New York    Oct   19        \n",
              "30 Chicago     Oct   16        \n",
              "31 Minneapolis Nov   13        \n",
              "32 New York    Nov   18        \n",
              "33 Chicago     Nov   15        \n",
              "34 Minneapolis Dec   12        \n",
              "35 New York    Dec   16        \n",
              "36 Chicago     Dec   16        "
            ]
          },
          "metadata": {}
        }
      ]
    },
    {
      "cell_type": "markdown",
      "source": [
        "Use the spread() to separate key value pairs across multiple columns. spread() lets you turn \"long\" or \"tall\" format data into \"wide\" data."
      ],
      "metadata": {
        "id": "C8mOmlEnY16Z"
      }
    },
    {
      "cell_type": "code",
      "source": [
        "wide_again <- long_data %>%\n",
        "              spread(key = \"Month\",        # Name of new key column\n",
        "                     value = \"Avg_Precip\") # Name of column for values\n",
        "\n",
        "\n",
        "wide_again"
      ],
      "metadata": {
        "colab": {
          "base_uri": "https://localhost:8080/",
          "height": 212
        },
        "id": "RupqU4ycX8r1",
        "outputId": "93eabbe0-1919-4fa5-9503-79f6aa9a900a"
      },
      "execution_count": 98,
      "outputs": [
        {
          "output_type": "display_data",
          "data": {
            "text/html": [
              "<table class=\"dataframe\">\n",
              "<caption>A data.frame: 3 × 13</caption>\n",
              "<thead>\n",
              "\t<tr><th scope=col>City</th><th scope=col>Apr</th><th scope=col>Aug</th><th scope=col>Dec</th><th scope=col>Feb</th><th scope=col>Jan</th><th scope=col>July</th><th scope=col>Jun</th><th scope=col>Mar</th><th scope=col>May</th><th scope=col>Nov</th><th scope=col>Oct</th><th scope=col>Sep</th></tr>\n",
              "\t<tr><th scope=col>&lt;chr&gt;</th><th scope=col>&lt;dbl&gt;</th><th scope=col>&lt;dbl&gt;</th><th scope=col>&lt;dbl&gt;</th><th scope=col>&lt;dbl&gt;</th><th scope=col>&lt;dbl&gt;</th><th scope=col>&lt;dbl&gt;</th><th scope=col>&lt;dbl&gt;</th><th scope=col>&lt;dbl&gt;</th><th scope=col>&lt;dbl&gt;</th><th scope=col>&lt;dbl&gt;</th><th scope=col>&lt;dbl&gt;</th><th scope=col>&lt;dbl&gt;</th></tr>\n",
              "</thead>\n",
              "<tbody>\n",
              "\t<tr><td>Chicago    </td><td>18</td><td>17</td><td>16</td><td>17</td><td>16</td><td>18</td><td>19</td><td>19</td><td>19</td><td>15</td><td>16</td><td>18</td></tr>\n",
              "\t<tr><td>Minneapolis</td><td>22</td><td>20</td><td>12</td><td>15</td><td> 9</td><td>18</td><td>19</td><td>15</td><td>20</td><td>13</td><td>15</td><td>17</td></tr>\n",
              "\t<tr><td>New York   </td><td>20</td><td>22</td><td>16</td><td>17</td><td>16</td><td>23</td><td>22</td><td>18</td><td>21</td><td>18</td><td>19</td><td>21</td></tr>\n",
              "</tbody>\n",
              "</table>\n"
            ],
            "text/markdown": "\nA data.frame: 3 × 13\n\n| City &lt;chr&gt; | Apr &lt;dbl&gt; | Aug &lt;dbl&gt; | Dec &lt;dbl&gt; | Feb &lt;dbl&gt; | Jan &lt;dbl&gt; | July &lt;dbl&gt; | Jun &lt;dbl&gt; | Mar &lt;dbl&gt; | May &lt;dbl&gt; | Nov &lt;dbl&gt; | Oct &lt;dbl&gt; | Sep &lt;dbl&gt; |\n|---|---|---|---|---|---|---|---|---|---|---|---|---|\n| Chicago     | 18 | 17 | 16 | 17 | 16 | 18 | 19 | 19 | 19 | 15 | 16 | 18 |\n| Minneapolis | 22 | 20 | 12 | 15 |  9 | 18 | 19 | 15 | 20 | 13 | 15 | 17 |\n| New York    | 20 | 22 | 16 | 17 | 16 | 23 | 22 | 18 | 21 | 18 | 19 | 21 |\n\n",
            "text/latex": "A data.frame: 3 × 13\n\\begin{tabular}{lllllllllllll}\n City & Apr & Aug & Dec & Feb & Jan & July & Jun & Mar & May & Nov & Oct & Sep\\\\\n <chr> & <dbl> & <dbl> & <dbl> & <dbl> & <dbl> & <dbl> & <dbl> & <dbl> & <dbl> & <dbl> & <dbl> & <dbl>\\\\\n\\hline\n\t Chicago     & 18 & 17 & 16 & 17 & 16 & 18 & 19 & 19 & 19 & 15 & 16 & 18\\\\\n\t Minneapolis & 22 & 20 & 12 & 15 &  9 & 18 & 19 & 15 & 20 & 13 & 15 & 17\\\\\n\t New York    & 20 & 22 & 16 & 17 & 16 & 23 & 22 & 18 & 21 & 18 & 19 & 21\\\\\n\\end{tabular}\n",
            "text/plain": [
              "  City        Apr Aug Dec Feb Jan July Jun Mar May Nov Oct Sep\n",
              "1 Chicago     18  17  16  17  16  18   19  19  19  15  16  18 \n",
              "2 Minneapolis 22  20  12  15   9  18   19  15  20  13  15  17 \n",
              "3 New York    20  22  16  17  16  23   22  18  21  18  19  21 "
            ]
          },
          "metadata": {}
        }
      ]
    },
    {
      "cell_type": "markdown",
      "source": [
        "# **dplyr:Summarize**"
      ],
      "metadata": {
        "id": "7cIT0C3fPVOP"
      }
    },
    {
      "cell_type": "markdown",
      "source": [
        "The summarize() function lets you generate summary statistics for variables in a data set. In general, it lets you apply whatever function you want to a column as long as it returns a single value."
      ],
      "metadata": {
        "id": "5Kp4HlrMa_5n"
      }
    },
    {
      "cell_type": "code",
      "source": [
        "# Use summarize() to find the average mpg\n",
        "data <- mtcars %>% rownames_to_column(\"model\")\n",
        "\n",
        "data %>% summarize(avg_mpg = mean(mpg))"
      ],
      "metadata": {
        "colab": {
          "base_uri": "https://localhost:8080/",
          "height": 164
        },
        "id": "Q98lg8LDa5uk",
        "outputId": "ef2da638-8108-46a6-9f58-f469892e266b"
      },
      "execution_count": 99,
      "outputs": [
        {
          "output_type": "display_data",
          "data": {
            "text/html": [
              "<table class=\"dataframe\">\n",
              "<caption>A data.frame: 1 × 1</caption>\n",
              "<thead>\n",
              "\t<tr><th scope=col>avg_mpg</th></tr>\n",
              "\t<tr><th scope=col>&lt;dbl&gt;</th></tr>\n",
              "</thead>\n",
              "<tbody>\n",
              "\t<tr><td>20.09062</td></tr>\n",
              "</tbody>\n",
              "</table>\n"
            ],
            "text/markdown": "\nA data.frame: 1 × 1\n\n| avg_mpg &lt;dbl&gt; |\n|---|\n| 20.09062 |\n\n",
            "text/latex": "A data.frame: 1 × 1\n\\begin{tabular}{l}\n avg\\_mpg\\\\\n <dbl>\\\\\n\\hline\n\t 20.09062\\\\\n\\end{tabular}\n",
            "text/plain": [
              "  avg_mpg \n",
              "1 20.09062"
            ]
          },
          "metadata": {}
        }
      ]
    },
    {
      "cell_type": "code",
      "source": [
        "data %>% summarize(avg_mpg = mean(mpg),\n",
        "                   median_mpg = median(mpg),\n",
        "                   avg_weight = mean(wt),\n",
        "                   median_weight = median(wt))"
      ],
      "metadata": {
        "colab": {
          "base_uri": "https://localhost:8080/",
          "height": 129
        },
        "id": "HK7nSf0qcYOP",
        "outputId": "7cba8f55-a252-4faa-ca20-1d0dae0f2121"
      },
      "execution_count": 101,
      "outputs": [
        {
          "output_type": "display_data",
          "data": {
            "text/html": [
              "<table class=\"dataframe\">\n",
              "<caption>A data.frame: 1 × 4</caption>\n",
              "<thead>\n",
              "\t<tr><th scope=col>avg_mpg</th><th scope=col>median_mpg</th><th scope=col>avg_weight</th><th scope=col>median_weight</th></tr>\n",
              "\t<tr><th scope=col>&lt;dbl&gt;</th><th scope=col>&lt;dbl&gt;</th><th scope=col>&lt;dbl&gt;</th><th scope=col>&lt;dbl&gt;</th></tr>\n",
              "</thead>\n",
              "<tbody>\n",
              "\t<tr><td>20.09062</td><td>19.2</td><td>3.21725</td><td>3.325</td></tr>\n",
              "</tbody>\n",
              "</table>\n"
            ],
            "text/markdown": "\nA data.frame: 1 × 4\n\n| avg_mpg &lt;dbl&gt; | median_mpg &lt;dbl&gt; | avg_weight &lt;dbl&gt; | median_weight &lt;dbl&gt; |\n|---|---|---|---|\n| 20.09062 | 19.2 | 3.21725 | 3.325 |\n\n",
            "text/latex": "A data.frame: 1 × 4\n\\begin{tabular}{llll}\n avg\\_mpg & median\\_mpg & avg\\_weight & median\\_weight\\\\\n <dbl> & <dbl> & <dbl> & <dbl>\\\\\n\\hline\n\t 20.09062 & 19.2 & 3.21725 & 3.325\\\\\n\\end{tabular}\n",
            "text/plain": [
              "  avg_mpg  median_mpg avg_weight median_weight\n",
              "1 20.09062 19.2       3.21725    3.325        "
            ]
          },
          "metadata": {}
        }
      ]
    },
    {
      "cell_type": "code",
      "source": [
        "data %>% summarize_all(list(mean), na.rm = TRUE)"
      ],
      "metadata": {
        "colab": {
          "base_uri": "https://localhost:8080/",
          "height": 236
        },
        "id": "YV6e9jVedGY8",
        "outputId": "822a5314-4395-4372-a5d2-40509ad676cb"
      },
      "execution_count": 102,
      "outputs": [
        {
          "output_type": "stream",
          "name": "stderr",
          "text": [
            "Warning message:\n",
            "“\u001b[1m\u001b[22mThere was 1 warning in `summarise()`.\n",
            "\u001b[1m\u001b[22m\u001b[36mℹ\u001b[39m In argument: `model = (function (x, ...) ...`.\n",
            "Caused by warning in `mean.default()`:\n",
            "\u001b[33m!\u001b[39m argument is not numeric or logical: returning NA”\n"
          ]
        },
        {
          "output_type": "display_data",
          "data": {
            "text/html": [
              "<table class=\"dataframe\">\n",
              "<caption>A data.frame: 1 × 12</caption>\n",
              "<thead>\n",
              "\t<tr><th scope=col>model</th><th scope=col>mpg</th><th scope=col>cyl</th><th scope=col>disp</th><th scope=col>hp</th><th scope=col>drat</th><th scope=col>wt</th><th scope=col>qsec</th><th scope=col>vs</th><th scope=col>am</th><th scope=col>gear</th><th scope=col>carb</th></tr>\n",
              "\t<tr><th scope=col>&lt;dbl&gt;</th><th scope=col>&lt;dbl&gt;</th><th scope=col>&lt;dbl&gt;</th><th scope=col>&lt;dbl&gt;</th><th scope=col>&lt;dbl&gt;</th><th scope=col>&lt;dbl&gt;</th><th scope=col>&lt;dbl&gt;</th><th scope=col>&lt;dbl&gt;</th><th scope=col>&lt;dbl&gt;</th><th scope=col>&lt;dbl&gt;</th><th scope=col>&lt;dbl&gt;</th><th scope=col>&lt;dbl&gt;</th></tr>\n",
              "</thead>\n",
              "<tbody>\n",
              "\t<tr><td>NA</td><td>20.09062</td><td>6.1875</td><td>230.7219</td><td>146.6875</td><td>3.596563</td><td>3.21725</td><td>17.84875</td><td>0.4375</td><td>0.40625</td><td>3.6875</td><td>2.8125</td></tr>\n",
              "</tbody>\n",
              "</table>\n"
            ],
            "text/markdown": "\nA data.frame: 1 × 12\n\n| model &lt;dbl&gt; | mpg &lt;dbl&gt; | cyl &lt;dbl&gt; | disp &lt;dbl&gt; | hp &lt;dbl&gt; | drat &lt;dbl&gt; | wt &lt;dbl&gt; | qsec &lt;dbl&gt; | vs &lt;dbl&gt; | am &lt;dbl&gt; | gear &lt;dbl&gt; | carb &lt;dbl&gt; |\n|---|---|---|---|---|---|---|---|---|---|---|---|\n| NA | 20.09062 | 6.1875 | 230.7219 | 146.6875 | 3.596563 | 3.21725 | 17.84875 | 0.4375 | 0.40625 | 3.6875 | 2.8125 |\n\n",
            "text/latex": "A data.frame: 1 × 12\n\\begin{tabular}{llllllllllll}\n model & mpg & cyl & disp & hp & drat & wt & qsec & vs & am & gear & carb\\\\\n <dbl> & <dbl> & <dbl> & <dbl> & <dbl> & <dbl> & <dbl> & <dbl> & <dbl> & <dbl> & <dbl> & <dbl>\\\\\n\\hline\n\t NA & 20.09062 & 6.1875 & 230.7219 & 146.6875 & 3.596563 & 3.21725 & 17.84875 & 0.4375 & 0.40625 & 3.6875 & 2.8125\\\\\n\\end{tabular}\n",
            "text/plain": [
              "  model mpg      cyl    disp     hp       drat     wt      qsec     vs    \n",
              "1 NA    20.09062 6.1875 230.7219 146.6875 3.596563 3.21725 17.84875 0.4375\n",
              "  am      gear   carb  \n",
              "1 0.40625 3.6875 2.8125"
            ]
          },
          "metadata": {}
        }
      ]
    },
    {
      "cell_type": "markdown",
      "source": [
        "dplyr provides some useful functions for summarizing data include \"first\" and \"last\" to get the first and last values of a vector, \"n\" to get a count of the number of values and \"n_distinct\" to get a count of the distinct values."
      ],
      "metadata": {
        "id": "688HKcjaeKsD"
      }
    },
    {
      "cell_type": "code",
      "source": [
        "# Extract the number of distinct cylindar configurations\n",
        "data %>% summarize(unique_cyl = n_distinct(cyl))"
      ],
      "metadata": {
        "colab": {
          "base_uri": "https://localhost:8080/",
          "height": 146
        },
        "id": "qbX4PSNNdgju",
        "outputId": "a40d2975-3430-4f5f-d232-cb71546cf645"
      },
      "execution_count": 103,
      "outputs": [
        {
          "output_type": "display_data",
          "data": {
            "text/html": [
              "<table class=\"dataframe\">\n",
              "<caption>A data.frame: 1 × 1</caption>\n",
              "<thead>\n",
              "\t<tr><th scope=col>unique_cyl</th></tr>\n",
              "\t<tr><th scope=col>&lt;int&gt;</th></tr>\n",
              "</thead>\n",
              "<tbody>\n",
              "\t<tr><td>3</td></tr>\n",
              "</tbody>\n",
              "</table>\n"
            ],
            "text/markdown": "\nA data.frame: 1 × 1\n\n| unique_cyl &lt;int&gt; |\n|---|\n| 3 |\n\n",
            "text/latex": "A data.frame: 1 × 1\n\\begin{tabular}{l}\n unique\\_cyl\\\\\n <int>\\\\\n\\hline\n\t 3\\\\\n\\end{tabular}\n",
            "text/plain": [
              "  unique_cyl\n",
              "1 3         "
            ]
          },
          "metadata": {}
        }
      ]
    },
    {
      "cell_type": "markdown",
      "source": [
        "# **Dplyr: Grouping**"
      ],
      "metadata": {
        "id": "zA9xDE9YeZkO"
      }
    },
    {
      "cell_type": "markdown",
      "source": [
        "dplyr functions like mutate and summarize operate on entire columns of data frames by default. Grouping allows you to operations within a specified subset of the data. This is useful for summarizing data based on the value of a categorical variable. For example, with the Titanic disaster training set, we can group passengers by class to generate summary statistics within each passenger class instead of all passengers as a whole."
      ],
      "metadata": {
        "id": "TMRxRGlwegUv"
      }
    },
    {
      "cell_type": "code",
      "source": [
        "data <- read.csv(\"/content/train.csv\",\n",
        "                 stringsAsFactors = FALSE) %>% select(Name, Sex, Pclass, Survived, Fare)\n",
        "\n",
        "data %>% group_by(Pclass) %>%\n",
        "         summarize(avg_fare = mean(Fare))"
      ],
      "metadata": {
        "colab": {
          "base_uri": "https://localhost:8080/",
          "height": 192
        },
        "id": "kP9HB8tyefnM",
        "outputId": "0e256ae5-160a-45ee-b303-294e94a7e319"
      },
      "execution_count": 106,
      "outputs": [
        {
          "output_type": "display_data",
          "data": {
            "text/html": [
              "<table class=\"dataframe\">\n",
              "<caption>A tibble: 3 × 2</caption>\n",
              "<thead>\n",
              "\t<tr><th scope=col>Pclass</th><th scope=col>avg_fare</th></tr>\n",
              "\t<tr><th scope=col>&lt;int&gt;</th><th scope=col>&lt;dbl&gt;</th></tr>\n",
              "</thead>\n",
              "<tbody>\n",
              "\t<tr><td>1</td><td>84.15469</td></tr>\n",
              "\t<tr><td>2</td><td>20.66218</td></tr>\n",
              "\t<tr><td>3</td><td>13.67555</td></tr>\n",
              "</tbody>\n",
              "</table>\n"
            ],
            "text/markdown": "\nA tibble: 3 × 2\n\n| Pclass &lt;int&gt; | avg_fare &lt;dbl&gt; |\n|---|---|\n| 1 | 84.15469 |\n| 2 | 20.66218 |\n| 3 | 13.67555 |\n\n",
            "text/latex": "A tibble: 3 × 2\n\\begin{tabular}{ll}\n Pclass & avg\\_fare\\\\\n <int> & <dbl>\\\\\n\\hline\n\t 1 & 84.15469\\\\\n\t 2 & 20.66218\\\\\n\t 3 & 13.67555\\\\\n\\end{tabular}\n",
            "text/plain": [
              "  Pclass avg_fare\n",
              "1 1      84.15469\n",
              "2 2      20.66218\n",
              "3 3      13.67555"
            ]
          },
          "metadata": {}
        }
      ]
    },
    {
      "cell_type": "code",
      "source": [
        "# You can also use groups to create new variables with mutate\n",
        "\n",
        "data %>% group_by(Pclass) %>%\n",
        "         mutate(Within_Class_Fare_Diff = Fare - mean(Fare)) %>%\n",
        "         head(10)"
      ],
      "metadata": {
        "colab": {
          "base_uri": "https://localhost:8080/",
          "height": 515
        },
        "id": "GKM2DXmjweJ-",
        "outputId": "5142d1e6-1967-4487-fa07-6cd7a393ddd1"
      },
      "execution_count": 107,
      "outputs": [
        {
          "output_type": "display_data",
          "data": {
            "text/html": [
              "<table class=\"dataframe\">\n",
              "<caption>A grouped_df: 10 × 6</caption>\n",
              "<thead>\n",
              "\t<tr><th scope=col>Name</th><th scope=col>Sex</th><th scope=col>Pclass</th><th scope=col>Survived</th><th scope=col>Fare</th><th scope=col>Within_Class_Fare_Diff</th></tr>\n",
              "\t<tr><th scope=col>&lt;chr&gt;</th><th scope=col>&lt;chr&gt;</th><th scope=col>&lt;int&gt;</th><th scope=col>&lt;int&gt;</th><th scope=col>&lt;dbl&gt;</th><th scope=col>&lt;dbl&gt;</th></tr>\n",
              "</thead>\n",
              "<tbody>\n",
              "\t<tr><td>Braund, Mr. Owen Harris                            </td><td>male  </td><td>3</td><td>0</td><td> 7.2500</td><td> -6.425550</td></tr>\n",
              "\t<tr><td>Cumings, Mrs. John Bradley (Florence Briggs Thayer)</td><td>female</td><td>1</td><td>1</td><td>71.2833</td><td>-12.871387</td></tr>\n",
              "\t<tr><td>Heikkinen, Miss. Laina                             </td><td>female</td><td>3</td><td>1</td><td> 7.9250</td><td> -5.750550</td></tr>\n",
              "\t<tr><td>Futrelle, Mrs. Jacques Heath (Lily May Peel)       </td><td>female</td><td>1</td><td>1</td><td>53.1000</td><td>-31.054687</td></tr>\n",
              "\t<tr><td>Allen, Mr. William Henry                           </td><td>male  </td><td>3</td><td>0</td><td> 8.0500</td><td> -5.625550</td></tr>\n",
              "\t<tr><td>Moran, Mr. James                                   </td><td>male  </td><td>3</td><td>0</td><td> 8.4583</td><td> -5.217250</td></tr>\n",
              "\t<tr><td>McCarthy, Mr. Timothy J                            </td><td>male  </td><td>1</td><td>0</td><td>51.8625</td><td>-32.292187</td></tr>\n",
              "\t<tr><td>Palsson, Master. Gosta Leonard                     </td><td>male  </td><td>3</td><td>0</td><td>21.0750</td><td>  7.399450</td></tr>\n",
              "\t<tr><td>Johnson, Mrs. Oscar W (Elisabeth Vilhelmina Berg)  </td><td>female</td><td>3</td><td>1</td><td>11.1333</td><td> -2.542250</td></tr>\n",
              "\t<tr><td>Nasser, Mrs. Nicholas (Adele Achem)                </td><td>female</td><td>2</td><td>1</td><td>30.0708</td><td>  9.408617</td></tr>\n",
              "</tbody>\n",
              "</table>\n"
            ],
            "text/markdown": "\nA grouped_df: 10 × 6\n\n| Name &lt;chr&gt; | Sex &lt;chr&gt; | Pclass &lt;int&gt; | Survived &lt;int&gt; | Fare &lt;dbl&gt; | Within_Class_Fare_Diff &lt;dbl&gt; |\n|---|---|---|---|---|---|\n| Braund, Mr. Owen Harris                             | male   | 3 | 0 |  7.2500 |  -6.425550 |\n| Cumings, Mrs. John Bradley (Florence Briggs Thayer) | female | 1 | 1 | 71.2833 | -12.871387 |\n| Heikkinen, Miss. Laina                              | female | 3 | 1 |  7.9250 |  -5.750550 |\n| Futrelle, Mrs. Jacques Heath (Lily May Peel)        | female | 1 | 1 | 53.1000 | -31.054687 |\n| Allen, Mr. William Henry                            | male   | 3 | 0 |  8.0500 |  -5.625550 |\n| Moran, Mr. James                                    | male   | 3 | 0 |  8.4583 |  -5.217250 |\n| McCarthy, Mr. Timothy J                             | male   | 1 | 0 | 51.8625 | -32.292187 |\n| Palsson, Master. Gosta Leonard                      | male   | 3 | 0 | 21.0750 |   7.399450 |\n| Johnson, Mrs. Oscar W (Elisabeth Vilhelmina Berg)   | female | 3 | 1 | 11.1333 |  -2.542250 |\n| Nasser, Mrs. Nicholas (Adele Achem)                 | female | 2 | 1 | 30.0708 |   9.408617 |\n\n",
            "text/latex": "A grouped\\_df: 10 × 6\n\\begin{tabular}{llllll}\n Name & Sex & Pclass & Survived & Fare & Within\\_Class\\_Fare\\_Diff\\\\\n <chr> & <chr> & <int> & <int> & <dbl> & <dbl>\\\\\n\\hline\n\t Braund, Mr. Owen Harris                             & male   & 3 & 0 &  7.2500 &  -6.425550\\\\\n\t Cumings, Mrs. John Bradley (Florence Briggs Thayer) & female & 1 & 1 & 71.2833 & -12.871387\\\\\n\t Heikkinen, Miss. Laina                              & female & 3 & 1 &  7.9250 &  -5.750550\\\\\n\t Futrelle, Mrs. Jacques Heath (Lily May Peel)        & female & 1 & 1 & 53.1000 & -31.054687\\\\\n\t Allen, Mr. William Henry                            & male   & 3 & 0 &  8.0500 &  -5.625550\\\\\n\t Moran, Mr. James                                    & male   & 3 & 0 &  8.4583 &  -5.217250\\\\\n\t McCarthy, Mr. Timothy J                             & male   & 1 & 0 & 51.8625 & -32.292187\\\\\n\t Palsson, Master. Gosta Leonard                      & male   & 3 & 0 & 21.0750 &   7.399450\\\\\n\t Johnson, Mrs. Oscar W (Elisabeth Vilhelmina Berg)   & female & 3 & 1 & 11.1333 &  -2.542250\\\\\n\t Nasser, Mrs. Nicholas (Adele Achem)                 & female & 2 & 1 & 30.0708 &   9.408617\\\\\n\\end{tabular}\n",
            "text/plain": [
              "   Name                                                Sex    Pclass Survived\n",
              "1  Braund, Mr. Owen Harris                             male   3      0       \n",
              "2  Cumings, Mrs. John Bradley (Florence Briggs Thayer) female 1      1       \n",
              "3  Heikkinen, Miss. Laina                              female 3      1       \n",
              "4  Futrelle, Mrs. Jacques Heath (Lily May Peel)        female 1      1       \n",
              "5  Allen, Mr. William Henry                            male   3      0       \n",
              "6  Moran, Mr. James                                    male   3      0       \n",
              "7  McCarthy, Mr. Timothy J                             male   1      0       \n",
              "8  Palsson, Master. Gosta Leonard                      male   3      0       \n",
              "9  Johnson, Mrs. Oscar W (Elisabeth Vilhelmina Berg)   female 3      1       \n",
              "10 Nasser, Mrs. Nicholas (Adele Achem)                 female 2      1       \n",
              "   Fare    Within_Class_Fare_Diff\n",
              "1   7.2500  -6.425550            \n",
              "2  71.2833 -12.871387            \n",
              "3   7.9250  -5.750550            \n",
              "4  53.1000 -31.054687            \n",
              "5   8.0500  -5.625550            \n",
              "6   8.4583  -5.217250            \n",
              "7  51.8625 -32.292187            \n",
              "8  21.0750   7.399450            \n",
              "9  11.1333  -2.542250            \n",
              "10 30.0708   9.408617            "
            ]
          },
          "metadata": {}
        }
      ]
    },
    {
      "cell_type": "markdown",
      "source": [
        "After grouping, the ungroup() function lets you go back to working with a normal data frame. This allows you to go back and operate on entire columns all at once or switch to a different grouping. It is also possible to group by multiple columns at the same time. Let's look at a use case for using ungroup() and grouping by multiple columns at the same time:"
      ],
      "metadata": {
        "id": "JlGHA9Fq6UPy"
      }
    },
    {
      "cell_type": "code",
      "source": [
        "data %>% group_by(Pclass) %>%\n",
        "         mutate(Within_Class_Fare_Diff = Fare - mean(Fare)) %>%\n",
        "         ungroup() %>%\n",
        "         group_by(Pclass, Survived) %>%\n",
        "         summarize(mean(Within_Class_Fare_Diff))"
      ],
      "metadata": {
        "colab": {
          "base_uri": "https://localhost:8080/",
          "height": 321
        },
        "id": "oc2se7V-6n3B",
        "outputId": "1858c200-f73e-47f3-8ab0-059dfb28a9d1"
      },
      "execution_count": 108,
      "outputs": [
        {
          "output_type": "stream",
          "name": "stderr",
          "text": [
            "\u001b[1m\u001b[22m`summarise()` has grouped output by 'Pclass'. You can override using the\n",
            "`.groups` argument.\n"
          ]
        },
        {
          "output_type": "display_data",
          "data": {
            "text/html": [
              "<table class=\"dataframe\">\n",
              "<caption>A grouped_df: 6 × 3</caption>\n",
              "<thead>\n",
              "\t<tr><th scope=col>Pclass</th><th scope=col>Survived</th><th scope=col>mean(Within_Class_Fare_Diff)</th></tr>\n",
              "\t<tr><th scope=col>&lt;int&gt;</th><th scope=col>&lt;int&gt;</th><th scope=col>&lt;dbl&gt;</th></tr>\n",
              "</thead>\n",
              "<tbody>\n",
              "\t<tr><td>1</td><td>0</td><td>-19.470680000</td></tr>\n",
              "\t<tr><td>1</td><td>1</td><td> 11.453341176</td></tr>\n",
              "\t<tr><td>2</td><td>0</td><td> -1.249855317</td></tr>\n",
              "\t<tr><td>2</td><td>1</td><td>  1.393516848</td></tr>\n",
              "\t<tr><td>3</td><td>0</td><td> -0.006185855</td></tr>\n",
              "\t<tr><td>3</td><td>1</td><td>  0.019337293</td></tr>\n",
              "</tbody>\n",
              "</table>\n"
            ],
            "text/markdown": "\nA grouped_df: 6 × 3\n\n| Pclass &lt;int&gt; | Survived &lt;int&gt; | mean(Within_Class_Fare_Diff) &lt;dbl&gt; |\n|---|---|---|\n| 1 | 0 | -19.470680000 |\n| 1 | 1 |  11.453341176 |\n| 2 | 0 |  -1.249855317 |\n| 2 | 1 |   1.393516848 |\n| 3 | 0 |  -0.006185855 |\n| 3 | 1 |   0.019337293 |\n\n",
            "text/latex": "A grouped\\_df: 6 × 3\n\\begin{tabular}{lll}\n Pclass & Survived & mean(Within\\_Class\\_Fare\\_Diff)\\\\\n <int> & <int> & <dbl>\\\\\n\\hline\n\t 1 & 0 & -19.470680000\\\\\n\t 1 & 1 &  11.453341176\\\\\n\t 2 & 0 &  -1.249855317\\\\\n\t 2 & 1 &   1.393516848\\\\\n\t 3 & 0 &  -0.006185855\\\\\n\t 3 & 1 &   0.019337293\\\\\n\\end{tabular}\n",
            "text/plain": [
              "  Pclass Survived mean(Within_Class_Fare_Diff)\n",
              "1 1      0        -19.470680000               \n",
              "2 1      1         11.453341176               \n",
              "3 2      0         -1.249855317               \n",
              "4 2      1          1.393516848               \n",
              "5 3      0         -0.006185855               \n",
              "6 3      1          0.019337293               "
            ]
          },
          "metadata": {}
        }
      ]
    },
    {
      "cell_type": "markdown",
      "source": [
        "# **Dplyr:Joins**"
      ],
      "metadata": {
        "id": "7Sx9VDm_9U2L"
      }
    },
    {
      "cell_type": "markdown",
      "source": [
        "If you have data in multiple tables, you may need to combine them together before you can start using the other dplyr functions. Combining two data sets together based on a shared column (key column) is known as joining or merging data. dplyr offers several functions for common data joins. We'll some common joins on a fake data set I've prepared for this lesson.\n",
        "\n",
        "Note that if have data sets where all the columns are the same, but you just have different records and you want to concatenate them together, you don't need a join. Use the built in function rbind() or the dplyr function bind_rows() to paste the tables together. (Similarly, you can append new columns with cbind() or the dplyr function bind_cols())"
      ],
      "metadata": {
        "id": "oC9cle_w9auv"
      }
    },
    {
      "cell_type": "code",
      "source": [
        "table1 <- data.frame(P_ID = c(1:8),\n",
        "                     gender = c(\"male\", \"male\", \"female\",\"female\",\n",
        "                                \"female\", \"male\", \"female\", \"male\"),\n",
        "                     height = c(71,73,64,64,66,69,62,72),\n",
        "                     weight = c(175,225,130,125,165,160,115,250))\n",
        "\n",
        "table2 <- data.frame(P_ID = c(1, 2, 4, 5, 7, 8, 9, 10),\n",
        "                     sex = c(\"male\", \"male\", \"female\",\"female\",\n",
        "                                \"female\", \"male\", \"male\", \"female\"),\n",
        "                     visits = c(1,2,4,12,2,2,1,1),\n",
        "                     checkup = c(1,1,1,1,1,1,0,0),\n",
        "                     follow_up = c(0,0,1,2,0,0,0,0),\n",
        "                     illness = c(0,0,2,7,1,1,0,0),\n",
        "                     surgery = c(0,0,0,2,0,0,0,0),\n",
        "                     ER = c( 0,1,0,0,0,0,1,1))\n",
        "\n",
        "table1\n",
        "table2"
      ],
      "metadata": {
        "colab": {
          "base_uri": "https://localhost:8080/",
          "height": 680
        },
        "id": "NMqvUZv59ikz",
        "outputId": "1a8c539a-1fd8-47f3-f6b4-0906997f2297"
      },
      "execution_count": 109,
      "outputs": [
        {
          "output_type": "display_data",
          "data": {
            "text/html": [
              "<table class=\"dataframe\">\n",
              "<caption>A data.frame: 8 × 4</caption>\n",
              "<thead>\n",
              "\t<tr><th scope=col>P_ID</th><th scope=col>gender</th><th scope=col>height</th><th scope=col>weight</th></tr>\n",
              "\t<tr><th scope=col>&lt;int&gt;</th><th scope=col>&lt;chr&gt;</th><th scope=col>&lt;dbl&gt;</th><th scope=col>&lt;dbl&gt;</th></tr>\n",
              "</thead>\n",
              "<tbody>\n",
              "\t<tr><td>1</td><td>male  </td><td>71</td><td>175</td></tr>\n",
              "\t<tr><td>2</td><td>male  </td><td>73</td><td>225</td></tr>\n",
              "\t<tr><td>3</td><td>female</td><td>64</td><td>130</td></tr>\n",
              "\t<tr><td>4</td><td>female</td><td>64</td><td>125</td></tr>\n",
              "\t<tr><td>5</td><td>female</td><td>66</td><td>165</td></tr>\n",
              "\t<tr><td>6</td><td>male  </td><td>69</td><td>160</td></tr>\n",
              "\t<tr><td>7</td><td>female</td><td>62</td><td>115</td></tr>\n",
              "\t<tr><td>8</td><td>male  </td><td>72</td><td>250</td></tr>\n",
              "</tbody>\n",
              "</table>\n"
            ],
            "text/markdown": "\nA data.frame: 8 × 4\n\n| P_ID &lt;int&gt; | gender &lt;chr&gt; | height &lt;dbl&gt; | weight &lt;dbl&gt; |\n|---|---|---|---|\n| 1 | male   | 71 | 175 |\n| 2 | male   | 73 | 225 |\n| 3 | female | 64 | 130 |\n| 4 | female | 64 | 125 |\n| 5 | female | 66 | 165 |\n| 6 | male   | 69 | 160 |\n| 7 | female | 62 | 115 |\n| 8 | male   | 72 | 250 |\n\n",
            "text/latex": "A data.frame: 8 × 4\n\\begin{tabular}{llll}\n P\\_ID & gender & height & weight\\\\\n <int> & <chr> & <dbl> & <dbl>\\\\\n\\hline\n\t 1 & male   & 71 & 175\\\\\n\t 2 & male   & 73 & 225\\\\\n\t 3 & female & 64 & 130\\\\\n\t 4 & female & 64 & 125\\\\\n\t 5 & female & 66 & 165\\\\\n\t 6 & male   & 69 & 160\\\\\n\t 7 & female & 62 & 115\\\\\n\t 8 & male   & 72 & 250\\\\\n\\end{tabular}\n",
            "text/plain": [
              "  P_ID gender height weight\n",
              "1 1    male   71     175   \n",
              "2 2    male   73     225   \n",
              "3 3    female 64     130   \n",
              "4 4    female 64     125   \n",
              "5 5    female 66     165   \n",
              "6 6    male   69     160   \n",
              "7 7    female 62     115   \n",
              "8 8    male   72     250   "
            ]
          },
          "metadata": {}
        },
        {
          "output_type": "display_data",
          "data": {
            "text/html": [
              "<table class=\"dataframe\">\n",
              "<caption>A data.frame: 8 × 8</caption>\n",
              "<thead>\n",
              "\t<tr><th scope=col>P_ID</th><th scope=col>sex</th><th scope=col>visits</th><th scope=col>checkup</th><th scope=col>follow_up</th><th scope=col>illness</th><th scope=col>surgery</th><th scope=col>ER</th></tr>\n",
              "\t<tr><th scope=col>&lt;dbl&gt;</th><th scope=col>&lt;chr&gt;</th><th scope=col>&lt;dbl&gt;</th><th scope=col>&lt;dbl&gt;</th><th scope=col>&lt;dbl&gt;</th><th scope=col>&lt;dbl&gt;</th><th scope=col>&lt;dbl&gt;</th><th scope=col>&lt;dbl&gt;</th></tr>\n",
              "</thead>\n",
              "<tbody>\n",
              "\t<tr><td> 1</td><td>male  </td><td> 1</td><td>1</td><td>0</td><td>0</td><td>0</td><td>0</td></tr>\n",
              "\t<tr><td> 2</td><td>male  </td><td> 2</td><td>1</td><td>0</td><td>0</td><td>0</td><td>1</td></tr>\n",
              "\t<tr><td> 4</td><td>female</td><td> 4</td><td>1</td><td>1</td><td>2</td><td>0</td><td>0</td></tr>\n",
              "\t<tr><td> 5</td><td>female</td><td>12</td><td>1</td><td>2</td><td>7</td><td>2</td><td>0</td></tr>\n",
              "\t<tr><td> 7</td><td>female</td><td> 2</td><td>1</td><td>0</td><td>1</td><td>0</td><td>0</td></tr>\n",
              "\t<tr><td> 8</td><td>male  </td><td> 2</td><td>1</td><td>0</td><td>1</td><td>0</td><td>0</td></tr>\n",
              "\t<tr><td> 9</td><td>male  </td><td> 1</td><td>0</td><td>0</td><td>0</td><td>0</td><td>1</td></tr>\n",
              "\t<tr><td>10</td><td>female</td><td> 1</td><td>0</td><td>0</td><td>0</td><td>0</td><td>1</td></tr>\n",
              "</tbody>\n",
              "</table>\n"
            ],
            "text/markdown": "\nA data.frame: 8 × 8\n\n| P_ID &lt;dbl&gt; | sex &lt;chr&gt; | visits &lt;dbl&gt; | checkup &lt;dbl&gt; | follow_up &lt;dbl&gt; | illness &lt;dbl&gt; | surgery &lt;dbl&gt; | ER &lt;dbl&gt; |\n|---|---|---|---|---|---|---|---|\n|  1 | male   |  1 | 1 | 0 | 0 | 0 | 0 |\n|  2 | male   |  2 | 1 | 0 | 0 | 0 | 1 |\n|  4 | female |  4 | 1 | 1 | 2 | 0 | 0 |\n|  5 | female | 12 | 1 | 2 | 7 | 2 | 0 |\n|  7 | female |  2 | 1 | 0 | 1 | 0 | 0 |\n|  8 | male   |  2 | 1 | 0 | 1 | 0 | 0 |\n|  9 | male   |  1 | 0 | 0 | 0 | 0 | 1 |\n| 10 | female |  1 | 0 | 0 | 0 | 0 | 1 |\n\n",
            "text/latex": "A data.frame: 8 × 8\n\\begin{tabular}{llllllll}\n P\\_ID & sex & visits & checkup & follow\\_up & illness & surgery & ER\\\\\n <dbl> & <chr> & <dbl> & <dbl> & <dbl> & <dbl> & <dbl> & <dbl>\\\\\n\\hline\n\t  1 & male   &  1 & 1 & 0 & 0 & 0 & 0\\\\\n\t  2 & male   &  2 & 1 & 0 & 0 & 0 & 1\\\\\n\t  4 & female &  4 & 1 & 1 & 2 & 0 & 0\\\\\n\t  5 & female & 12 & 1 & 2 & 7 & 2 & 0\\\\\n\t  7 & female &  2 & 1 & 0 & 1 & 0 & 0\\\\\n\t  8 & male   &  2 & 1 & 0 & 1 & 0 & 0\\\\\n\t  9 & male   &  1 & 0 & 0 & 0 & 0 & 1\\\\\n\t 10 & female &  1 & 0 & 0 & 0 & 0 & 1\\\\\n\\end{tabular}\n",
            "text/plain": [
              "  P_ID sex    visits checkup follow_up illness surgery ER\n",
              "1  1   male    1     1       0         0       0       0 \n",
              "2  2   male    2     1       0         0       0       1 \n",
              "3  4   female  4     1       1         2       0       0 \n",
              "4  5   female 12     1       2         7       2       0 \n",
              "5  7   female  2     1       0         1       0       0 \n",
              "6  8   male    2     1       0         1       0       0 \n",
              "7  9   male    1     0       0         0       0       1 \n",
              "8 10   female  1     0       0         0       0       1 "
            ]
          },
          "metadata": {}
        }
      ]
    },
    {
      "cell_type": "code",
      "source": [
        "# Inner join\n",
        "table1 %>% inner_join(table2, by=\"P_ID\")"
      ],
      "metadata": {
        "colab": {
          "base_uri": "https://localhost:8080/",
          "height": 306
        },
        "id": "gse7-FDD_VkR",
        "outputId": "db03f82b-f0f3-43d2-a7c3-bac71ab19e62"
      },
      "execution_count": 110,
      "outputs": [
        {
          "output_type": "display_data",
          "data": {
            "text/html": [
              "<table class=\"dataframe\">\n",
              "<caption>A data.frame: 6 × 11</caption>\n",
              "<thead>\n",
              "\t<tr><th scope=col>P_ID</th><th scope=col>gender</th><th scope=col>height</th><th scope=col>weight</th><th scope=col>sex</th><th scope=col>visits</th><th scope=col>checkup</th><th scope=col>follow_up</th><th scope=col>illness</th><th scope=col>surgery</th><th scope=col>ER</th></tr>\n",
              "\t<tr><th scope=col>&lt;dbl&gt;</th><th scope=col>&lt;chr&gt;</th><th scope=col>&lt;dbl&gt;</th><th scope=col>&lt;dbl&gt;</th><th scope=col>&lt;chr&gt;</th><th scope=col>&lt;dbl&gt;</th><th scope=col>&lt;dbl&gt;</th><th scope=col>&lt;dbl&gt;</th><th scope=col>&lt;dbl&gt;</th><th scope=col>&lt;dbl&gt;</th><th scope=col>&lt;dbl&gt;</th></tr>\n",
              "</thead>\n",
              "<tbody>\n",
              "\t<tr><td>1</td><td>male  </td><td>71</td><td>175</td><td>male  </td><td> 1</td><td>1</td><td>0</td><td>0</td><td>0</td><td>0</td></tr>\n",
              "\t<tr><td>2</td><td>male  </td><td>73</td><td>225</td><td>male  </td><td> 2</td><td>1</td><td>0</td><td>0</td><td>0</td><td>1</td></tr>\n",
              "\t<tr><td>4</td><td>female</td><td>64</td><td>125</td><td>female</td><td> 4</td><td>1</td><td>1</td><td>2</td><td>0</td><td>0</td></tr>\n",
              "\t<tr><td>5</td><td>female</td><td>66</td><td>165</td><td>female</td><td>12</td><td>1</td><td>2</td><td>7</td><td>2</td><td>0</td></tr>\n",
              "\t<tr><td>7</td><td>female</td><td>62</td><td>115</td><td>female</td><td> 2</td><td>1</td><td>0</td><td>1</td><td>0</td><td>0</td></tr>\n",
              "\t<tr><td>8</td><td>male  </td><td>72</td><td>250</td><td>male  </td><td> 2</td><td>1</td><td>0</td><td>1</td><td>0</td><td>0</td></tr>\n",
              "</tbody>\n",
              "</table>\n"
            ],
            "text/markdown": "\nA data.frame: 6 × 11\n\n| P_ID &lt;dbl&gt; | gender &lt;chr&gt; | height &lt;dbl&gt; | weight &lt;dbl&gt; | sex &lt;chr&gt; | visits &lt;dbl&gt; | checkup &lt;dbl&gt; | follow_up &lt;dbl&gt; | illness &lt;dbl&gt; | surgery &lt;dbl&gt; | ER &lt;dbl&gt; |\n|---|---|---|---|---|---|---|---|---|---|---|\n| 1 | male   | 71 | 175 | male   |  1 | 1 | 0 | 0 | 0 | 0 |\n| 2 | male   | 73 | 225 | male   |  2 | 1 | 0 | 0 | 0 | 1 |\n| 4 | female | 64 | 125 | female |  4 | 1 | 1 | 2 | 0 | 0 |\n| 5 | female | 66 | 165 | female | 12 | 1 | 2 | 7 | 2 | 0 |\n| 7 | female | 62 | 115 | female |  2 | 1 | 0 | 1 | 0 | 0 |\n| 8 | male   | 72 | 250 | male   |  2 | 1 | 0 | 1 | 0 | 0 |\n\n",
            "text/latex": "A data.frame: 6 × 11\n\\begin{tabular}{lllllllllll}\n P\\_ID & gender & height & weight & sex & visits & checkup & follow\\_up & illness & surgery & ER\\\\\n <dbl> & <chr> & <dbl> & <dbl> & <chr> & <dbl> & <dbl> & <dbl> & <dbl> & <dbl> & <dbl>\\\\\n\\hline\n\t 1 & male   & 71 & 175 & male   &  1 & 1 & 0 & 0 & 0 & 0\\\\\n\t 2 & male   & 73 & 225 & male   &  2 & 1 & 0 & 0 & 0 & 1\\\\\n\t 4 & female & 64 & 125 & female &  4 & 1 & 1 & 2 & 0 & 0\\\\\n\t 5 & female & 66 & 165 & female & 12 & 1 & 2 & 7 & 2 & 0\\\\\n\t 7 & female & 62 & 115 & female &  2 & 1 & 0 & 1 & 0 & 0\\\\\n\t 8 & male   & 72 & 250 & male   &  2 & 1 & 0 & 1 & 0 & 0\\\\\n\\end{tabular}\n",
            "text/plain": [
              "  P_ID gender height weight sex    visits checkup follow_up illness surgery ER\n",
              "1 1    male   71     175    male    1     1       0         0       0       0 \n",
              "2 2    male   73     225    male    2     1       0         0       0       1 \n",
              "3 4    female 64     125    female  4     1       1         2       0       0 \n",
              "4 5    female 66     165    female 12     1       2         7       2       0 \n",
              "5 7    female 62     115    female  2     1       0         1       0       0 \n",
              "6 8    male   72     250    male    2     1       0         1       0       0 "
            ]
          },
          "metadata": {}
        }
      ]
    },
    {
      "cell_type": "code",
      "source": [
        "# Left join\n",
        "table1 %>% left_join(table2, by=\"P_ID\")"
      ],
      "metadata": {
        "colab": {
          "base_uri": "https://localhost:8080/",
          "height": 369
        },
        "id": "_Aprp5PT_vi3",
        "outputId": "1458970f-ca18-4fd7-ace7-d42929802da3"
      },
      "execution_count": 111,
      "outputs": [
        {
          "output_type": "display_data",
          "data": {
            "text/html": [
              "<table class=\"dataframe\">\n",
              "<caption>A data.frame: 8 × 11</caption>\n",
              "<thead>\n",
              "\t<tr><th scope=col>P_ID</th><th scope=col>gender</th><th scope=col>height</th><th scope=col>weight</th><th scope=col>sex</th><th scope=col>visits</th><th scope=col>checkup</th><th scope=col>follow_up</th><th scope=col>illness</th><th scope=col>surgery</th><th scope=col>ER</th></tr>\n",
              "\t<tr><th scope=col>&lt;dbl&gt;</th><th scope=col>&lt;chr&gt;</th><th scope=col>&lt;dbl&gt;</th><th scope=col>&lt;dbl&gt;</th><th scope=col>&lt;chr&gt;</th><th scope=col>&lt;dbl&gt;</th><th scope=col>&lt;dbl&gt;</th><th scope=col>&lt;dbl&gt;</th><th scope=col>&lt;dbl&gt;</th><th scope=col>&lt;dbl&gt;</th><th scope=col>&lt;dbl&gt;</th></tr>\n",
              "</thead>\n",
              "<tbody>\n",
              "\t<tr><td>1</td><td>male  </td><td>71</td><td>175</td><td>male  </td><td> 1</td><td> 1</td><td> 0</td><td> 0</td><td> 0</td><td> 0</td></tr>\n",
              "\t<tr><td>2</td><td>male  </td><td>73</td><td>225</td><td>male  </td><td> 2</td><td> 1</td><td> 0</td><td> 0</td><td> 0</td><td> 1</td></tr>\n",
              "\t<tr><td>3</td><td>female</td><td>64</td><td>130</td><td>NA    </td><td>NA</td><td>NA</td><td>NA</td><td>NA</td><td>NA</td><td>NA</td></tr>\n",
              "\t<tr><td>4</td><td>female</td><td>64</td><td>125</td><td>female</td><td> 4</td><td> 1</td><td> 1</td><td> 2</td><td> 0</td><td> 0</td></tr>\n",
              "\t<tr><td>5</td><td>female</td><td>66</td><td>165</td><td>female</td><td>12</td><td> 1</td><td> 2</td><td> 7</td><td> 2</td><td> 0</td></tr>\n",
              "\t<tr><td>6</td><td>male  </td><td>69</td><td>160</td><td>NA    </td><td>NA</td><td>NA</td><td>NA</td><td>NA</td><td>NA</td><td>NA</td></tr>\n",
              "\t<tr><td>7</td><td>female</td><td>62</td><td>115</td><td>female</td><td> 2</td><td> 1</td><td> 0</td><td> 1</td><td> 0</td><td> 0</td></tr>\n",
              "\t<tr><td>8</td><td>male  </td><td>72</td><td>250</td><td>male  </td><td> 2</td><td> 1</td><td> 0</td><td> 1</td><td> 0</td><td> 0</td></tr>\n",
              "</tbody>\n",
              "</table>\n"
            ],
            "text/markdown": "\nA data.frame: 8 × 11\n\n| P_ID &lt;dbl&gt; | gender &lt;chr&gt; | height &lt;dbl&gt; | weight &lt;dbl&gt; | sex &lt;chr&gt; | visits &lt;dbl&gt; | checkup &lt;dbl&gt; | follow_up &lt;dbl&gt; | illness &lt;dbl&gt; | surgery &lt;dbl&gt; | ER &lt;dbl&gt; |\n|---|---|---|---|---|---|---|---|---|---|---|\n| 1 | male   | 71 | 175 | male   |  1 |  1 |  0 |  0 |  0 |  0 |\n| 2 | male   | 73 | 225 | male   |  2 |  1 |  0 |  0 |  0 |  1 |\n| 3 | female | 64 | 130 | NA     | NA | NA | NA | NA | NA | NA |\n| 4 | female | 64 | 125 | female |  4 |  1 |  1 |  2 |  0 |  0 |\n| 5 | female | 66 | 165 | female | 12 |  1 |  2 |  7 |  2 |  0 |\n| 6 | male   | 69 | 160 | NA     | NA | NA | NA | NA | NA | NA |\n| 7 | female | 62 | 115 | female |  2 |  1 |  0 |  1 |  0 |  0 |\n| 8 | male   | 72 | 250 | male   |  2 |  1 |  0 |  1 |  0 |  0 |\n\n",
            "text/latex": "A data.frame: 8 × 11\n\\begin{tabular}{lllllllllll}\n P\\_ID & gender & height & weight & sex & visits & checkup & follow\\_up & illness & surgery & ER\\\\\n <dbl> & <chr> & <dbl> & <dbl> & <chr> & <dbl> & <dbl> & <dbl> & <dbl> & <dbl> & <dbl>\\\\\n\\hline\n\t 1 & male   & 71 & 175 & male   &  1 &  1 &  0 &  0 &  0 &  0\\\\\n\t 2 & male   & 73 & 225 & male   &  2 &  1 &  0 &  0 &  0 &  1\\\\\n\t 3 & female & 64 & 130 & NA     & NA & NA & NA & NA & NA & NA\\\\\n\t 4 & female & 64 & 125 & female &  4 &  1 &  1 &  2 &  0 &  0\\\\\n\t 5 & female & 66 & 165 & female & 12 &  1 &  2 &  7 &  2 &  0\\\\\n\t 6 & male   & 69 & 160 & NA     & NA & NA & NA & NA & NA & NA\\\\\n\t 7 & female & 62 & 115 & female &  2 &  1 &  0 &  1 &  0 &  0\\\\\n\t 8 & male   & 72 & 250 & male   &  2 &  1 &  0 &  1 &  0 &  0\\\\\n\\end{tabular}\n",
            "text/plain": [
              "  P_ID gender height weight sex    visits checkup follow_up illness surgery ER\n",
              "1 1    male   71     175    male    1      1       0         0       0       0\n",
              "2 2    male   73     225    male    2      1       0         0       0       1\n",
              "3 3    female 64     130    NA     NA     NA      NA        NA      NA      NA\n",
              "4 4    female 64     125    female  4      1       1         2       0       0\n",
              "5 5    female 66     165    female 12      1       2         7       2       0\n",
              "6 6    male   69     160    NA     NA     NA      NA        NA      NA      NA\n",
              "7 7    female 62     115    female  2      1       0         1       0       0\n",
              "8 8    male   72     250    male    2      1       0         1       0       0"
            ]
          },
          "metadata": {}
        }
      ]
    },
    {
      "cell_type": "code",
      "source": [
        "# Outer (full) join\n",
        "table1 %>% full_join(table2, by=\"P_ID\")"
      ],
      "metadata": {
        "colab": {
          "base_uri": "https://localhost:8080/",
          "height": 431
        },
        "id": "5W2zfpEx_0GO",
        "outputId": "58775aef-3dd7-425c-d6c5-4ff458ce1ebf"
      },
      "execution_count": 112,
      "outputs": [
        {
          "output_type": "display_data",
          "data": {
            "text/html": [
              "<table class=\"dataframe\">\n",
              "<caption>A data.frame: 10 × 11</caption>\n",
              "<thead>\n",
              "\t<tr><th scope=col>P_ID</th><th scope=col>gender</th><th scope=col>height</th><th scope=col>weight</th><th scope=col>sex</th><th scope=col>visits</th><th scope=col>checkup</th><th scope=col>follow_up</th><th scope=col>illness</th><th scope=col>surgery</th><th scope=col>ER</th></tr>\n",
              "\t<tr><th scope=col>&lt;dbl&gt;</th><th scope=col>&lt;chr&gt;</th><th scope=col>&lt;dbl&gt;</th><th scope=col>&lt;dbl&gt;</th><th scope=col>&lt;chr&gt;</th><th scope=col>&lt;dbl&gt;</th><th scope=col>&lt;dbl&gt;</th><th scope=col>&lt;dbl&gt;</th><th scope=col>&lt;dbl&gt;</th><th scope=col>&lt;dbl&gt;</th><th scope=col>&lt;dbl&gt;</th></tr>\n",
              "</thead>\n",
              "<tbody>\n",
              "\t<tr><td> 1</td><td>male  </td><td>71</td><td>175</td><td>male  </td><td> 1</td><td> 1</td><td> 0</td><td> 0</td><td> 0</td><td> 0</td></tr>\n",
              "\t<tr><td> 2</td><td>male  </td><td>73</td><td>225</td><td>male  </td><td> 2</td><td> 1</td><td> 0</td><td> 0</td><td> 0</td><td> 1</td></tr>\n",
              "\t<tr><td> 3</td><td>female</td><td>64</td><td>130</td><td>NA    </td><td>NA</td><td>NA</td><td>NA</td><td>NA</td><td>NA</td><td>NA</td></tr>\n",
              "\t<tr><td> 4</td><td>female</td><td>64</td><td>125</td><td>female</td><td> 4</td><td> 1</td><td> 1</td><td> 2</td><td> 0</td><td> 0</td></tr>\n",
              "\t<tr><td> 5</td><td>female</td><td>66</td><td>165</td><td>female</td><td>12</td><td> 1</td><td> 2</td><td> 7</td><td> 2</td><td> 0</td></tr>\n",
              "\t<tr><td> 6</td><td>male  </td><td>69</td><td>160</td><td>NA    </td><td>NA</td><td>NA</td><td>NA</td><td>NA</td><td>NA</td><td>NA</td></tr>\n",
              "\t<tr><td> 7</td><td>female</td><td>62</td><td>115</td><td>female</td><td> 2</td><td> 1</td><td> 0</td><td> 1</td><td> 0</td><td> 0</td></tr>\n",
              "\t<tr><td> 8</td><td>male  </td><td>72</td><td>250</td><td>male  </td><td> 2</td><td> 1</td><td> 0</td><td> 1</td><td> 0</td><td> 0</td></tr>\n",
              "\t<tr><td> 9</td><td>NA    </td><td>NA</td><td> NA</td><td>male  </td><td> 1</td><td> 0</td><td> 0</td><td> 0</td><td> 0</td><td> 1</td></tr>\n",
              "\t<tr><td>10</td><td>NA    </td><td>NA</td><td> NA</td><td>female</td><td> 1</td><td> 0</td><td> 0</td><td> 0</td><td> 0</td><td> 1</td></tr>\n",
              "</tbody>\n",
              "</table>\n"
            ],
            "text/markdown": "\nA data.frame: 10 × 11\n\n| P_ID &lt;dbl&gt; | gender &lt;chr&gt; | height &lt;dbl&gt; | weight &lt;dbl&gt; | sex &lt;chr&gt; | visits &lt;dbl&gt; | checkup &lt;dbl&gt; | follow_up &lt;dbl&gt; | illness &lt;dbl&gt; | surgery &lt;dbl&gt; | ER &lt;dbl&gt; |\n|---|---|---|---|---|---|---|---|---|---|---|\n|  1 | male   | 71 | 175 | male   |  1 |  1 |  0 |  0 |  0 |  0 |\n|  2 | male   | 73 | 225 | male   |  2 |  1 |  0 |  0 |  0 |  1 |\n|  3 | female | 64 | 130 | NA     | NA | NA | NA | NA | NA | NA |\n|  4 | female | 64 | 125 | female |  4 |  1 |  1 |  2 |  0 |  0 |\n|  5 | female | 66 | 165 | female | 12 |  1 |  2 |  7 |  2 |  0 |\n|  6 | male   | 69 | 160 | NA     | NA | NA | NA | NA | NA | NA |\n|  7 | female | 62 | 115 | female |  2 |  1 |  0 |  1 |  0 |  0 |\n|  8 | male   | 72 | 250 | male   |  2 |  1 |  0 |  1 |  0 |  0 |\n|  9 | NA     | NA |  NA | male   |  1 |  0 |  0 |  0 |  0 |  1 |\n| 10 | NA     | NA |  NA | female |  1 |  0 |  0 |  0 |  0 |  1 |\n\n",
            "text/latex": "A data.frame: 10 × 11\n\\begin{tabular}{lllllllllll}\n P\\_ID & gender & height & weight & sex & visits & checkup & follow\\_up & illness & surgery & ER\\\\\n <dbl> & <chr> & <dbl> & <dbl> & <chr> & <dbl> & <dbl> & <dbl> & <dbl> & <dbl> & <dbl>\\\\\n\\hline\n\t  1 & male   & 71 & 175 & male   &  1 &  1 &  0 &  0 &  0 &  0\\\\\n\t  2 & male   & 73 & 225 & male   &  2 &  1 &  0 &  0 &  0 &  1\\\\\n\t  3 & female & 64 & 130 & NA     & NA & NA & NA & NA & NA & NA\\\\\n\t  4 & female & 64 & 125 & female &  4 &  1 &  1 &  2 &  0 &  0\\\\\n\t  5 & female & 66 & 165 & female & 12 &  1 &  2 &  7 &  2 &  0\\\\\n\t  6 & male   & 69 & 160 & NA     & NA & NA & NA & NA & NA & NA\\\\\n\t  7 & female & 62 & 115 & female &  2 &  1 &  0 &  1 &  0 &  0\\\\\n\t  8 & male   & 72 & 250 & male   &  2 &  1 &  0 &  1 &  0 &  0\\\\\n\t  9 & NA     & NA &  NA & male   &  1 &  0 &  0 &  0 &  0 &  1\\\\\n\t 10 & NA     & NA &  NA & female &  1 &  0 &  0 &  0 &  0 &  1\\\\\n\\end{tabular}\n",
            "text/plain": [
              "   P_ID gender height weight sex    visits checkup follow_up illness surgery ER\n",
              "1   1   male   71     175    male    1      1       0         0       0       0\n",
              "2   2   male   73     225    male    2      1       0         0       0       1\n",
              "3   3   female 64     130    NA     NA     NA      NA        NA      NA      NA\n",
              "4   4   female 64     125    female  4      1       1         2       0       0\n",
              "5   5   female 66     165    female 12      1       2         7       2       0\n",
              "6   6   male   69     160    NA     NA     NA      NA        NA      NA      NA\n",
              "7   7   female 62     115    female  2      1       0         1       0       0\n",
              "8   8   male   72     250    male    2      1       0         1       0       0\n",
              "9   9   NA     NA      NA    male    1      0       0         0       0       1\n",
              "10 10   NA     NA      NA    female  1      0       0         0       0       1"
            ]
          },
          "metadata": {}
        }
      ]
    },
    {
      "cell_type": "code",
      "source": [
        "# You can specify multiple key columns to join upon\n",
        "table1 %>% full_join(table2, by=c(\"P_ID\", \"gender\" = \"sex\"))"
      ],
      "metadata": {
        "colab": {
          "base_uri": "https://localhost:8080/",
          "height": 431
        },
        "id": "vp8ZigodAkuV",
        "outputId": "38083c9a-90d3-4dd2-fcbf-2624c7fcd278"
      },
      "execution_count": 113,
      "outputs": [
        {
          "output_type": "display_data",
          "data": {
            "text/html": [
              "<table class=\"dataframe\">\n",
              "<caption>A data.frame: 10 × 10</caption>\n",
              "<thead>\n",
              "\t<tr><th scope=col>P_ID</th><th scope=col>gender</th><th scope=col>height</th><th scope=col>weight</th><th scope=col>visits</th><th scope=col>checkup</th><th scope=col>follow_up</th><th scope=col>illness</th><th scope=col>surgery</th><th scope=col>ER</th></tr>\n",
              "\t<tr><th scope=col>&lt;dbl&gt;</th><th scope=col>&lt;chr&gt;</th><th scope=col>&lt;dbl&gt;</th><th scope=col>&lt;dbl&gt;</th><th scope=col>&lt;dbl&gt;</th><th scope=col>&lt;dbl&gt;</th><th scope=col>&lt;dbl&gt;</th><th scope=col>&lt;dbl&gt;</th><th scope=col>&lt;dbl&gt;</th><th scope=col>&lt;dbl&gt;</th></tr>\n",
              "</thead>\n",
              "<tbody>\n",
              "\t<tr><td> 1</td><td>male  </td><td>71</td><td>175</td><td> 1</td><td> 1</td><td> 0</td><td> 0</td><td> 0</td><td> 0</td></tr>\n",
              "\t<tr><td> 2</td><td>male  </td><td>73</td><td>225</td><td> 2</td><td> 1</td><td> 0</td><td> 0</td><td> 0</td><td> 1</td></tr>\n",
              "\t<tr><td> 3</td><td>female</td><td>64</td><td>130</td><td>NA</td><td>NA</td><td>NA</td><td>NA</td><td>NA</td><td>NA</td></tr>\n",
              "\t<tr><td> 4</td><td>female</td><td>64</td><td>125</td><td> 4</td><td> 1</td><td> 1</td><td> 2</td><td> 0</td><td> 0</td></tr>\n",
              "\t<tr><td> 5</td><td>female</td><td>66</td><td>165</td><td>12</td><td> 1</td><td> 2</td><td> 7</td><td> 2</td><td> 0</td></tr>\n",
              "\t<tr><td> 6</td><td>male  </td><td>69</td><td>160</td><td>NA</td><td>NA</td><td>NA</td><td>NA</td><td>NA</td><td>NA</td></tr>\n",
              "\t<tr><td> 7</td><td>female</td><td>62</td><td>115</td><td> 2</td><td> 1</td><td> 0</td><td> 1</td><td> 0</td><td> 0</td></tr>\n",
              "\t<tr><td> 8</td><td>male  </td><td>72</td><td>250</td><td> 2</td><td> 1</td><td> 0</td><td> 1</td><td> 0</td><td> 0</td></tr>\n",
              "\t<tr><td> 9</td><td>male  </td><td>NA</td><td> NA</td><td> 1</td><td> 0</td><td> 0</td><td> 0</td><td> 0</td><td> 1</td></tr>\n",
              "\t<tr><td>10</td><td>female</td><td>NA</td><td> NA</td><td> 1</td><td> 0</td><td> 0</td><td> 0</td><td> 0</td><td> 1</td></tr>\n",
              "</tbody>\n",
              "</table>\n"
            ],
            "text/markdown": "\nA data.frame: 10 × 10\n\n| P_ID &lt;dbl&gt; | gender &lt;chr&gt; | height &lt;dbl&gt; | weight &lt;dbl&gt; | visits &lt;dbl&gt; | checkup &lt;dbl&gt; | follow_up &lt;dbl&gt; | illness &lt;dbl&gt; | surgery &lt;dbl&gt; | ER &lt;dbl&gt; |\n|---|---|---|---|---|---|---|---|---|---|\n|  1 | male   | 71 | 175 |  1 |  1 |  0 |  0 |  0 |  0 |\n|  2 | male   | 73 | 225 |  2 |  1 |  0 |  0 |  0 |  1 |\n|  3 | female | 64 | 130 | NA | NA | NA | NA | NA | NA |\n|  4 | female | 64 | 125 |  4 |  1 |  1 |  2 |  0 |  0 |\n|  5 | female | 66 | 165 | 12 |  1 |  2 |  7 |  2 |  0 |\n|  6 | male   | 69 | 160 | NA | NA | NA | NA | NA | NA |\n|  7 | female | 62 | 115 |  2 |  1 |  0 |  1 |  0 |  0 |\n|  8 | male   | 72 | 250 |  2 |  1 |  0 |  1 |  0 |  0 |\n|  9 | male   | NA |  NA |  1 |  0 |  0 |  0 |  0 |  1 |\n| 10 | female | NA |  NA |  1 |  0 |  0 |  0 |  0 |  1 |\n\n",
            "text/latex": "A data.frame: 10 × 10\n\\begin{tabular}{llllllllll}\n P\\_ID & gender & height & weight & visits & checkup & follow\\_up & illness & surgery & ER\\\\\n <dbl> & <chr> & <dbl> & <dbl> & <dbl> & <dbl> & <dbl> & <dbl> & <dbl> & <dbl>\\\\\n\\hline\n\t  1 & male   & 71 & 175 &  1 &  1 &  0 &  0 &  0 &  0\\\\\n\t  2 & male   & 73 & 225 &  2 &  1 &  0 &  0 &  0 &  1\\\\\n\t  3 & female & 64 & 130 & NA & NA & NA & NA & NA & NA\\\\\n\t  4 & female & 64 & 125 &  4 &  1 &  1 &  2 &  0 &  0\\\\\n\t  5 & female & 66 & 165 & 12 &  1 &  2 &  7 &  2 &  0\\\\\n\t  6 & male   & 69 & 160 & NA & NA & NA & NA & NA & NA\\\\\n\t  7 & female & 62 & 115 &  2 &  1 &  0 &  1 &  0 &  0\\\\\n\t  8 & male   & 72 & 250 &  2 &  1 &  0 &  1 &  0 &  0\\\\\n\t  9 & male   & NA &  NA &  1 &  0 &  0 &  0 &  0 &  1\\\\\n\t 10 & female & NA &  NA &  1 &  0 &  0 &  0 &  0 &  1\\\\\n\\end{tabular}\n",
            "text/plain": [
              "   P_ID gender height weight visits checkup follow_up illness surgery ER\n",
              "1   1   male   71     175     1      1       0         0       0       0\n",
              "2   2   male   73     225     2      1       0         0       0       1\n",
              "3   3   female 64     130    NA     NA      NA        NA      NA      NA\n",
              "4   4   female 64     125     4      1       1         2       0       0\n",
              "5   5   female 66     165    12      1       2         7       2       0\n",
              "6   6   male   69     160    NA     NA      NA        NA      NA      NA\n",
              "7   7   female 62     115     2      1       0         1       0       0\n",
              "8   8   male   72     250     2      1       0         1       0       0\n",
              "9   9   male   NA      NA     1      0       0         0       0       1\n",
              "10 10   female NA      NA     1      0       0         0       0       1"
            ]
          },
          "metadata": {}
        }
      ]
    },
    {
      "cell_type": "markdown",
      "source": [
        "Identify records in table1 that do not have a match in table2 with anti_join()"
      ],
      "metadata": {
        "id": "mlLISMASBMyf"
      }
    },
    {
      "cell_type": "code",
      "source": [
        "table1 %>% anti_join(table2, by=\"P_ID\")"
      ],
      "metadata": {
        "colab": {
          "base_uri": "https://localhost:8080/",
          "height": 160
        },
        "id": "ZYWfklADA_Gm",
        "outputId": "7de7cf46-2add-48ac-e034-c4edc884cfb5"
      },
      "execution_count": 114,
      "outputs": [
        {
          "output_type": "display_data",
          "data": {
            "text/html": [
              "<table class=\"dataframe\">\n",
              "<caption>A data.frame: 2 × 4</caption>\n",
              "<thead>\n",
              "\t<tr><th scope=col>P_ID</th><th scope=col>gender</th><th scope=col>height</th><th scope=col>weight</th></tr>\n",
              "\t<tr><th scope=col>&lt;int&gt;</th><th scope=col>&lt;chr&gt;</th><th scope=col>&lt;dbl&gt;</th><th scope=col>&lt;dbl&gt;</th></tr>\n",
              "</thead>\n",
              "<tbody>\n",
              "\t<tr><td>3</td><td>female</td><td>64</td><td>130</td></tr>\n",
              "\t<tr><td>6</td><td>male  </td><td>69</td><td>160</td></tr>\n",
              "</tbody>\n",
              "</table>\n"
            ],
            "text/markdown": "\nA data.frame: 2 × 4\n\n| P_ID &lt;int&gt; | gender &lt;chr&gt; | height &lt;dbl&gt; | weight &lt;dbl&gt; |\n|---|---|---|---|\n| 3 | female | 64 | 130 |\n| 6 | male   | 69 | 160 |\n\n",
            "text/latex": "A data.frame: 2 × 4\n\\begin{tabular}{llll}\n P\\_ID & gender & height & weight\\\\\n <int> & <chr> & <dbl> & <dbl>\\\\\n\\hline\n\t 3 & female & 64 & 130\\\\\n\t 6 & male   & 69 & 160\\\\\n\\end{tabular}\n",
            "text/plain": [
              "  P_ID gender height weight\n",
              "1 3    female 64     130   \n",
              "2 6    male   69     160   "
            ]
          },
          "metadata": {}
        }
      ]
    },
    {
      "cell_type": "markdown",
      "source": [
        "Identify records in table1 that do not have a match in table2 with anti_join()"
      ],
      "metadata": {
        "id": "PFGUCGZ1BZ3L"
      }
    },
    {
      "cell_type": "code",
      "source": [
        "table1 %>% anti_join(table2, by=\"P_ID\")"
      ],
      "metadata": {
        "colab": {
          "base_uri": "https://localhost:8080/",
          "height": 160
        },
        "id": "jG0Jlt5XBbWA",
        "outputId": "9603638a-8f65-4ded-d207-703b12c78cfc"
      },
      "execution_count": 115,
      "outputs": [
        {
          "output_type": "display_data",
          "data": {
            "text/html": [
              "<table class=\"dataframe\">\n",
              "<caption>A data.frame: 2 × 4</caption>\n",
              "<thead>\n",
              "\t<tr><th scope=col>P_ID</th><th scope=col>gender</th><th scope=col>height</th><th scope=col>weight</th></tr>\n",
              "\t<tr><th scope=col>&lt;int&gt;</th><th scope=col>&lt;chr&gt;</th><th scope=col>&lt;dbl&gt;</th><th scope=col>&lt;dbl&gt;</th></tr>\n",
              "</thead>\n",
              "<tbody>\n",
              "\t<tr><td>3</td><td>female</td><td>64</td><td>130</td></tr>\n",
              "\t<tr><td>6</td><td>male  </td><td>69</td><td>160</td></tr>\n",
              "</tbody>\n",
              "</table>\n"
            ],
            "text/markdown": "\nA data.frame: 2 × 4\n\n| P_ID &lt;int&gt; | gender &lt;chr&gt; | height &lt;dbl&gt; | weight &lt;dbl&gt; |\n|---|---|---|---|\n| 3 | female | 64 | 130 |\n| 6 | male   | 69 | 160 |\n\n",
            "text/latex": "A data.frame: 2 × 4\n\\begin{tabular}{llll}\n P\\_ID & gender & height & weight\\\\\n <int> & <chr> & <dbl> & <dbl>\\\\\n\\hline\n\t 3 & female & 64 & 130\\\\\n\t 6 & male   & 69 & 160\\\\\n\\end{tabular}\n",
            "text/plain": [
              "  P_ID gender height weight\n",
              "1 3    female 64     130   \n",
              "2 6    male   69     160   "
            ]
          },
          "metadata": {}
        }
      ]
    }
  ]
}